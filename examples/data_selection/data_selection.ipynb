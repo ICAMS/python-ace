{
 "cells": [
  {
   "cell_type": "code",
   "execution_count": 1,
   "id": "d25e2d1f",
   "metadata": {},
   "outputs": [
    {
     "name": "stdout",
     "output_type": "stream",
     "text": [
      "Populating the interactive namespace from numpy and matplotlib\n"
     ]
    }
   ],
   "source": [
    "%pylab inline"
   ]
  },
  {
   "cell_type": "code",
   "execution_count": 2,
   "id": "a1cfae66",
   "metadata": {},
   "outputs": [],
   "source": [
    "import pandas as pd"
   ]
  },
  {
   "cell_type": "code",
   "execution_count": 3,
   "id": "24c00f84",
   "metadata": {},
   "outputs": [],
   "source": [
    "from pyace import *"
   ]
  },
  {
   "cell_type": "markdown",
   "id": "99c20b5e",
   "metadata": {},
   "source": [
    "Read original dataset"
   ]
  },
  {
   "cell_type": "code",
   "execution_count": 4,
   "id": "f67683e5",
   "metadata": {},
   "outputs": [],
   "source": [
    "df=pd.read_pickle(\"../Cu-II/Cu_df2_1k.pkl.gzip\",compression=\"gzip\")"
   ]
  },
  {
   "cell_type": "code",
   "execution_count": 5,
   "id": "82f6fb84",
   "metadata": {},
   "outputs": [
    {
     "data": {
      "text/html": [
       "<div>\n",
       "<style scoped>\n",
       "    .dataframe tbody tr th:only-of-type {\n",
       "        vertical-align: middle;\n",
       "    }\n",
       "\n",
       "    .dataframe tbody tr th {\n",
       "        vertical-align: top;\n",
       "    }\n",
       "\n",
       "    .dataframe thead th {\n",
       "        text-align: right;\n",
       "    }\n",
       "</style>\n",
       "<table border=\"1\" class=\"dataframe\">\n",
       "  <thead>\n",
       "    <tr style=\"text-align: right;\">\n",
       "      <th></th>\n",
       "      <th>name</th>\n",
       "      <th>ase_atoms</th>\n",
       "      <th>energy_corrected</th>\n",
       "      <th>forces</th>\n",
       "      <th>energy_corrected_per_atom</th>\n",
       "    </tr>\n",
       "  </thead>\n",
       "  <tbody>\n",
       "    <tr>\n",
       "      <th>0</th>\n",
       "      <td>A1:FHI-aims/PBE/tight:elastic:s_e_0</td>\n",
       "      <td>(Atom('Cu', [0.0, 0.0, 0.0], index=0))</td>\n",
       "      <td>-3.699843</td>\n",
       "      <td>[[0.0, 0.0, 0.0]]</td>\n",
       "      <td>-3.699843</td>\n",
       "    </tr>\n",
       "    <tr>\n",
       "      <th>1</th>\n",
       "      <td>A1:FHI-aims/PBE/tight:murnaghan:strain_1_0</td>\n",
       "      <td>(Atom('Cu', [0.0, 0.0, 0.0], index=0))</td>\n",
       "      <td>-3.699841</td>\n",
       "      <td>[[0.0, 0.0, 0.0]]</td>\n",
       "      <td>-3.699841</td>\n",
       "    </tr>\n",
       "    <tr>\n",
       "      <th>2</th>\n",
       "      <td>A1:FHI-aims/PBE/tight:phonon:supercell_phonon_0</td>\n",
       "      <td>(Atom('Cu', [4.3368086899420173e-19, 0.0070709...</td>\n",
       "      <td>-236.789603</td>\n",
       "      <td>[[-1.13852957740976e-06, -0.0464638907314277, ...</td>\n",
       "      <td>-3.699838</td>\n",
       "    </tr>\n",
       "    <tr>\n",
       "      <th>3</th>\n",
       "      <td>A1:FHI-aims/PBE/tight:murnaghan:strain_1_02</td>\n",
       "      <td>(Atom('Cu', [0.0, 0.0, 0.0], index=0))</td>\n",
       "      <td>-3.697932</td>\n",
       "      <td>[[0.0, 0.0, 0.0]]</td>\n",
       "      <td>-3.697932</td>\n",
       "    </tr>\n",
       "    <tr>\n",
       "      <th>4</th>\n",
       "      <td>A1:FHI-aims/PBE/tight:qha:phonopy_strain_1_02:...</td>\n",
       "      <td>(Atom('Cu', [0.0, 0.007070999999999999, 0.0070...</td>\n",
       "      <td>-236.667372</td>\n",
       "      <td>[[-1.7950713845026e-06, -0.0426786586259085, -...</td>\n",
       "      <td>-3.697928</td>\n",
       "    </tr>\n",
       "    <tr>\n",
       "      <th>...</th>\n",
       "      <td>...</td>\n",
       "      <td>...</td>\n",
       "      <td>...</td>\n",
       "      <td>...</td>\n",
       "      <td>...</td>\n",
       "    </tr>\n",
       "    <tr>\n",
       "      <th>995</th>\n",
       "      <td>Zr4Al3</td>\n",
       "      <td>(Atom('Cu', [1.397, 0.806558, 0.0], index=0), ...</td>\n",
       "      <td>-18.922813</td>\n",
       "      <td>[[-6.18422096975777e-08, 3.90650715661433e-08,...</td>\n",
       "      <td>-2.703259</td>\n",
       "    </tr>\n",
       "    <tr>\n",
       "      <th>996</th>\n",
       "      <td>fcc_100surf_X110_Y-110_Z001_4at_d0.95</td>\n",
       "      <td>(Atom('Cu', [0.0, 0.0, 0.0], index=0), Atom('C...</td>\n",
       "      <td>-10.811770</td>\n",
       "      <td>[[-4.30878346990838e-07, -7.31495829958533e-08...</td>\n",
       "      <td>-2.702942</td>\n",
       "    </tr>\n",
       "    <tr>\n",
       "      <th>997</th>\n",
       "      <td>ran2.7197</td>\n",
       "      <td>(Atom('Cu', [0.0, 0.0, 0.0], index=0), Atom('C...</td>\n",
       "      <td>-5.405739</td>\n",
       "      <td>[[-0.233777024216308, -0.488775610406501, 0.45...</td>\n",
       "      <td>-2.702869</td>\n",
       "    </tr>\n",
       "    <tr>\n",
       "      <th>998</th>\n",
       "      <td>A15.shakesmallsuper2.14</td>\n",
       "      <td>(Atom('Cu', [19.532944999999994, -0.449866, 19...</td>\n",
       "      <td>-172.952480</td>\n",
       "      <td>[[0.872967501214253, 0.798687481685555, 0.8365...</td>\n",
       "      <td>-2.702382</td>\n",
       "    </tr>\n",
       "    <tr>\n",
       "      <th>999</th>\n",
       "      <td>A15.shakesmallsuper2corrected.26</td>\n",
       "      <td>(Atom('Cu', [11.302489999999999, 10.996904, 10...</td>\n",
       "      <td>-172.848259</td>\n",
       "      <td>[[-0.0565593911501715, 0.0441732952826791, 0.0...</td>\n",
       "      <td>-2.700754</td>\n",
       "    </tr>\n",
       "  </tbody>\n",
       "</table>\n",
       "<p>1000 rows × 5 columns</p>\n",
       "</div>"
      ],
      "text/plain": [
       "                                                  name  \\\n",
       "0                  A1:FHI-aims/PBE/tight:elastic:s_e_0   \n",
       "1           A1:FHI-aims/PBE/tight:murnaghan:strain_1_0   \n",
       "2      A1:FHI-aims/PBE/tight:phonon:supercell_phonon_0   \n",
       "3          A1:FHI-aims/PBE/tight:murnaghan:strain_1_02   \n",
       "4    A1:FHI-aims/PBE/tight:qha:phonopy_strain_1_02:...   \n",
       "..                                                 ...   \n",
       "995                                             Zr4Al3   \n",
       "996              fcc_100surf_X110_Y-110_Z001_4at_d0.95   \n",
       "997                                          ran2.7197   \n",
       "998                            A15.shakesmallsuper2.14   \n",
       "999                   A15.shakesmallsuper2corrected.26   \n",
       "\n",
       "                                             ase_atoms  energy_corrected  \\\n",
       "0               (Atom('Cu', [0.0, 0.0, 0.0], index=0))         -3.699843   \n",
       "1               (Atom('Cu', [0.0, 0.0, 0.0], index=0))         -3.699841   \n",
       "2    (Atom('Cu', [4.3368086899420173e-19, 0.0070709...       -236.789603   \n",
       "3               (Atom('Cu', [0.0, 0.0, 0.0], index=0))         -3.697932   \n",
       "4    (Atom('Cu', [0.0, 0.007070999999999999, 0.0070...       -236.667372   \n",
       "..                                                 ...               ...   \n",
       "995  (Atom('Cu', [1.397, 0.806558, 0.0], index=0), ...        -18.922813   \n",
       "996  (Atom('Cu', [0.0, 0.0, 0.0], index=0), Atom('C...        -10.811770   \n",
       "997  (Atom('Cu', [0.0, 0.0, 0.0], index=0), Atom('C...         -5.405739   \n",
       "998  (Atom('Cu', [19.532944999999994, -0.449866, 19...       -172.952480   \n",
       "999  (Atom('Cu', [11.302489999999999, 10.996904, 10...       -172.848259   \n",
       "\n",
       "                                                forces  \\\n",
       "0                                    [[0.0, 0.0, 0.0]]   \n",
       "1                                    [[0.0, 0.0, 0.0]]   \n",
       "2    [[-1.13852957740976e-06, -0.0464638907314277, ...   \n",
       "3                                    [[0.0, 0.0, 0.0]]   \n",
       "4    [[-1.7950713845026e-06, -0.0426786586259085, -...   \n",
       "..                                                 ...   \n",
       "995  [[-6.18422096975777e-08, 3.90650715661433e-08,...   \n",
       "996  [[-4.30878346990838e-07, -7.31495829958533e-08...   \n",
       "997  [[-0.233777024216308, -0.488775610406501, 0.45...   \n",
       "998  [[0.872967501214253, 0.798687481685555, 0.8365...   \n",
       "999  [[-0.0565593911501715, 0.0441732952826791, 0.0...   \n",
       "\n",
       "     energy_corrected_per_atom  \n",
       "0                    -3.699843  \n",
       "1                    -3.699841  \n",
       "2                    -3.699838  \n",
       "3                    -3.697932  \n",
       "4                    -3.697928  \n",
       "..                         ...  \n",
       "995                  -2.703259  \n",
       "996                  -2.702942  \n",
       "997                  -2.702869  \n",
       "998                  -2.702382  \n",
       "999                  -2.700754  \n",
       "\n",
       "[1000 rows x 5 columns]"
      ]
     },
     "execution_count": 5,
     "metadata": {},
     "output_type": "execute_result"
    }
   ],
   "source": [
    "df"
   ]
  },
  {
   "cell_type": "markdown",
   "id": "818bfb56",
   "metadata": {},
   "source": [
    "# Visualize energy and forces distribution"
   ]
  },
  {
   "cell_type": "code",
   "execution_count": 6,
   "id": "d804775d",
   "metadata": {},
   "outputs": [
    {
     "data": {
      "text/plain": [
       "Text(0.5, 0, 'E, eV/atom')"
      ]
     },
     "execution_count": 6,
     "metadata": {},
     "output_type": "execute_result"
    },
    {
     "data": {
      "image/png": "[encoded data removed]",
      "text/plain": [
       "<Figure size 432x288 with 1 Axes>"
      ]
     },
     "metadata": {
      "needs_background": "light"
     },
     "output_type": "display_data"
    }
   ],
   "source": [
    "df[\"energy_corrected_per_atom\"].hist(bins=100);\n",
    "plt.xlabel(\"E, eV/atom\")"
   ]
  },
  {
   "cell_type": "markdown",
   "id": "e1ca6313",
   "metadata": {},
   "source": [
    "Stack forces of all atoms in dataset"
   ]
  },
  {
   "cell_type": "code",
   "execution_count": 7,
   "id": "9e077a31",
   "metadata": {},
   "outputs": [
    {
     "data": {
      "text/plain": [
       "(11309, 3)"
      ]
     },
     "execution_count": 7,
     "metadata": {},
     "output_type": "execute_result"
    }
   ],
   "source": [
    "forces=np.vstack(df[\"forces\"])\n",
    "forces.shape"
   ]
  },
  {
   "cell_type": "code",
   "execution_count": 8,
   "id": "ee700713",
   "metadata": {},
   "outputs": [
    {
     "data": {
      "text/plain": [
       "Text(0.5, 0, 'F, eV/A')"
      ]
     },
     "execution_count": 8,
     "metadata": {},
     "output_type": "execute_result"
    },
    {
     "data": {
      "image/png": "[encoded data removed]",
      "text/plain": [
       "<Figure size 432x288 with 1 Axes>"
      ]
     },
     "metadata": {
      "needs_background": "light"
     },
     "output_type": "display_data"
    }
   ],
   "source": [
    "plt.hist(forces.flatten(),\n",
    "         bins=np.linspace(-2,2,100));\n",
    "plt.xlabel(\"F, eV/A\")"
   ]
  },
  {
   "cell_type": "code",
   "execution_count": null,
   "id": "c1c24540",
   "metadata": {},
   "outputs": [],
   "source": []
  },
  {
   "cell_type": "markdown",
   "id": "32675667",
   "metadata": {},
   "source": [
    "# Subset selection"
   ]
  },
  {
   "cell_type": "markdown",
   "id": "849539ed",
   "metadata": {},
   "source": [
    "## FCC-related only"
   ]
  },
  {
   "cell_type": "markdown",
   "id": "f669659e",
   "metadata": {},
   "source": [
    "select all structures where `name` contains \"fcc\""
   ]
  },
  {
   "cell_type": "code",
   "execution_count": 9,
   "id": "146e7c36",
   "metadata": {},
   "outputs": [],
   "source": [
    "fcc_related_mask = df[\"name\"].str.contains(\"fcc\")"
   ]
  },
  {
   "cell_type": "code",
   "execution_count": 11,
   "id": "00b84335",
   "metadata": {},
   "outputs": [],
   "source": [
    "df_selected = df[fcc_related_mask]"
   ]
  },
  {
   "cell_type": "code",
   "execution_count": 12,
   "id": "641753db",
   "metadata": {},
   "outputs": [
    {
     "data": {
      "text/plain": [
       "(410, 5)"
      ]
     },
     "execution_count": 12,
     "metadata": {},
     "output_type": "execute_result"
    }
   ],
   "source": [
    "df_selected.shape"
   ]
  },
  {
   "cell_type": "markdown",
   "id": "54934572",
   "metadata": {},
   "source": [
    "Save selected dataset to the new file"
   ]
  },
  {
   "cell_type": "code",
   "execution_count": 26,
   "id": "d3a29c19",
   "metadata": {},
   "outputs": [],
   "source": [
    "df_selected.to_pickle(\"Cu-fcc-only.pckl.gzip\",compression=\"gzip\")"
   ]
  },
  {
   "cell_type": "markdown",
   "id": "bb027a23",
   "metadata": {},
   "source": [
    "## Structures up-to 0.5 eV/atom above minimum"
   ]
  },
  {
   "cell_type": "code",
   "execution_count": 13,
   "id": "2d3182f0",
   "metadata": {},
   "outputs": [
    {
     "name": "stdout",
     "output_type": "stream",
     "text": [
      "e_min = -3.699842546498985 eV/atom\n"
     ]
    }
   ],
   "source": [
    "e_min = df[\"energy_corrected_per_atom\"].min()\n",
    "print(\"e_min = {} eV/atom\".format(e_min))"
   ]
  },
  {
   "cell_type": "code",
   "execution_count": 14,
   "id": "efe0883d",
   "metadata": {},
   "outputs": [],
   "source": [
    "below_3eV_mask = df[\"energy_corrected_per_atom\"]<=e_min + 0.5"
   ]
  },
  {
   "cell_type": "code",
   "execution_count": 15,
   "id": "6a3d1a88",
   "metadata": {},
   "outputs": [
    {
     "data": {
      "text/plain": [
       "(675, 5)"
      ]
     },
     "execution_count": 15,
     "metadata": {},
     "output_type": "execute_result"
    }
   ],
   "source": [
    "df_selected = df[below_3eV_mask]\n",
    "df_selected.shape"
   ]
  },
  {
   "cell_type": "markdown",
   "id": "cdb1a007",
   "metadata": {},
   "source": [
    "Save selected dataset to the new file"
   ]
  },
  {
   "cell_type": "code",
   "execution_count": 16,
   "id": "24636784",
   "metadata": {},
   "outputs": [],
   "source": [
    "df_selected.to_pickle(\"Cu-0.5eV.pckl.gzip\", compression=\"gzip\")"
   ]
  },
  {
   "cell_type": "markdown",
   "id": "159d879c",
   "metadata": {},
   "source": [
    "## Exclude all 'shake' structures"
   ]
  },
  {
   "cell_type": "markdown",
   "id": "86e84cf5",
   "metadata": {},
   "source": [
    "select all structures where `name` DOES NOT contain \"shake\""
   ]
  },
  {
   "cell_type": "code",
   "execution_count": 17,
   "id": "15ba01ca",
   "metadata": {},
   "outputs": [
    {
     "data": {
      "text/plain": [
       "(668, 5)"
      ]
     },
     "execution_count": 17,
     "metadata": {},
     "output_type": "execute_result"
    }
   ],
   "source": [
    "df_selected = df[~df[\"name\"].str.contains(\"shake\")]\n",
    "df_selected.shape"
   ]
  },
  {
   "cell_type": "markdown",
   "id": "fcf9f83d",
   "metadata": {},
   "source": [
    "Save selected dataset to the new file"
   ]
  },
  {
   "cell_type": "code",
   "execution_count": 18,
   "id": "e1aefe75",
   "metadata": {},
   "outputs": [],
   "source": [
    "df_selected.to_pickle(\"Cu-no-shake.pckl.gzip\", compression=\"gzip\")"
   ]
  },
  {
   "cell_type": "code",
   "execution_count": null,
   "id": "142f5b43",
   "metadata": {},
   "outputs": [],
   "source": []
  }
 ],
 "metadata": {
  "kernelspec": {
   "display_name": "Python 3",
   "language": "python",
   "name": "python3"
  },
  "language_info": {
   "codemirror_mode": {
    "name": "ipython",
    "version": 3
   },
   "file_extension": ".py",
   "mimetype": "text/x-python",
   "name": "python",
   "nbconvert_exporter": "python",
   "pygments_lexer": "ipython3",
   "version": "3.8.5"
  }
 },
 "nbformat": 4,
 "nbformat_minor": 5
}
