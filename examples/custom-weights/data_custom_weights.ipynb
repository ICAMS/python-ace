{
 "cells": [
  {
   "cell_type": "code",
   "execution_count": 1,
   "metadata": {},
   "outputs": [
    {
     "name": "stdout",
     "output_type": "stream",
     "text": [
      "Populating the interactive namespace from numpy and matplotlib\n"
     ]
    }
   ],
   "source": [
    "%pylab inline"
   ]
  },
  {
   "cell_type": "code",
   "execution_count": 2,
   "metadata": {},
   "outputs": [],
   "source": [
    "import pandas as pd"
   ]
  },
  {
   "cell_type": "code",
   "execution_count": 3,
   "metadata": {},
   "outputs": [],
   "source": [
    "from pyace.preparedata import WEIGHTS_ENERGY_COLUMN, WEIGHTS_FORCES_COLUMN, normalize_energy_forces_weights"
   ]
  },
  {
   "cell_type": "markdown",
   "metadata": {},
   "source": [
    "# 1. Loading reference dataframe"
   ]
  },
  {
   "cell_type": "markdown",
   "metadata": {},
   "source": [
    "## 1.1 Load custom pickled dataframe"
   ]
  },
  {
   "cell_type": "code",
   "execution_count": 64,
   "metadata": {},
   "outputs": [],
   "source": [
    "df=pd.read_pickle(\"/some/fit/data/Al-Li/data.pkl.gz\")"
   ]
  },
  {
   "cell_type": "code",
   "execution_count": 66,
   "metadata": {},
   "outputs": [
    {
     "data": {
      "text/plain": [
       "(1487, 9)"
      ]
     },
     "execution_count": 66,
     "metadata": {},
     "output_type": "execute_result"
    }
   ],
   "source": [
    "df.shape"
   ]
  },
  {
   "cell_type": "code",
   "execution_count": 67,
   "metadata": {},
   "outputs": [
    {
     "data": {
      "text/html": [
       "<div>\n",
       "<style scoped>\n",
       "    .dataframe tbody tr th:only-of-type {\n",
       "        vertical-align: middle;\n",
       "    }\n",
       "\n",
       "    .dataframe tbody tr th {\n",
       "        vertical-align: top;\n",
       "    }\n",
       "\n",
       "    .dataframe thead th {\n",
       "        text-align: right;\n",
       "    }\n",
       "</style>\n",
       "<table border=\"1\" class=\"dataframe\">\n",
       "  <thead>\n",
       "    <tr style=\"text-align: right;\">\n",
       "      <th></th>\n",
       "      <th>ase_atoms</th>\n",
       "      <th>name</th>\n",
       "      <th>energy</th>\n",
       "      <th>energy_corrected</th>\n",
       "      <th>forces</th>\n",
       "      <th>NUMBER_OF_ATOMS</th>\n",
       "      <th>pbc</th>\n",
       "      <th>energy_corrected_per_atom</th>\n",
       "      <th>tp_atoms</th>\n",
       "    </tr>\n",
       "  </thead>\n",
       "  <tbody>\n",
       "    <tr>\n",
       "      <th>0</th>\n",
       "      <td>(Atom('Li', [-0.014446006840260196, -0.0049246...</td>\n",
       "      <td>/home/users/lysogy36/tools/VASP/Al-Li/DFT/LiAl...</td>\n",
       "      <td>-94.550144</td>\n",
       "      <td>-87.717829</td>\n",
       "      <td>[[0.11097906, 0.05236876, 0.50914217], [-0.284...</td>\n",
       "      <td>32</td>\n",
       "      <td>True</td>\n",
       "      <td>-2.741182</td>\n",
       "      <td>{'_ind_i': [0, 0, 0, 0, 0, 0, 0, 0, 0, 0, 0, 0...</td>\n",
       "    </tr>\n",
       "    <tr>\n",
       "      <th>1</th>\n",
       "      <td>(Atom('Al', [0.0013193089365453575, 0.02689491...</td>\n",
       "      <td>/home/users/lysogy36/tools/VASP/Al-Li/DFT/Al_f...</td>\n",
       "      <td>-116.333506</td>\n",
       "      <td>-107.673578</td>\n",
       "      <td>[[-0.00163197, -0.13034093, 0.0503274], [-0.11...</td>\n",
       "      <td>32</td>\n",
       "      <td>True</td>\n",
       "      <td>-3.364799</td>\n",
       "      <td>{'_ind_i': [0, 0, 0, 0, 0, 0, 0, 0, 0, 0, 0, 0...</td>\n",
       "    </tr>\n",
       "    <tr>\n",
       "      <th>2</th>\n",
       "      <td>(Atom('Li', [-1.1745012357699007, 3.5237344009...</td>\n",
       "      <td>/home/users/lysogy36/tools/VASP/Al-Li/DFT/Li2A...</td>\n",
       "      <td>-126.763253</td>\n",
       "      <td>-117.428585</td>\n",
       "      <td>[[-0.04736383, 0.07383792, 0.1456961], [-0.108...</td>\n",
       "      <td>48</td>\n",
       "      <td>True</td>\n",
       "      <td>-2.446429</td>\n",
       "      <td>{'_ind_i': [0, 0, 0, 0, 0, 0, 0, 0, 0, 0, 0, 0...</td>\n",
       "    </tr>\n",
       "    <tr>\n",
       "      <th>3</th>\n",
       "      <td>(Atom('Li', [0.08259027073574945, 0.0310304786...</td>\n",
       "      <td>/home/users/lysogy36/tools/VASP/Al-Li/DFT/LiAl...</td>\n",
       "      <td>-92.792396</td>\n",
       "      <td>-85.960080</td>\n",
       "      <td>[[-0.11177808, 0.14575526, -0.62374615], [-0.2...</td>\n",
       "      <td>32</td>\n",
       "      <td>True</td>\n",
       "      <td>-2.686253</td>\n",
       "      <td>{'_ind_i': [0, 0, 0, 0, 0, 0, 0, 0, 0, 0, 0, 0...</td>\n",
       "    </tr>\n",
       "    <tr>\n",
       "      <th>4</th>\n",
       "      <td>(Atom('Li', [0.08554239130188349, 0.0321396372...</td>\n",
       "      <td>/home/users/lysogy36/tools/VASP/Al-Li/DFT/LiAl...</td>\n",
       "      <td>-93.870466</td>\n",
       "      <td>-87.038151</td>\n",
       "      <td>[[-0.06677056, 0.09980793, -0.46699359], [-0.2...</td>\n",
       "      <td>32</td>\n",
       "      <td>True</td>\n",
       "      <td>-2.719942</td>\n",
       "      <td>{'_ind_i': [0, 0, 0, 0, 0, 0, 0, 0, 0, 0, 0, 0...</td>\n",
       "    </tr>\n",
       "  </tbody>\n",
       "</table>\n",
       "</div>"
      ],
      "text/plain": [
       "                                           ase_atoms  \\\n",
       "0  (Atom('Li', [-0.014446006840260196, -0.0049246...   \n",
       "1  (Atom('Al', [0.0013193089365453575, 0.02689491...   \n",
       "2  (Atom('Li', [-1.1745012357699007, 3.5237344009...   \n",
       "3  (Atom('Li', [0.08259027073574945, 0.0310304786...   \n",
       "4  (Atom('Li', [0.08554239130188349, 0.0321396372...   \n",
       "\n",
       "                                                name      energy  \\\n",
       "0  /home/users/lysogy36/tools/VASP/Al-Li/DFT/LiAl...  -94.550144   \n",
       "1  /home/users/lysogy36/tools/VASP/Al-Li/DFT/Al_f... -116.333506   \n",
       "2  /home/users/lysogy36/tools/VASP/Al-Li/DFT/Li2A... -126.763253   \n",
       "3  /home/users/lysogy36/tools/VASP/Al-Li/DFT/LiAl...  -92.792396   \n",
       "4  /home/users/lysogy36/tools/VASP/Al-Li/DFT/LiAl...  -93.870466   \n",
       "\n",
       "   energy_corrected                                             forces  \\\n",
       "0        -87.717829  [[0.11097906, 0.05236876, 0.50914217], [-0.284...   \n",
       "1       -107.673578  [[-0.00163197, -0.13034093, 0.0503274], [-0.11...   \n",
       "2       -117.428585  [[-0.04736383, 0.07383792, 0.1456961], [-0.108...   \n",
       "3        -85.960080  [[-0.11177808, 0.14575526, -0.62374615], [-0.2...   \n",
       "4        -87.038151  [[-0.06677056, 0.09980793, -0.46699359], [-0.2...   \n",
       "\n",
       "   NUMBER_OF_ATOMS   pbc  energy_corrected_per_atom  \\\n",
       "0               32  True                  -2.741182   \n",
       "1               32  True                  -3.364799   \n",
       "2               48  True                  -2.446429   \n",
       "3               32  True                  -2.686253   \n",
       "4               32  True                  -2.719942   \n",
       "\n",
       "                                            tp_atoms  \n",
       "0  {'_ind_i': [0, 0, 0, 0, 0, 0, 0, 0, 0, 0, 0, 0...  \n",
       "1  {'_ind_i': [0, 0, 0, 0, 0, 0, 0, 0, 0, 0, 0, 0...  \n",
       "2  {'_ind_i': [0, 0, 0, 0, 0, 0, 0, 0, 0, 0, 0, 0...  \n",
       "3  {'_ind_i': [0, 0, 0, 0, 0, 0, 0, 0, 0, 0, 0, 0...  \n",
       "4  {'_ind_i': [0, 0, 0, 0, 0, 0, 0, 0, 0, 0, 0, 0...  "
      ]
     },
     "execution_count": 67,
     "metadata": {},
     "output_type": "execute_result"
    }
   ],
   "source": [
    "df.head()"
   ]
  },
  {
   "cell_type": "markdown",
   "metadata": {},
   "source": [
    "# 2. Custom energy/forces weights  and all other columns"
   ]
  },
  {
   "cell_type": "markdown",
   "metadata": {},
   "source": [
    "## 2.1 Set custom weights for all structures"
   ]
  },
  {
   "cell_type": "markdown",
   "metadata": {},
   "source": [
    "Example: Energy weights are inverse proportional to number of atoms"
   ]
  },
  {
   "cell_type": "code",
   "execution_count": 72,
   "metadata": {},
   "outputs": [],
   "source": [
    "df[WEIGHTS_ENERGY_COLUMN] = 1./df[\"NUMBER_OF_ATOMS\"]"
   ]
  },
  {
   "cell_type": "markdown",
   "metadata": {},
   "source": [
    "Force weights are inverse proportional to number of atoms"
   ]
  },
  {
   "cell_type": "code",
   "execution_count": 73,
   "metadata": {},
   "outputs": [],
   "source": [
    "def generate_force_weights(row):\n",
    "    n = int(row[\"NUMBER_OF_ATOMS\"])\n",
    "    return np.ones(n)/n"
   ]
  },
  {
   "cell_type": "code",
   "execution_count": 74,
   "metadata": {},
   "outputs": [],
   "source": [
    "df[WEIGHTS_FORCES_COLUMN] =  df.apply(generate_force_weights, axis=1)"
   ]
  },
  {
   "cell_type": "markdown",
   "metadata": {},
   "source": [
    "Normalize the weights"
   ]
  },
  {
   "cell_type": "code",
   "execution_count": 75,
   "metadata": {},
   "outputs": [],
   "source": [
    "normalize_energy_forces_weights(df);"
   ]
  },
  {
   "cell_type": "markdown",
   "metadata": {},
   "source": [
    "Store dataframe with weights to pickle gzip file"
   ]
  },
  {
   "cell_type": "code",
   "execution_count": 19,
   "metadata": {},
   "outputs": [],
   "source": [
    "df.to_pickle(\"df_weights.pkl.gz\", protocol=4)"
   ]
  },
  {
   "cell_type": "markdown",
   "metadata": {},
   "source": [
    "## 2.2 Put more weights on the elastic-matrix related structures"
   ]
  },
  {
   "cell_type": "markdown",
   "metadata": {},
   "source": [
    "Identify the elastic matrix calculations by name (if it contains \"elastic\")"
   ]
  },
  {
   "cell_type": "code",
   "execution_count": 13,
   "metadata": {},
   "outputs": [],
   "source": [
    "elastic_mask = df[\"name\"].str.contains(\"elast\")"
   ]
  },
  {
   "cell_type": "code",
   "execution_count": 14,
   "metadata": {
    "scrolled": false
   },
   "outputs": [
    {
     "data": {
      "text/html": [
       "<div>\n",
       "<style scoped>\n",
       "    .dataframe tbody tr th:only-of-type {\n",
       "        vertical-align: middle;\n",
       "    }\n",
       "\n",
       "    .dataframe tbody tr th {\n",
       "        vertical-align: top;\n",
       "    }\n",
       "\n",
       "    .dataframe thead th {\n",
       "        text-align: right;\n",
       "    }\n",
       "</style>\n",
       "<table border=\"1\" class=\"dataframe\">\n",
       "  <thead>\n",
       "    <tr style=\"text-align: right;\">\n",
       "      <th></th>\n",
       "      <th>ase_atoms</th>\n",
       "      <th>name</th>\n",
       "      <th>energy</th>\n",
       "      <th>energy_corrected</th>\n",
       "      <th>forces</th>\n",
       "      <th>NUMBER_OF_ATOMS</th>\n",
       "      <th>pbc</th>\n",
       "      <th>energy_corrected_per_atom</th>\n",
       "      <th>tp_atoms</th>\n",
       "      <th>w_energy</th>\n",
       "      <th>w_forces</th>\n",
       "    </tr>\n",
       "  </thead>\n",
       "  <tbody>\n",
       "    <tr>\n",
       "      <th>6</th>\n",
       "      <td>(Atom('Li', [0.0, 0.0, 0.0], index=0), Atom('L...</td>\n",
       "      <td>/home/users/lysogy36/tools/VASP/Al-Li/DFT/Li_b...</td>\n",
       "      <td>-3.825339</td>\n",
       "      <td>-3.512545</td>\n",
       "      <td>[[0.0, -0.0, 0.0], [-0.0, 0.0, -0.0]]</td>\n",
       "      <td>2</td>\n",
       "      <td>True</td>\n",
       "      <td>-1.756272</td>\n",
       "      <td>{'_ind_i': [0, 0, 0, 0, 0, 0, 0, 0, 0, 0, 0, 0...</td>\n",
       "      <td>0.004720</td>\n",
       "      <td>[0.0003362474781439139, 0.0003362474781439139]</td>\n",
       "    </tr>\n",
       "    <tr>\n",
       "      <th>9</th>\n",
       "      <td>(Atom('Li', [-1.2512191635970822, 3.1353098274...</td>\n",
       "      <td>/home/users/lysogy36/tools/VASP/Al-Li/DFT/Li2A...</td>\n",
       "      <td>-16.165183</td>\n",
       "      <td>-14.998349</td>\n",
       "      <td>[[0.00031314, -0.00087023, -0.0], [-0.00031314...</td>\n",
       "      <td>6</td>\n",
       "      <td>True</td>\n",
       "      <td>-2.499725</td>\n",
       "      <td>{'_ind_i': [0, 0, 0, 0, 0, 0, 0, 0, 0, 0, 0, 0...</td>\n",
       "      <td>0.001573</td>\n",
       "      <td>[0.00011208249271463797, 0.0001120824927146379...</td>\n",
       "    </tr>\n",
       "    <tr>\n",
       "      <th>15</th>\n",
       "      <td>(Atom('Li', [-1.2512195060957696, 3.1459557238...</td>\n",
       "      <td>/home/users/lysogy36/tools/VASP/Al-Li/DFT/Li2A...</td>\n",
       "      <td>-16.165225</td>\n",
       "      <td>-14.998391</td>\n",
       "      <td>[[2.185e-05, 1.926e-05, 0.00136299], [-2.185e-...</td>\n",
       "      <td>6</td>\n",
       "      <td>True</td>\n",
       "      <td>-2.499732</td>\n",
       "      <td>{'_ind_i': [0, 0, 0, 0, 0, 0, 0, 0, 0, 0, 0, 0...</td>\n",
       "      <td>0.001573</td>\n",
       "      <td>[0.00011208249271463797, 0.0001120824927146379...</td>\n",
       "    </tr>\n",
       "    <tr>\n",
       "      <th>16</th>\n",
       "      <td>(Atom('Li', [4.564045464545241, 0.090695628928...</td>\n",
       "      <td>/home/users/lysogy36/tools/VASP/Al-Li/DFT/LiAl...</td>\n",
       "      <td>-68.981918</td>\n",
       "      <td>-63.857682</td>\n",
       "      <td>[[0.00029379, 0.00040004, 0.00185958], [-0.000...</td>\n",
       "      <td>24</td>\n",
       "      <td>True</td>\n",
       "      <td>-2.660737</td>\n",
       "      <td>{'_ind_i': [0, 0, 0, 0, 0, 0, 0, 0, 0, 0, 0, 0...</td>\n",
       "      <td>0.000393</td>\n",
       "      <td>[2.8020623178659493e-05, 2.8020623178659493e-0...</td>\n",
       "    </tr>\n",
       "    <tr>\n",
       "      <th>19</th>\n",
       "      <td>(Atom('Li', [0.0, 0.0, 0.0], index=0), Atom('L...</td>\n",
       "      <td>/home/users/lysogy36/tools/VASP/Al-Li/DFT/LiAl...</td>\n",
       "      <td>-12.057534</td>\n",
       "      <td>-11.203494</td>\n",
       "      <td>[[-0.0, -0.0, -0.00272016], [0.0, 0.0, 0.00272...</td>\n",
       "      <td>4</td>\n",
       "      <td>True</td>\n",
       "      <td>-2.800874</td>\n",
       "      <td>{'_ind_i': [0, 0, 0, 0, 0, 0, 0, 0, 0, 0, 0, 0...</td>\n",
       "      <td>0.002360</td>\n",
       "      <td>[0.00016812373907195696, 0.0001681237390719569...</td>\n",
       "    </tr>\n",
       "  </tbody>\n",
       "</table>\n",
       "</div>"
      ],
      "text/plain": [
       "                                            ase_atoms  \\\n",
       "6   (Atom('Li', [0.0, 0.0, 0.0], index=0), Atom('L...   \n",
       "9   (Atom('Li', [-1.2512191635970822, 3.1353098274...   \n",
       "15  (Atom('Li', [-1.2512195060957696, 3.1459557238...   \n",
       "16  (Atom('Li', [4.564045464545241, 0.090695628928...   \n",
       "19  (Atom('Li', [0.0, 0.0, 0.0], index=0), Atom('L...   \n",
       "\n",
       "                                                 name     energy  \\\n",
       "6   /home/users/lysogy36/tools/VASP/Al-Li/DFT/Li_b...  -3.825339   \n",
       "9   /home/users/lysogy36/tools/VASP/Al-Li/DFT/Li2A... -16.165183   \n",
       "15  /home/users/lysogy36/tools/VASP/Al-Li/DFT/Li2A... -16.165225   \n",
       "16  /home/users/lysogy36/tools/VASP/Al-Li/DFT/LiAl... -68.981918   \n",
       "19  /home/users/lysogy36/tools/VASP/Al-Li/DFT/LiAl... -12.057534   \n",
       "\n",
       "    energy_corrected                                             forces  \\\n",
       "6          -3.512545              [[0.0, -0.0, 0.0], [-0.0, 0.0, -0.0]]   \n",
       "9         -14.998349  [[0.00031314, -0.00087023, -0.0], [-0.00031314...   \n",
       "15        -14.998391  [[2.185e-05, 1.926e-05, 0.00136299], [-2.185e-...   \n",
       "16        -63.857682  [[0.00029379, 0.00040004, 0.00185958], [-0.000...   \n",
       "19        -11.203494  [[-0.0, -0.0, -0.00272016], [0.0, 0.0, 0.00272...   \n",
       "\n",
       "    NUMBER_OF_ATOMS   pbc  energy_corrected_per_atom  \\\n",
       "6                 2  True                  -1.756272   \n",
       "9                 6  True                  -2.499725   \n",
       "15                6  True                  -2.499732   \n",
       "16               24  True                  -2.660737   \n",
       "19                4  True                  -2.800874   \n",
       "\n",
       "                                             tp_atoms  w_energy  \\\n",
       "6   {'_ind_i': [0, 0, 0, 0, 0, 0, 0, 0, 0, 0, 0, 0...  0.004720   \n",
       "9   {'_ind_i': [0, 0, 0, 0, 0, 0, 0, 0, 0, 0, 0, 0...  0.001573   \n",
       "15  {'_ind_i': [0, 0, 0, 0, 0, 0, 0, 0, 0, 0, 0, 0...  0.001573   \n",
       "16  {'_ind_i': [0, 0, 0, 0, 0, 0, 0, 0, 0, 0, 0, 0...  0.000393   \n",
       "19  {'_ind_i': [0, 0, 0, 0, 0, 0, 0, 0, 0, 0, 0, 0...  0.002360   \n",
       "\n",
       "                                             w_forces  \n",
       "6      [0.0003362474781439139, 0.0003362474781439139]  \n",
       "9   [0.00011208249271463797, 0.0001120824927146379...  \n",
       "15  [0.00011208249271463797, 0.0001120824927146379...  \n",
       "16  [2.8020623178659493e-05, 2.8020623178659493e-0...  \n",
       "19  [0.00016812373907195696, 0.0001681237390719569...  "
      ]
     },
     "execution_count": 14,
     "metadata": {},
     "output_type": "execute_result"
    }
   ],
   "source": [
    "df[elastic_mask].head()"
   ]
  },
  {
   "cell_type": "markdown",
   "metadata": {},
   "source": [
    "Increase the weights on the \"elastic\"-related structures by factor of 10"
   ]
  },
  {
   "cell_type": "code",
   "execution_count": 15,
   "metadata": {},
   "outputs": [],
   "source": [
    "df.loc[elastic_mask,WEIGHTS_ENERGY_COLUMN]*=10\n",
    "\n",
    "df.loc[elastic_mask,WEIGHTS_FORCES_COLUMN]*=10"
   ]
  },
  {
   "cell_type": "markdown",
   "metadata": {},
   "source": [
    "(optional) Renormalize weights, to sum up to 1. It will be done anyway by `pacemaker`"
   ]
  },
  {
   "cell_type": "code",
   "execution_count": 16,
   "metadata": {},
   "outputs": [],
   "source": [
    "normalize_energy_forces_weights(df);"
   ]
  },
  {
   "cell_type": "markdown",
   "metadata": {},
   "source": [
    "Store dataframe with weights to pickle gzip file"
   ]
  },
  {
   "cell_type": "code",
   "execution_count": null,
   "metadata": {},
   "outputs": [],
   "source": [
    "df.to_pickle(\"df_weights_elastic_x10.pkl.gz\", protocol=4)"
   ]
  },
  {
   "cell_type": "markdown",
   "metadata": {},
   "source": [
    "## 2.3 Increase force weights on Li atom types"
   ]
  },
  {
   "cell_type": "code",
   "execution_count": 29,
   "metadata": {},
   "outputs": [],
   "source": [
    "def increased_Li_force_weights(row):    \n",
    "    atoms = row[\"ase_atoms\"]\n",
    "    n = len(atoms)\n",
    "    # generate uniform weights, i.e. 1\n",
    "    weights =  np.ones(n)\n",
    "    symb = np.array(atoms.get_chemical_symbols())\n",
    "    # increase weights by factor of 5 for Li\n",
    "    weights[symb==\"Li\"]*=5\n",
    "    return weights"
   ]
  },
  {
   "cell_type": "code",
   "execution_count": 17,
   "metadata": {},
   "outputs": [],
   "source": [
    "row=df.loc[0]"
   ]
  },
  {
   "cell_type": "code",
   "execution_count": 31,
   "metadata": {},
   "outputs": [
    {
     "data": {
      "text/plain": [
       "array([5., 5., 1., 1., 5., 5., 1., 1., 5., 5., 1., 1., 5., 5., 1., 1., 5.,\n",
       "       5., 1., 1., 5., 5., 1., 1., 5., 5., 1., 1., 5., 5., 1., 1.])"
      ]
     },
     "execution_count": 31,
     "metadata": {},
     "output_type": "execute_result"
    }
   ],
   "source": [
    "increased_Li_force_weights(row)"
   ]
  },
  {
   "cell_type": "code",
   "execution_count": 32,
   "metadata": {},
   "outputs": [],
   "source": [
    "df[WEIGHTS_FORCES_COLUMN] =  df.apply(increased_Li_force_weights, axis=1)"
   ]
  },
  {
   "cell_type": "code",
   "execution_count": 34,
   "metadata": {},
   "outputs": [],
   "source": [
    "normalize_energy_forces_weights(df);"
   ]
  },
  {
   "cell_type": "code",
   "execution_count": null,
   "metadata": {},
   "outputs": [],
   "source": [
    "df.to_pickle(\"df_weights_Li_x5.pkl.gz\", protocol=4)"
   ]
  },
  {
   "cell_type": "markdown",
   "metadata": {},
   "source": [
    "## 2.4 Usage"
   ]
  },
  {
   "attachments": {},
   "cell_type": "markdown",
   "metadata": {},
   "source": [
    "**input.yaml:**\n",
    "\n",
    "```\n",
    "...\n",
    "\n",
    "data:\n",
    "    filename: df_weights.pkl.gz\n",
    "\n",
    "...\n",
    "``` "
   ]
  },
  {
   "cell_type": "markdown",
   "metadata": {},
   "source": [
    "If you want to use dataframe, but ignore provided weights:"
   ]
  },
  {
   "attachments": {},
   "cell_type": "markdown",
   "metadata": {},
   "source": [
    "**input.yaml:**\n",
    "\n",
    "```\n",
    "...\n",
    "\n",
    "data:\n",
    "    filename: df_weights.pkl.gz\n",
    "    ignore_weights: True\n",
    "\n",
    "...\n",
    "``` "
   ]
  },
  {
   "cell_type": "markdown",
   "metadata": {},
   "source": [
    "# 3. Custom energy/forces weights only"
   ]
  },
  {
   "cell_type": "markdown",
   "metadata": {},
   "source": [
    "If the dataset above is too large, you probably don't want to have many copies of it, that differs only by two weights column. It is possible to save only weights columns in a separate file and provide it with `ExternalWeightingPolicy` "
   ]
  },
  {
   "cell_type": "markdown",
   "metadata": {},
   "source": [
    "NOTE! Be sure that original dataframe `df` has **UNIQUE** index `df.index`. Check, for example, it with:"
   ]
  },
  {
   "cell_type": "code",
   "execution_count": 76,
   "metadata": {},
   "outputs": [],
   "source": [
    "assert len(set(df.index))==len(df)"
   ]
  },
  {
   "cell_type": "markdown",
   "metadata": {},
   "source": [
    "## 3.1 Randomly select 10% of the data and increase weights for 'elast' structures"
   ]
  },
  {
   "cell_type": "markdown",
   "metadata": {},
   "source": [
    "original dataset has 1487 structures"
   ]
  },
  {
   "cell_type": "code",
   "execution_count": 87,
   "metadata": {},
   "outputs": [
    {
     "data": {
      "text/plain": [
       "(1487, 11)"
      ]
     },
     "execution_count": 87,
     "metadata": {},
     "output_type": "execute_result"
    }
   ],
   "source": [
    "df.shape"
   ]
  },
  {
   "cell_type": "markdown",
   "metadata": {},
   "source": [
    "Take only 10% samples and WEIGHTS_ENERGY_COLUMN/WEIGHTS_FORCES_COLUMN columns and \"name\" column"
   ]
  },
  {
   "cell_type": "code",
   "execution_count": 88,
   "metadata": {},
   "outputs": [],
   "source": [
    "weights_only = df.sample(frac = 0.1, random_state=42)[[\"name\",WEIGHTS_ENERGY_COLUMN, WEIGHTS_FORCES_COLUMN]]"
   ]
  },
  {
   "cell_type": "code",
   "execution_count": 89,
   "metadata": {},
   "outputs": [
    {
     "data": {
      "text/plain": [
       "(149, 3)"
      ]
     },
     "execution_count": 89,
     "metadata": {},
     "output_type": "execute_result"
    }
   ],
   "source": [
    "weights_only.shape"
   ]
  },
  {
   "cell_type": "code",
   "execution_count": 90,
   "metadata": {},
   "outputs": [],
   "source": [
    "elast_mask = weights_only[\"name\"].str.contains(\"elast\")"
   ]
  },
  {
   "cell_type": "code",
   "execution_count": 92,
   "metadata": {},
   "outputs": [
    {
     "data": {
      "text/plain": [
       "25"
      ]
     },
     "execution_count": 92,
     "metadata": {},
     "output_type": "execute_result"
    }
   ],
   "source": [
    "sum(elast_mask)"
   ]
  },
  {
   "cell_type": "markdown",
   "metadata": {},
   "source": [
    "25 out of 149 structures belong to \"elastic matrix\" calculations. Increase weights on them by factor of 5"
   ]
  },
  {
   "cell_type": "code",
   "execution_count": 94,
   "metadata": {},
   "outputs": [],
   "source": [
    "weights_only.loc[elast_mask, WEIGHTS_ENERGY_COLUMN]*=5\n",
    "weights_only.loc[elast_mask, WEIGHTS_FORCES_COLUMN]*=5"
   ]
  },
  {
   "cell_type": "code",
   "execution_count": 95,
   "metadata": {},
   "outputs": [],
   "source": [
    "weights_only.to_pickle(\"custom_weights_only.pkl.gz\", protocol=4)"
   ]
  },
  {
   "cell_type": "markdown",
   "metadata": {},
   "source": [
    "## 3.2 Usage"
   ]
  },
  {
   "attachments": {},
   "cell_type": "markdown",
   "metadata": {},
   "source": [
    "**input.yaml:**\n",
    "\n",
    "```\n",
    "...\n",
    "# load data as usual\n",
    "data:\n",
    "   filename: /some/fit/data/Al-Li/data.pkl.gz\n",
    "\n",
    "fit:\n",
    "    # use ExternalWeightingPolicy weighting scheme\n",
    "    weighting: {type: ExternalWeightingPolicy, filename: custom_weights_only.pkl.gz}\n",
    "\n",
    "...\n",
    "``` "
   ]
  },
  {
   "cell_type": "code",
   "execution_count": null,
   "metadata": {},
   "outputs": [],
   "source": []
  }
 ],
 "metadata": {
  "kernelspec": {
   "display_name": "Python (ace)",
   "language": "python",
   "name": "ace"
  },
  "language_info": {
   "codemirror_mode": {
    "name": "ipython",
    "version": 3
   },
   "file_extension": ".py",
   "mimetype": "text/x-python",
   "name": "python",
   "nbconvert_exporter": "python",
   "pygments_lexer": "ipython3",
   "version": "3.8.5"
  }
 },
 "nbformat": 4,
 "nbformat_minor": 4
}
