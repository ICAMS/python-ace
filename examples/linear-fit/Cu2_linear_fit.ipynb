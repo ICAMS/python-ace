{
 "cells": [
  {
   "cell_type": "code",
   "execution_count": 1,
   "id": "d7201312-a5d6-4897-8298-1645292f3f4e",
   "metadata": {},
   "outputs": [
    {
     "name": "stdout",
     "output_type": "stream",
     "text": [
      "%pylab is deprecated, use %matplotlib inline and import the required libraries.\n",
      "Populating the interactive namespace from numpy and matplotlib\n"
     ]
    }
   ],
   "source": [
    "%pylab inline"
   ]
  },
  {
   "cell_type": "code",
   "execution_count": 2,
   "id": "51a9240d-6b50-4c49-a9ce-65a96ed753c5",
   "metadata": {},
   "outputs": [],
   "source": [
    "import pandas as pd"
   ]
  },
  {
   "cell_type": "code",
   "execution_count": 3,
   "id": "3731c08f-86c2-4ab2-9712-08afec7a31bc",
   "metadata": {},
   "outputs": [],
   "source": [
    "from pyace import *"
   ]
  },
  {
   "cell_type": "code",
   "execution_count": 4,
   "id": "ab84a1b2-e48b-4d7a-a359-30c7ef3e999d",
   "metadata": {},
   "outputs": [],
   "source": [
    "from pyace.linearacefit import LinearACEFit, LinearACEDataset"
   ]
  },
  {
   "cell_type": "code",
   "execution_count": 64,
   "id": "f05a0922-c1bd-4d89-bd9e-4ca6fb5c15f9",
   "metadata": {},
   "outputs": [],
   "source": [
    "df0=pd.read_pickle(\"../Cu-II/Cu_df2_1k.pkl.gzip\", compression=\"gzip\")"
   ]
  },
  {
   "cell_type": "code",
   "execution_count": 6,
   "id": "16c211ad-7405-475d-a6e3-eb2dbc2dc577",
   "metadata": {},
   "outputs": [
    {
     "data": {
      "text/plain": [
       "(1000, 5)"
      ]
     },
     "execution_count": 6,
     "metadata": {},
     "output_type": "execute_result"
    }
   ],
   "source": [
    "df0.shape"
   ]
  },
  {
   "cell_type": "code",
   "execution_count": 7,
   "id": "350ee94e-e0a9-4c2f-866d-fb1de461a864",
   "metadata": {},
   "outputs": [
    {
     "data": {
      "text/plain": [
       "11309"
      ]
     },
     "execution_count": 7,
     "metadata": {},
     "output_type": "execute_result"
    }
   ],
   "source": [
    "df0[\"ase_atoms\"].map(len).sum()"
   ]
  },
  {
   "cell_type": "code",
   "execution_count": 8,
   "id": "3381ddf4-cd68-447a-aa7b-b7715ed8c028",
   "metadata": {},
   "outputs": [],
   "source": [
    "# subsample large dataset if necessary\n",
    "# df0 = df0.sample(n=100,random_state=42)"
   ]
  },
  {
   "cell_type": "code",
   "execution_count": 9,
   "id": "c6929de6-7281-44b4-be06-4f86e96dba77",
   "metadata": {},
   "outputs": [],
   "source": [
    "# split 95% train, 5% test\n",
    "df_train=df0.sample(frac=0.95, random_state=42)\n",
    "df_test = df0.loc[(i for i in df0.index if i not in df_train.index)]"
   ]
  },
  {
   "cell_type": "code",
   "execution_count": 10,
   "id": "60e1ee33-7a7b-45ab-a7a0-3d7c71bb70f2",
   "metadata": {},
   "outputs": [
    {
     "data": {
      "text/plain": [
       "(950, 50)"
      ]
     },
     "execution_count": 10,
     "metadata": {},
     "output_type": "execute_result"
    }
   ],
   "source": [
    "len(df_train), len(df_test)"
   ]
  },
  {
   "cell_type": "code",
   "execution_count": 11,
   "id": "f03cdfd1-66c8-4547-ba45-4c24b3d06184",
   "metadata": {},
   "outputs": [],
   "source": [
    "# Create empty bbasis configuration\n",
    "bconf = create_multispecies_basis_config(potential_config = {\n",
    "  \"deltaSplineBins\": 0.001,\n",
    "  \"elements\": ['Cu'],\n",
    "\n",
    "  \"embeddings\": {\n",
    "    \"ALL\": {\n",
    "      \"npot\": 'FinnisSinclairShiftedScaled',\n",
    "      \"fs_parameters\": [ 1, 1],\n",
    "      \"ndensity\": 1,\n",
    "    },\n",
    "  },\n",
    "\n",
    "  \"bonds\": {\n",
    "    \"ALL\": {\n",
    "      \"radbase\": \"SBessel\",\n",
    "      \"radparameters\": [ 5.25 ],\n",
    "      \"rcut\": 6,\n",
    "      \"dcut\": 0.01,\n",
    "    }\n",
    "  },\n",
    "\n",
    "  \"functions\": {\n",
    "    # \"number_of_functions_per_element\": 1000,\n",
    "    \"ALL\": {\n",
    "        \"nradmax_by_orders\": [ 8, 8, 4, 3,2],\n",
    "        \"lmax_by_orders\"   : [ 0, 4, 3, 2,1] }\n",
    "  }\n",
    "}\n",
    ")"
   ]
  },
  {
   "cell_type": "code",
   "execution_count": 12,
   "id": "5ba2065c-a85a-43f3-b08a-1207864d2feb",
   "metadata": {},
   "outputs": [
    {
     "data": {
      "text/plain": [
       "822"
      ]
     },
     "execution_count": 12,
     "metadata": {},
     "output_type": "execute_result"
    }
   ],
   "source": [
    "bconf.total_number_of_functions"
   ]
  },
  {
   "cell_type": "markdown",
   "id": "a0a0d9f3-f128-46c4-bb44-371364d9b40e",
   "metadata": {},
   "source": [
    "# Prepare linear ACE dataset"
   ]
  },
  {
   "cell_type": "code",
   "execution_count": 13,
   "id": "7383bd4d-70f1-4080-814c-cb56cd4451a6",
   "metadata": {},
   "outputs": [],
   "source": [
    "train_ds = LinearACEDataset(bconf, df_train)"
   ]
  },
  {
   "cell_type": "code",
   "execution_count": 14,
   "id": "d94ac431-7007-48c6-bbe1-329d906d252f",
   "metadata": {},
   "outputs": [],
   "source": [
    "test_ds = LinearACEDataset(bconf, df_test)"
   ]
  },
  {
   "cell_type": "markdown",
   "id": "397d356d-590b-4fef-b9ff-4a5360375e13",
   "metadata": {
    "tags": []
   },
   "source": [
    "Construct design matrix for train and test, by default - in parallel with 4 workers/processes. \n",
    "Set verbose=False to suppress output"
   ]
  },
  {
   "cell_type": "code",
   "execution_count": 15,
   "id": "fc249714-a5f3-4e01-abdc-d4fac8d09ac2",
   "metadata": {
    "tags": []
   },
   "outputs": [
    {
     "name": "stdout",
     "output_type": "stream",
     "text": [
      "[Proc-0]structures_chunk=(0, 238), atoms_chunk=(0, 2891)  # struct=238, #at = 2891\n",
      "[Proc-1]structures_chunk=(238, 476), atoms_chunk=(2891, 5648)  # struct=238, #at = 2757\n",
      "[Proc-2]structures_chunk=(476, 713), atoms_chunk=(5648, 8356)  # struct=237, #at = 2708\n",
      "[Proc-3]structures_chunk=(713, 950), atoms_chunk=(8356, 10880)  # struct=237, #at = 2524\n",
      "[Proc-2] 9/237 structures: [0.63/16.61s, 15.98 s remains]\n",
      "[Proc-0] 9/238 structures: [0.73/19.40s, 18.67 s remains]\n",
      "[Proc-2] 18/237 structures: [1.14/14.98s, 13.84 s remains]\n",
      "[Proc-1] 9/238 structures: [1.76/46.43s, 44.67 s remains]\n",
      "[Proc-2] 27/237 structures: [1.81/15.85s, 14.04 s remains]\n",
      "[Proc-3] 9/237 structures: [2.09/55.06s, 52.97 s remains]\n",
      "[Proc-0] 18/238 structures: [2.15/28.49s, 26.34 s remains]\n",
      "[Proc-1] 18/238 structures: [2.68/35.39s, 32.72 s remains]\n",
      "[Proc-3] 18/237 structures: [3.06/40.26s, 37.20 s remains]\n",
      "[Proc-1] 27/238 structures: [3.30/29.11s, 25.81 s remains]\n",
      "[Proc-2] 36/237 structures: [3.44/22.67s, 19.23 s remains]\n",
      "[Proc-3] 27/237 structures: [3.83/33.61s, 29.78 s remains]\n",
      "[Proc-0] 27/238 structures: [4.02/35.46s, 31.43 s remains]\n",
      "[Proc-1] 36/238 structures: [4.91/32.44s, 27.53 s remains]\n",
      "[Proc-3] 36/237 structures: [4.99/32.88s, 27.89 s remains]\n",
      "[Proc-0] 36/238 structures: [5.40/35.67s, 30.28 s remains]\n",
      "[Proc-2] 45/237 structures: [6.01/31.65s, 25.64 s remains]\n",
      "[Proc-1] 45/238 structures: [6.76/35.73s, 28.98 s remains]\n",
      "[Proc-0] 45/238 structures: [6.77/35.79s, 29.02 s remains]\n",
      "[Proc-3] 45/237 structures: [7.00/36.88s, 29.88 s remains]\n",
      "[Proc-1] 54/238 structures: [7.48/32.98s, 25.50 s remains]\n",
      "[Proc-3] 54/237 structures: [7.60/33.37s, 25.77 s remains]\n",
      "[Proc-2] 54/237 structures: [7.85/34.45s, 26.60 s remains]\n",
      "[Proc-0] 54/238 structures: [8.61/37.95s, 29.34 s remains]\n",
      "[Proc-1] 63/238 structures: [8.74/33.02s, 24.28 s remains]\n",
      "[Proc-2] 63/237 structures: [9.05/34.03s, 24.98 s remains]\n",
      "[Proc-1] 72/238 structures: [9.39/31.02s, 21.64 s remains]\n",
      "[Proc-3] 63/237 structures: [9.71/36.52s, 26.81 s remains]\n",
      "[Proc-3] 72/237 structures: [10.27/33.79s, 23.53 s remains]\n",
      "[Proc-1] 81/238 structures: [10.55/31.00s, 20.45 s remains]\n",
      "[Proc-0] 63/238 structures: [10.83/40.91s, 30.08 s remains]\n",
      "[Proc-2] 72/237 structures: [11.05/36.37s, 25.32 s remains]\n",
      "[Proc-3] 81/237 structures: [11.45/33.50s, 22.05 s remains]\n",
      "[Proc-0] 72/238 structures: [11.73/38.78s, 27.05 s remains]\n",
      "[Proc-2] 81/237 structures: [11.77/34.44s, 22.67 s remains]\n",
      "[Proc-1] 90/238 structures: [11.99/31.70s, 19.71 s remains]\n",
      "[Proc-3] 90/237 structures: [12.39/32.62s, 20.23 s remains]\n",
      "[Proc-0] 81/238 structures: [12.77/37.51s, 24.74 s remains]\n",
      "[Proc-3] 99/237 structures: [13.42/32.12s, 18.70 s remains]\n",
      "[Proc-1] 99/238 structures: [13.67/32.87s, 19.20 s remains]\n",
      "[Proc-0] 90/238 structures: [13.71/36.25s, 22.54 s remains]\n",
      "[Proc-2] 90/237 structures: [13.72/36.14s, 22.42 s remains]\n",
      "[Proc-2] 99/237 structures: [14.32/34.27s, 19.96 s remains]\n",
      "[Proc-0] 99/238 structures: [14.58/35.04s, 20.47 s remains]\n",
      "[Proc-1] 108/238 structures: [15.01/33.08s, 18.07 s remains]\n",
      "[Proc-3] 108/237 structures: [15.53/34.07s, 18.55 s remains]\n",
      "[Proc-1] 117/238 structures: [15.95/32.46s, 16.50 s remains]\n",
      "[Proc-2] 108/237 structures: [16.22/35.58s, 19.37 s remains]\n",
      "[Proc-3] 117/237 structures: [16.69/33.81s, 17.12 s remains]\n",
      "[Proc-0] 108/238 structures: [17.45/38.45s, 21.00 s remains]\n",
      "[Proc-2] 117/237 structures: [17.57/35.59s, 18.02 s remains]\n",
      "[Proc-1] 126/238 structures: [17.80/33.63s, 15.83 s remains]\n",
      "[Proc-2] 126/237 structures: [18.15/34.13s, 15.99 s remains]\n",
      "[Proc-3] 126/237 structures: [18.23/34.30s, 16.06 s remains]\n",
      "[Proc-0] 117/238 structures: [19.21/39.09s, 19.87 s remains]\n",
      "[Proc-1] 135/238 structures: [19.23/33.90s, 14.67 s remains]\n",
      "[Proc-3] 135/237 structures: [19.41/34.07s, 14.66 s remains]\n",
      "[Proc-2] 135/237 structures: [19.50/34.23s, 14.73 s remains]\n",
      "[Proc-0] 126/238 structures: [19.88/37.55s, 17.67 s remains]\n",
      "[Proc-1] 144/238 structures: [20.22/33.43s, 13.20 s remains]\n",
      "[Proc-3] 144/237 structures: [20.32/33.44s, 13.12 s remains]\n",
      "[Proc-0] 135/238 structures: [20.61/36.33s, 15.72 s remains]\n",
      "[Proc-0] 144/238 structures: [21.08/34.84s, 13.76 s remains]\n",
      "[Proc-2] 144/237 structures: [21.11/34.75s, 13.64 s remains]\n",
      "[Proc-1] 153/238 structures: [21.49/33.44s, 11.94 s remains]\n",
      "[Proc-2] 153/237 structures: [22.00/34.08s, 12.08 s remains]\n",
      "[Proc-3] 153/237 structures: [22.62/35.04s, 12.42 s remains]\n",
      "[Proc-2] 162/237 structures: [23.34/34.14s, 10.80 s remains]\n",
      "[Proc-1] 162/238 structures: [23.40/34.38s, 10.98 s remains]\n",
      "[Proc-3] 162/237 structures: [24.29/35.53s, 11.24 s remains]\n",
      "[Proc-0] 153/238 structures: [24.44/38.03s, 13.58 s remains]\n",
      "[Proc-1] 171/238 structures: [24.77/34.47s, 9.70 s remains]\n",
      "[Proc-0] 162/238 structures: [25.19/37.00s, 11.82 s remains]\n",
      "[Proc-2] 171/237 structures: [25.22/34.95s, 9.73 s remains]\n",
      "[Proc-3] 171/237 structures: [26.02/36.06s, 10.04 s remains]\n",
      "[Proc-1] 180/238 structures: [26.53/35.08s, 8.55 s remains]\n",
      "[Proc-3] 180/237 structures: [26.98/35.53s, 8.54 s remains]\n",
      "[Proc-0] 171/238 structures: [27.04/37.63s, 10.59 s remains]\n",
      "[Proc-2] 180/237 structures: [27.04/35.60s, 8.56 s remains]\n",
      "[Proc-3] 189/237 structures: [27.95/35.05s, 7.10 s remains]\n",
      "[Proc-1] 189/238 structures: [28.16/35.46s, 7.30 s remains]\n",
      "[Proc-2] 189/237 structures: [28.58/35.84s, 7.26 s remains]\n",
      "[Proc-0] 180/238 structures: [28.92/38.24s, 9.32 s remains]\n",
      "[Proc-0] 189/238 structures: [29.56/37.23s, 7.66 s remains]\n",
      "[Proc-1] 198/238 structures: [30.08/36.16s, 6.08 s remains]\n",
      "[Proc-2] 198/237 structures: [30.35/36.33s, 5.98 s remains]\n",
      "[Proc-3] 198/237 structures: [30.51/36.51s, 6.01 s remains]\n",
      "[Proc-0] 198/238 structures: [30.88/37.12s, 6.24 s remains]\n",
      "[Proc-3] 207/237 structures: [31.72/36.31s, 4.60 s remains]\n",
      "[Proc-2] 207/237 structures: [32.06/36.71s, 4.65 s remains]\n",
      "[Proc-0] 207/238 structures: [32.20/37.02s, 4.82 s remains]\n",
      "[Proc-3] 216/237 structures: [32.28/35.42s, 3.14 s remains]\n",
      "[Proc-1] 207/238 structures: [32.71/37.61s, 4.90 s remains]\n",
      "[Proc-3] 225/237 structures: [32.82/34.57s, 1.75 s remains]\n",
      "[Proc-0] 216/238 structures: [33.32/36.71s, 3.39 s remains]\n",
      "[Proc-2] 216/237 structures: [33.62/36.89s, 3.27 s remains]\n",
      "[Proc-3] 234/237 structures: [33.76/34.19s, 0.43 s remains]\n",
      "[Proc-3] 237/237 structures, elapsed time = 34 s\n",
      "[Proc-0] 225/238 structures: [34.00/35.97s, 1.96 s remains]\n",
      "[Proc-1] 216/238 structures: [34.11/37.58s, 3.47 s remains]\n",
      "[Proc-2] 225/237 structures: [34.61/36.45s, 1.85 s remains]\n",
      "[Proc-1] 225/238 structures: [34.79/36.80s, 2.01 s remains]\n",
      "[Proc-2] 234/237 structures: [35.70/36.15s, 0.46 s remains]\n",
      "[Proc-2] 237/237 structures, elapsed time = 36.3 s\n",
      "[Proc-1] 234/238 structures: [36.27/36.89s, 0.62 s remains]\n",
      "[Proc-0] 234/238 structures: [36.81/37.44s, 0.63 s remains]\n",
      "[Proc-1] 238/238 structures, elapsed time = 36.9 s\n",
      "[Proc-0] 238/238 structures, elapsed time = 37.3 s\n",
      "[Proc-0]structures_chunk=(0, 13), atoms_chunk=(0, 55)  # struct=13, #at = 55\n",
      "[Proc-1]structures_chunk=(13, 26), atoms_chunk=(55, 149)  # struct=13, #at = 94\n",
      "[Proc-2]structures_chunk=(26, 38), atoms_chunk=(149, 276)  # struct=12, #at = 127\n",
      "[Proc-3]structures_chunk=(38, 50), atoms_chunk=(276, 429)  # struct=12, #at = 153\n",
      "[Proc-3] 1/12 structures: [0.11/1.29s, 1.18 s remains]\n",
      "[Proc-0] 1/13 structures: [0.15/1.90s, 1.75 s remains]\n",
      "[Proc-1] 1/13 structures: [0.18/2.35s, 2.17 s remains]\n",
      "[Proc-2] 1/12 structures: [0.18/2.20s, 2.02 s remains][Proc-3] 2/12 structures: [0.18/1.10s, 0.91 s remains]\n",
      "\n",
      "[Proc-0] 2/13 structures: [0.21/1.38s, 1.17 s remains]\n",
      "[Proc-3] 3/12 structures: [0.22/0.86s, 0.65 s remains]\n",
      "[Proc-2] 2/12 structures: [0.32/1.94s, 1.62 s remains]\n",
      "[Proc-0] 3/13 structures: [0.34/1.47s, 1.13 s remains]\n",
      "[Proc-3] 4/12 structures: [0.35/1.05s, 0.70 s remains]\n",
      "[Proc-2] 3/12 structures: [0.38/1.52s, 1.14 s remains]\n",
      "[Proc-2] 4/12 structures: [0.40/1.21s, 0.80 s remains]\n",
      "[Proc-0] 4/13 structures: [0.42/1.37s, 0.95 s remains]\n",
      "[Proc-3] 5/12 structures: [0.46/1.11s, 0.64 s remains]\n",
      "[Proc-0] 5/13 structures: [0.50/1.29s, 0.79 s remains]\n",
      "[Proc-3] 6/12 structures: [0.49/0.98s, 0.49 s remains]\n",
      "[Proc-1] 2/13 structures: [0.52/3.38s, 2.86 s remains]\n",
      "[Proc-2] 5/12 structures: [0.53/1.27s, 0.74 s remains]\n",
      "[Proc-3] 7/12 structures: [0.54/0.92s, 0.38 s remains]\n",
      "[Proc-0] 6/13 structures: [0.57/1.24s, 0.67 s remains]\n",
      "[Proc-1] 3/13 structures: [0.58/2.50s, 1.92 s remains]\n",
      "[Proc-0] 7/13 structures: [0.61/1.12s, 0.52 s remains]\n",
      "[Proc-1] 4/13 structures: [0.62/2.00s, 1.39 s remains]\n",
      "[Proc-0] 8/13 structures: [0.64/1.05s, 0.40 s remains][Proc-2] 6/12 structures: [0.63/1.26s, 0.63 s remains]\n",
      "\n",
      "[Proc-0] 9/13 structures: [0.66/0.96s, 0.29 s remains]\n",
      "[Proc-3] 8/12 structures: [0.66/0.99s, 0.33 s remains]\n",
      "[Proc-0] 10/13 structures: [0.68/0.89s, 0.21 s remains]\n",
      "[Proc-3] 9/12 structures: [0.73/0.97s, 0.24 s remains]\n",
      "[Proc-3] 10/12 structures: [0.73/0.88s, 0.15 s remains]\n",
      "[Proc-2] 7/12 structures: [0.75/1.28s, 0.53 s remains]\n",
      "[Proc-1] 5/13 structures: [0.77/2.01s, 1.24 s remains]\n",
      "[Proc-2] 8/12 structures: [0.78/1.17s, 0.39 s remains]\n",
      "[Proc-0] 11/13 structures: [0.88/1.04s, 0.16 s remains]\n",
      "[Proc-1] 6/13 structures: [1.01/2.18s, 1.17 s remains]\n",
      "[Proc-0] 12/13 structures: [1.04/1.12s, 0.09 s remains]\n",
      "[Proc-1] 7/13 structures: [1.15/2.14s, 0.99 s remains]\n",
      "[Proc-0] 13/13 structures: [1.16/1.16s, 0.00 s remains]\n",
      "[Proc-0] 13/13 structures, elapsed time = 1.17 s\n",
      "[Proc-1] 8/13 structures: [1.17/1.91s, 0.73 s remains]\n",
      "[Proc-1] 9/13 structures: [1.36/1.96s, 0.60 s remains]\n",
      "[Proc-1] 10/13 structures: [1.44/1.87s, 0.43 s remains]\n",
      "[Proc-1] 11/13 structures: [1.53/1.81s, 0.28 s remains]\n",
      "[Proc-1] 12/13 structures: [1.55/1.68s, 0.13 s remains]\n",
      "[Proc-1] 13/13 structures: [1.65/1.65s, 0.00 s remains]\n",
      "[Proc-1] 13/13 structures, elapsed time = 1.65 s\n",
      "[Proc-2] 9/12 structures: [1.70/2.26s, 0.57 s remains]\n",
      "[Proc-3] 11/12 structures: [1.77/1.93s, 0.16 s remains]\n",
      "[Proc-3] 12/12 structures: [1.78/1.78s, 0.00 s remains]\n",
      "[Proc-3] 12/12 structures, elapsed time = 1.79 s\n",
      "[Proc-2] 10/12 structures: [1.86/2.23s, 0.37 s remains]\n",
      "[Proc-2] 11/12 structures: [1.93/2.11s, 0.18 s remains]\n",
      "[Proc-2] 12/12 structures: [1.95/1.95s, 0.00 s remains]\n",
      "[Proc-2] 12/12 structures, elapsed time = 1.96 s\n"
     ]
    }
   ],
   "source": [
    "train_ds.construct_design_matrix(verbose=True)\n",
    "test_ds.construct_design_matrix(verbose=True)"
   ]
  },
  {
   "cell_type": "code",
   "execution_count": null,
   "id": "a74a9838-c5e6-4594-8c0e-40e182bd4d8f",
   "metadata": {},
   "outputs": [],
   "source": []
  },
  {
   "cell_type": "markdown",
   "id": "3f6ab6b1-8fe7-467b-8cfb-14e91155fdaa",
   "metadata": {},
   "source": [
    "Create linear ACE fit class, provide train dataset"
   ]
  },
  {
   "cell_type": "code",
   "execution_count": 16,
   "id": "4f719ff9-434d-489d-863a-771ce983ae48",
   "metadata": {},
   "outputs": [],
   "source": [
    "linear_fit = LinearACEFit(train_dataset=train_ds)"
   ]
  },
  {
   "cell_type": "markdown",
   "id": "f9d2cc9d-547f-4d98-9040-b814b2044db0",
   "metadata": {},
   "source": [
    "Call fit method, by default it use Ridge from sklearn"
   ]
  },
  {
   "cell_type": "code",
   "execution_count": 17,
   "id": "e68ccce5-0530-45b9-8788-522f1a366088",
   "metadata": {},
   "outputs": [
    {
     "name": "stderr",
     "output_type": "stream",
     "text": [
      "/home/yury/miniconda3/envs/ace/lib/python3.8/site-packages/sklearn/linear_model/_ridge.py:216: LinAlgWarning: Ill-conditioned matrix (rcond=4.35292e-17): result may not be accurate.\n",
      "  return linalg.solve(A, Xy, assume_a=\"pos\", overwrite_a=True).T\n"
     ]
    },
    {
     "data": {
      "text/html": [
       "<style>#sk-container-id-1 {color: black;background-color: white;}#sk-container-id-1 pre{padding: 0;}#sk-container-id-1 div.sk-toggleable {background-color: white;}#sk-container-id-1 label.sk-toggleable__label {cursor: pointer;display: block;width: 100%;margin-bottom: 0;padding: 0.3em;box-sizing: border-box;text-align: center;}#sk-container-id-1 label.sk-toggleable__label-arrow:before {content: \"▸\";float: left;margin-right: 0.25em;color: #696969;}#sk-container-id-1 label.sk-toggleable__label-arrow:hover:before {color: black;}#sk-container-id-1 div.sk-estimator:hover label.sk-toggleable__label-arrow:before {color: black;}#sk-container-id-1 div.sk-toggleable__content {max-height: 0;max-width: 0;overflow: hidden;text-align: left;background-color: #f0f8ff;}#sk-container-id-1 div.sk-toggleable__content pre {margin: 0.2em;color: black;border-radius: 0.25em;background-color: #f0f8ff;}#sk-container-id-1 input.sk-toggleable__control:checked~div.sk-toggleable__content {max-height: 200px;max-width: 100%;overflow: auto;}#sk-container-id-1 input.sk-toggleable__control:checked~label.sk-toggleable__label-arrow:before {content: \"▾\";}#sk-container-id-1 div.sk-estimator input.sk-toggleable__control:checked~label.sk-toggleable__label {background-color: #d4ebff;}#sk-container-id-1 div.sk-label input.sk-toggleable__control:checked~label.sk-toggleable__label {background-color: #d4ebff;}#sk-container-id-1 input.sk-hidden--visually {border: 0;clip: rect(1px 1px 1px 1px);clip: rect(1px, 1px, 1px, 1px);height: 1px;margin: -1px;overflow: hidden;padding: 0;position: absolute;width: 1px;}#sk-container-id-1 div.sk-estimator {font-family: monospace;background-color: #f0f8ff;border: 1px dotted black;border-radius: 0.25em;box-sizing: border-box;margin-bottom: 0.5em;}#sk-container-id-1 div.sk-estimator:hover {background-color: #d4ebff;}#sk-container-id-1 div.sk-parallel-item::after {content: \"\";width: 100%;border-bottom: 1px solid gray;flex-grow: 1;}#sk-container-id-1 div.sk-label:hover label.sk-toggleable__label {background-color: #d4ebff;}#sk-container-id-1 div.sk-serial::before {content: \"\";position: absolute;border-left: 1px solid gray;box-sizing: border-box;top: 0;bottom: 0;left: 50%;z-index: 0;}#sk-container-id-1 div.sk-serial {display: flex;flex-direction: column;align-items: center;background-color: white;padding-right: 0.2em;padding-left: 0.2em;position: relative;}#sk-container-id-1 div.sk-item {position: relative;z-index: 1;}#sk-container-id-1 div.sk-parallel {display: flex;align-items: stretch;justify-content: center;background-color: white;position: relative;}#sk-container-id-1 div.sk-item::before, #sk-container-id-1 div.sk-parallel-item::before {content: \"\";position: absolute;border-left: 1px solid gray;box-sizing: border-box;top: 0;bottom: 0;left: 50%;z-index: -1;}#sk-container-id-1 div.sk-parallel-item {display: flex;flex-direction: column;z-index: 1;position: relative;background-color: white;}#sk-container-id-1 div.sk-parallel-item:first-child::after {align-self: flex-end;width: 50%;}#sk-container-id-1 div.sk-parallel-item:last-child::after {align-self: flex-start;width: 50%;}#sk-container-id-1 div.sk-parallel-item:only-child::after {width: 0;}#sk-container-id-1 div.sk-dashed-wrapped {border: 1px dashed gray;margin: 0 0.4em 0.5em 0.4em;box-sizing: border-box;padding-bottom: 0.4em;background-color: white;}#sk-container-id-1 div.sk-label label {font-family: monospace;font-weight: bold;display: inline-block;line-height: 1.2em;}#sk-container-id-1 div.sk-label-container {text-align: center;}#sk-container-id-1 div.sk-container {/* jupyter's `normalize.less` sets `[hidden] { display: none; }` but bootstrap.min.css set `[hidden] { display: none !important; }` so we also need the `!important` here to be able to override the default hidden behavior on the sphinx rendered scikit-learn.org. See: https://github.com/scikit-learn/scikit-learn/issues/21755 */display: inline-block !important;position: relative;}#sk-container-id-1 div.sk-text-repr-fallback {display: none;}</style><div id=\"sk-container-id-1\" class=\"sk-top-container\"><div class=\"sk-text-repr-fallback\"><pre>Ridge(alpha=1e-05, copy_X=False, fit_intercept=False, random_state=42)</pre><b>In a Jupyter environment, please rerun this cell to show the HTML representation or trust the notebook. <br />On GitHub, the HTML representation is unable to render, please try loading this page with nbviewer.org.</b></div><div class=\"sk-container\" hidden><div class=\"sk-item\"><div class=\"sk-estimator sk-toggleable\"><input class=\"sk-toggleable__control sk-hidden--visually\" id=\"sk-estimator-id-1\" type=\"checkbox\" checked><label for=\"sk-estimator-id-1\" class=\"sk-toggleable__label sk-toggleable__label-arrow\">Ridge</label><div class=\"sk-toggleable__content\"><pre>Ridge(alpha=1e-05, copy_X=False, fit_intercept=False, random_state=42)</pre></div></div></div></div></div>"
      ],
      "text/plain": [
       "Ridge(alpha=1e-05, copy_X=False, fit_intercept=False, random_state=42)"
      ]
     },
     "execution_count": 17,
     "metadata": {},
     "output_type": "execute_result"
    }
   ],
   "source": [
    "linear_fit.fit()"
   ]
  },
  {
   "cell_type": "markdown",
   "id": "2fda6cff-481f-46a3-b58e-a4a2d0630b8c",
   "metadata": {},
   "source": [
    "Compute error metrics on train and test (in eV/atom and eV/A)"
   ]
  },
  {
   "cell_type": "code",
   "execution_count": 18,
   "id": "1206045a-9261-4899-8d98-8ad7c6bb124b",
   "metadata": {},
   "outputs": [
    {
     "data": {
      "text/plain": [
       "{'epa_mae': 0.0036440569754229595,\n",
       " 'epa_rmse': 0.005967649541668303,\n",
       " 'f_comp_mae': 0.006675124619790396,\n",
       " 'f_comp_rmse': 0.011920913143515888}"
      ]
     },
     "execution_count": 18,
     "metadata": {},
     "output_type": "execute_result"
    }
   ],
   "source": [
    "linear_fit.compute_errors(train_ds)"
   ]
  },
  {
   "cell_type": "code",
   "execution_count": 19,
   "id": "79c26aeb-c475-4f77-b73c-d506bbc68ccc",
   "metadata": {},
   "outputs": [
    {
     "data": {
      "text/plain": [
       "{'epa_mae': 0.0029914479958728004,\n",
       " 'epa_rmse': 0.00461704855093892,\n",
       " 'f_comp_mae': 0.005989990074728448,\n",
       " 'f_comp_rmse': 0.01086427476454924}"
      ]
     },
     "execution_count": 19,
     "metadata": {},
     "output_type": "execute_result"
    }
   ],
   "source": [
    "linear_fit.compute_errors(test_ds)"
   ]
  },
  {
   "cell_type": "markdown",
   "id": "004d3530-70de-474d-9ef9-df3599450306",
   "metadata": {},
   "source": [
    "## Trained basis export and usage"
   ]
  },
  {
   "cell_type": "markdown",
   "id": "4cccc8a0-d554-41a2-9036-a2281ff44ccd",
   "metadata": {},
   "source": [
    "Get fitted basis and use in PyACECalculator"
   ]
  },
  {
   "cell_type": "code",
   "execution_count": 20,
   "id": "ddca06e8-7d3b-4521-a0cd-db41b067646b",
   "metadata": {},
   "outputs": [],
   "source": [
    "basis = linear_fit.get_bbasis()"
   ]
  },
  {
   "cell_type": "code",
   "execution_count": 21,
   "id": "4815a650-2594-4718-8da3-bafc808461ff",
   "metadata": {},
   "outputs": [],
   "source": [
    "calc = PyACECalculator(basis)"
   ]
  },
  {
   "cell_type": "code",
   "execution_count": 22,
   "id": "0a8667cb-eba1-4e5f-8a86-b32b0effd69e",
   "metadata": {
    "tags": []
   },
   "outputs": [],
   "source": [
    "e_pred,f_pred = linear_fit.predict(test_ds, reshape_forces=True)"
   ]
  },
  {
   "cell_type": "code",
   "execution_count": 23,
   "id": "83c8c977-fc96-45dd-a406-17f3823d984a",
   "metadata": {},
   "outputs": [],
   "source": [
    "# take first  ase_atoms\n",
    "at = df_test.iloc[0][\"ase_atoms\"].copy()"
   ]
  },
  {
   "cell_type": "code",
   "execution_count": 24,
   "id": "ffe11455-fa67-4b8f-b11d-df28f31c781d",
   "metadata": {},
   "outputs": [],
   "source": [
    "at.set_calculator(calc)"
   ]
  },
  {
   "cell_type": "code",
   "execution_count": 25,
   "id": "7394daab-1c51-435f-9a16-3b3573ecc3a1",
   "metadata": {},
   "outputs": [
    {
     "name": "stderr",
     "output_type": "stream",
     "text": [
      "/home/yury/miniconda3/envs/ace/lib/python3.8/site-packages/ase/utils/__init__.py:62: FutureWarning: Please use atoms.cell.rank instead\n",
      "  warnings.warn(warning)\n"
     ]
    },
    {
     "data": {
      "text/plain": [
       "-14.764174318021132"
      ]
     },
     "execution_count": 25,
     "metadata": {},
     "output_type": "execute_result"
    }
   ],
   "source": [
    "at.get_potential_energy()"
   ]
  },
  {
   "cell_type": "markdown",
   "id": "26172235-56f3-4cd5-a279-76d34ffde8ad",
   "metadata": {},
   "source": [
    "Compare PyACECalculator predictions with LinearFit predictions"
   ]
  },
  {
   "cell_type": "code",
   "execution_count": 26,
   "id": "04aa5f5b-85d4-4ffe-b41b-a51a21d37b34",
   "metadata": {},
   "outputs": [
    {
     "data": {
      "text/plain": [
       "True"
      ]
     },
     "execution_count": 26,
     "metadata": {},
     "output_type": "execute_result"
    }
   ],
   "source": [
    "np.allclose(at.get_potential_energy()/len(at),e_pred[0])"
   ]
  },
  {
   "cell_type": "code",
   "execution_count": 27,
   "id": "2681d084-999e-4e82-9085-28ed57cb1470",
   "metadata": {},
   "outputs": [
    {
     "data": {
      "text/plain": [
       "True"
      ]
     },
     "execution_count": 27,
     "metadata": {},
     "output_type": "execute_result"
    }
   ],
   "source": [
    "np.allclose(at.get_forces(),f_pred[:len(at)])"
   ]
  },
  {
   "cell_type": "code",
   "execution_count": null,
   "id": "9b139126-e748-4bdb-a596-a9c41bc77ff6",
   "metadata": {},
   "outputs": [],
   "source": []
  },
  {
   "cell_type": "markdown",
   "id": "5ef68040-c458-4c8f-9fcb-e58e57554c9d",
   "metadata": {},
   "source": [
    "# Manual design matrix manipulation and fit"
   ]
  },
  {
   "cell_type": "code",
   "execution_count": 28,
   "id": "e801d7c3-ff05-4f33-a58d-336a185166b3",
   "metadata": {},
   "outputs": [],
   "source": [
    "from sklearn.linear_model import Ridge\n",
    "from sklearn.decomposition import PCA"
   ]
  },
  {
   "cell_type": "markdown",
   "id": "aa5e6f9e-218d-46d1-8b57-594f24190268",
   "metadata": {},
   "source": [
    "Get design matrix explicitly"
   ]
  },
  {
   "cell_type": "code",
   "execution_count": 29,
   "id": "3f09d1c2-9c5a-4081-856f-0b01be57142c",
   "metadata": {},
   "outputs": [],
   "source": [
    "train_dm = train_ds.get_design_matrix()"
   ]
  },
  {
   "cell_type": "markdown",
   "id": "ea9fd0a0-92da-459e-b4fa-54f7a1d62245",
   "metadata": {},
   "source": [
    "Size of design matrix is  n_structures + 3 * n_atoms  by n_func.\n",
    "\n",
    "First n_structures row correspond to summed up B-basis projections for each structure, divided by size of corresponding structure\n",
    "\n",
    "Remaining 3 * n_atoms rows are corresponding x-,y- and z-force components for each atom"
   ]
  },
  {
   "cell_type": "code",
   "execution_count": 30,
   "id": "5bc88b08-7f49-41b4-9b5f-803429f3935d",
   "metadata": {},
   "outputs": [
    {
     "data": {
      "text/plain": [
       "(33590, 822)"
      ]
     },
     "execution_count": 30,
     "metadata": {},
     "output_type": "execute_result"
    }
   ],
   "source": [
    "train_dm.shape"
   ]
  },
  {
   "cell_type": "markdown",
   "id": "98233fdd-2a35-47e0-a827-3911f0da8438",
   "metadata": {},
   "source": [
    "Get target vector explicitly"
   ]
  },
  {
   "cell_type": "code",
   "execution_count": 31,
   "id": "59ffb228-e015-44a7-82dc-6ea743c1702f",
   "metadata": {},
   "outputs": [],
   "source": [
    "train_y = train_ds.get_target_vector()"
   ]
  },
  {
   "cell_type": "markdown",
   "id": "3332a868-2399-4116-90cf-51cbc2f536b7",
   "metadata": {},
   "source": [
    "Size of design matrix is  n_structures + 3 * n_atoms  by n_func\n",
    "\n",
    "First n_structures row correspond to energy-per-atom each structure\n",
    "\n",
    "Remaining 3 * n_atoms rows are corresponding x-,y- and z-force components for each atoms"
   ]
  },
  {
   "cell_type": "code",
   "execution_count": 32,
   "id": "6e38d927-7160-4998-bec9-958169fe9131",
   "metadata": {},
   "outputs": [
    {
     "data": {
      "text/plain": [
       "(33590,)"
      ]
     },
     "execution_count": 32,
     "metadata": {},
     "output_type": "execute_result"
    }
   ],
   "source": [
    "train_y.shape"
   ]
  },
  {
   "cell_type": "code",
   "execution_count": 33,
   "id": "378589b6-ab1b-4f16-81cd-cee5d5034680",
   "metadata": {},
   "outputs": [
    {
     "data": {
      "text/plain": [
       "33590"
      ]
     },
     "execution_count": 33,
     "metadata": {},
     "output_type": "execute_result"
    }
   ],
   "source": [
    "train_ds.total_number_of_structures + 3* train_ds.total_number_of_atoms"
   ]
  },
  {
   "cell_type": "code",
   "execution_count": 34,
   "id": "ac442843-3a73-429e-b5b6-f8cfd4665d93",
   "metadata": {},
   "outputs": [],
   "source": [
    "B_funcs = train_dm[:train_ds.total_number_of_structures]"
   ]
  },
  {
   "cell_type": "code",
   "execution_count": 35,
   "id": "446a7c86-859e-403d-9c7f-3d4d5bb6c946",
   "metadata": {},
   "outputs": [],
   "source": [
    "B_grad_funcs = train_dm[train_ds.total_number_of_structures:]"
   ]
  },
  {
   "cell_type": "markdown",
   "id": "e1c93c95-4049-4c61-9805-ac20ae2e021d",
   "metadata": {},
   "source": [
    "## Visualization of design matrix features (B-func and B-func grad)"
   ]
  },
  {
   "cell_type": "code",
   "execution_count": 36,
   "id": "b1945f4a-4fff-4272-ae19-70cefe1a58a8",
   "metadata": {},
   "outputs": [
    {
     "data": {
      "text/plain": [
       "Text(0, 0.5, 'B-func spread (max-min)')"
      ]
     },
     "execution_count": 36,
     "metadata": {},
     "output_type": "execute_result"
    },
    {
     "data": {
      "image/png": "[encoded data removed]",
      "text/plain": [
       "<Figure size 432x288 with 1 Axes>"
      ]
     },
     "metadata": {
      "needs_background": "light"
     },
     "output_type": "display_data"
    }
   ],
   "source": [
    "B_funcs_spread = B_funcs.max(axis=0)-B_funcs.min(axis=0)\n",
    "\n",
    "plt.plot(B_funcs_spread)\n",
    "plt.yscale('log');\n",
    "plt.xlabel(\"B-func index\")\n",
    "plt.ylabel(\"B-func spread (max-min)\")"
   ]
  },
  {
   "cell_type": "code",
   "execution_count": 37,
   "id": "4d87e6bd-bfac-4e58-a980-d3bc9cd7777c",
   "metadata": {},
   "outputs": [
    {
     "data": {
      "text/plain": [
       "Text(0, 0.5, 'B-grad-func spread (max-min)')"
      ]
     },
     "execution_count": 37,
     "metadata": {},
     "output_type": "execute_result"
    },
    {
     "data": {
      "image/png": "[encoded data removed]",
      "text/plain": [
       "<Figure size 432x288 with 1 Axes>"
      ]
     },
     "metadata": {
      "needs_background": "light"
     },
     "output_type": "display_data"
    }
   ],
   "source": [
    "B_grad_funcs_spread = B_grad_funcs.max(axis=0)-B_grad_funcs.min(axis=0)\n",
    "\n",
    "plt.plot(B_grad_funcs_spread)\n",
    "plt.yscale('log');\n",
    "plt.xlabel(\"B-grad-func index\")\n",
    "plt.ylabel(\"B-grad-func spread (max-min)\")"
   ]
  },
  {
   "cell_type": "code",
   "execution_count": null,
   "id": "46a7d7a7-f1bd-43db-a2f2-f0741e58e3c1",
   "metadata": {},
   "outputs": [],
   "source": []
  },
  {
   "cell_type": "markdown",
   "id": "d5ad0c93-5ea7-4d65-b5e0-5e0a54f7cfe0",
   "metadata": {},
   "source": [
    "## Create linear model manually"
   ]
  },
  {
   "cell_type": "markdown",
   "id": "e959282d-f513-4dd7-a59c-f91c9f762b41",
   "metadata": {},
   "source": [
    "Create Ridge model"
   ]
  },
  {
   "cell_type": "code",
   "execution_count": 38,
   "id": "410de47b-0a90-4f3b-93f5-c23215736d55",
   "metadata": {},
   "outputs": [],
   "source": [
    "model = Ridge(alpha=1e-10, fit_intercept=False, copy_X=False, random_state=42, solver=\"auto\")"
   ]
  },
  {
   "cell_type": "code",
   "execution_count": 39,
   "id": "56234596-cd64-47e0-96d3-ecc7e35abec0",
   "metadata": {},
   "outputs": [
    {
     "name": "stderr",
     "output_type": "stream",
     "text": [
      "/home/yury/miniconda3/envs/ace/lib/python3.8/site-packages/sklearn/linear_model/_ridge.py:216: LinAlgWarning: Ill-conditioned matrix (rcond=6.39291e-18): result may not be accurate.\n",
      "  return linalg.solve(A, Xy, assume_a=\"pos\", overwrite_a=True).T\n"
     ]
    },
    {
     "data": {
      "text/html": [
       "<style>#sk-container-id-2 {color: black;background-color: white;}#sk-container-id-2 pre{padding: 0;}#sk-container-id-2 div.sk-toggleable {background-color: white;}#sk-container-id-2 label.sk-toggleable__label {cursor: pointer;display: block;width: 100%;margin-bottom: 0;padding: 0.3em;box-sizing: border-box;text-align: center;}#sk-container-id-2 label.sk-toggleable__label-arrow:before {content: \"▸\";float: left;margin-right: 0.25em;color: #696969;}#sk-container-id-2 label.sk-toggleable__label-arrow:hover:before {color: black;}#sk-container-id-2 div.sk-estimator:hover label.sk-toggleable__label-arrow:before {color: black;}#sk-container-id-2 div.sk-toggleable__content {max-height: 0;max-width: 0;overflow: hidden;text-align: left;background-color: #f0f8ff;}#sk-container-id-2 div.sk-toggleable__content pre {margin: 0.2em;color: black;border-radius: 0.25em;background-color: #f0f8ff;}#sk-container-id-2 input.sk-toggleable__control:checked~div.sk-toggleable__content {max-height: 200px;max-width: 100%;overflow: auto;}#sk-container-id-2 input.sk-toggleable__control:checked~label.sk-toggleable__label-arrow:before {content: \"▾\";}#sk-container-id-2 div.sk-estimator input.sk-toggleable__control:checked~label.sk-toggleable__label {background-color: #d4ebff;}#sk-container-id-2 div.sk-label input.sk-toggleable__control:checked~label.sk-toggleable__label {background-color: #d4ebff;}#sk-container-id-2 input.sk-hidden--visually {border: 0;clip: rect(1px 1px 1px 1px);clip: rect(1px, 1px, 1px, 1px);height: 1px;margin: -1px;overflow: hidden;padding: 0;position: absolute;width: 1px;}#sk-container-id-2 div.sk-estimator {font-family: monospace;background-color: #f0f8ff;border: 1px dotted black;border-radius: 0.25em;box-sizing: border-box;margin-bottom: 0.5em;}#sk-container-id-2 div.sk-estimator:hover {background-color: #d4ebff;}#sk-container-id-2 div.sk-parallel-item::after {content: \"\";width: 100%;border-bottom: 1px solid gray;flex-grow: 1;}#sk-container-id-2 div.sk-label:hover label.sk-toggleable__label {background-color: #d4ebff;}#sk-container-id-2 div.sk-serial::before {content: \"\";position: absolute;border-left: 1px solid gray;box-sizing: border-box;top: 0;bottom: 0;left: 50%;z-index: 0;}#sk-container-id-2 div.sk-serial {display: flex;flex-direction: column;align-items: center;background-color: white;padding-right: 0.2em;padding-left: 0.2em;position: relative;}#sk-container-id-2 div.sk-item {position: relative;z-index: 1;}#sk-container-id-2 div.sk-parallel {display: flex;align-items: stretch;justify-content: center;background-color: white;position: relative;}#sk-container-id-2 div.sk-item::before, #sk-container-id-2 div.sk-parallel-item::before {content: \"\";position: absolute;border-left: 1px solid gray;box-sizing: border-box;top: 0;bottom: 0;left: 50%;z-index: -1;}#sk-container-id-2 div.sk-parallel-item {display: flex;flex-direction: column;z-index: 1;position: relative;background-color: white;}#sk-container-id-2 div.sk-parallel-item:first-child::after {align-self: flex-end;width: 50%;}#sk-container-id-2 div.sk-parallel-item:last-child::after {align-self: flex-start;width: 50%;}#sk-container-id-2 div.sk-parallel-item:only-child::after {width: 0;}#sk-container-id-2 div.sk-dashed-wrapped {border: 1px dashed gray;margin: 0 0.4em 0.5em 0.4em;box-sizing: border-box;padding-bottom: 0.4em;background-color: white;}#sk-container-id-2 div.sk-label label {font-family: monospace;font-weight: bold;display: inline-block;line-height: 1.2em;}#sk-container-id-2 div.sk-label-container {text-align: center;}#sk-container-id-2 div.sk-container {/* jupyter's `normalize.less` sets `[hidden] { display: none; }` but bootstrap.min.css set `[hidden] { display: none !important; }` so we also need the `!important` here to be able to override the default hidden behavior on the sphinx rendered scikit-learn.org. See: https://github.com/scikit-learn/scikit-learn/issues/21755 */display: inline-block !important;position: relative;}#sk-container-id-2 div.sk-text-repr-fallback {display: none;}</style><div id=\"sk-container-id-2\" class=\"sk-top-container\"><div class=\"sk-text-repr-fallback\"><pre>Ridge(alpha=1e-10, copy_X=False, fit_intercept=False, random_state=42)</pre><b>In a Jupyter environment, please rerun this cell to show the HTML representation or trust the notebook. <br />On GitHub, the HTML representation is unable to render, please try loading this page with nbviewer.org.</b></div><div class=\"sk-container\" hidden><div class=\"sk-item\"><div class=\"sk-estimator sk-toggleable\"><input class=\"sk-toggleable__control sk-hidden--visually\" id=\"sk-estimator-id-2\" type=\"checkbox\" checked><label for=\"sk-estimator-id-2\" class=\"sk-toggleable__label sk-toggleable__label-arrow\">Ridge</label><div class=\"sk-toggleable__content\"><pre>Ridge(alpha=1e-10, copy_X=False, fit_intercept=False, random_state=42)</pre></div></div></div></div></div>"
      ],
      "text/plain": [
       "Ridge(alpha=1e-10, copy_X=False, fit_intercept=False, random_state=42)"
      ]
     },
     "execution_count": 39,
     "metadata": {},
     "output_type": "execute_result"
    }
   ],
   "source": [
    "model.fit(train_dm, train_y)"
   ]
  },
  {
   "cell_type": "markdown",
   "id": "ebd2afbe-64e7-40ee-8da6-565160f1f554",
   "metadata": {},
   "source": [
    "get model predictions on train design matrix"
   ]
  },
  {
   "cell_type": "code",
   "execution_count": 40,
   "id": "f7d51292-1fb9-46d7-8658-8b6e29da4ccb",
   "metadata": {},
   "outputs": [],
   "source": [
    "train_pred = model.predict(train_dm)"
   ]
  },
  {
   "cell_type": "markdown",
   "id": "03452c80-efdf-41c2-9159-11ad9f0a4804",
   "metadata": {},
   "source": [
    "Extract energy-per-atom (epa) and forces from predicted vector"
   ]
  },
  {
   "cell_type": "code",
   "execution_count": 41,
   "id": "9038ec4a-b5eb-4430-9ae7-b67904f1abcf",
   "metadata": {},
   "outputs": [],
   "source": [
    "epa_pred = train_ds.get_energies_per_atom(train_pred)"
   ]
  },
  {
   "cell_type": "code",
   "execution_count": 42,
   "id": "36a915a5-eef3-4cee-ba40-e83ccf85a54a",
   "metadata": {},
   "outputs": [],
   "source": [
    "f_pred = train_ds.get_forces(train_pred)"
   ]
  },
  {
   "cell_type": "markdown",
   "id": "6592deeb-5f9a-40cd-a771-b82a887477cf",
   "metadata": {},
   "source": [
    "Compute error metrics for *train* dataset, using predicted EPA and forces.\n",
    "Reference values are stored in dataset and used automatically, unless provided otherwise"
   ]
  },
  {
   "cell_type": "code",
   "execution_count": 43,
   "id": "9280f49d-f171-4563-89a0-cf393156c998",
   "metadata": {},
   "outputs": [
    {
     "data": {
      "text/plain": [
       "{'epa_mae': 0.0036495512161847134,\n",
       " 'epa_rmse': 0.005990969296745907,\n",
       " 'f_comp_mae': 0.00667100264536319,\n",
       " 'f_comp_rmse': 0.011911568872160548}"
      ]
     },
     "execution_count": 43,
     "metadata": {},
     "output_type": "execute_result"
    }
   ],
   "source": [
    "train_ds.compute_errors(epa_pred, f_pred)"
   ]
  },
  {
   "cell_type": "markdown",
   "id": "f534e634-a515-4eee-92ed-50b30d713cd3",
   "metadata": {},
   "source": [
    "## Using PCA for dimensionality reduction"
   ]
  },
  {
   "cell_type": "code",
   "execution_count": 44,
   "id": "02fe9902-578e-41db-bf36-5d7fdcca6f74",
   "metadata": {},
   "outputs": [],
   "source": [
    "pca = PCA()\n",
    "train_dm_pca = pca.fit_transform(train_dm)"
   ]
  },
  {
   "cell_type": "code",
   "execution_count": 45,
   "id": "57a3ad6a-85a3-4cdc-b345-3e5bf9b85119",
   "metadata": {},
   "outputs": [],
   "source": [
    "model = Ridge(alpha=1e-10, fit_intercept=False, copy_X=False, random_state=42, solver=\"auto\")"
   ]
  },
  {
   "cell_type": "code",
   "execution_count": 46,
   "id": "a5c6c954-5da8-43dd-82aa-af2d17ff7c59",
   "metadata": {},
   "outputs": [
    {
     "name": "stderr",
     "output_type": "stream",
     "text": [
      "/home/yury/miniconda3/envs/ace/lib/python3.8/site-packages/sklearn/linear_model/_ridge.py:216: LinAlgWarning: Ill-conditioned matrix (rcond=3.06267e-17): result may not be accurate.\n",
      "  return linalg.solve(A, Xy, assume_a=\"pos\", overwrite_a=True).T\n"
     ]
    },
    {
     "data": {
      "text/html": [
       "<style>#sk-container-id-3 {color: black;background-color: white;}#sk-container-id-3 pre{padding: 0;}#sk-container-id-3 div.sk-toggleable {background-color: white;}#sk-container-id-3 label.sk-toggleable__label {cursor: pointer;display: block;width: 100%;margin-bottom: 0;padding: 0.3em;box-sizing: border-box;text-align: center;}#sk-container-id-3 label.sk-toggleable__label-arrow:before {content: \"▸\";float: left;margin-right: 0.25em;color: #696969;}#sk-container-id-3 label.sk-toggleable__label-arrow:hover:before {color: black;}#sk-container-id-3 div.sk-estimator:hover label.sk-toggleable__label-arrow:before {color: black;}#sk-container-id-3 div.sk-toggleable__content {max-height: 0;max-width: 0;overflow: hidden;text-align: left;background-color: #f0f8ff;}#sk-container-id-3 div.sk-toggleable__content pre {margin: 0.2em;color: black;border-radius: 0.25em;background-color: #f0f8ff;}#sk-container-id-3 input.sk-toggleable__control:checked~div.sk-toggleable__content {max-height: 200px;max-width: 100%;overflow: auto;}#sk-container-id-3 input.sk-toggleable__control:checked~label.sk-toggleable__label-arrow:before {content: \"▾\";}#sk-container-id-3 div.sk-estimator input.sk-toggleable__control:checked~label.sk-toggleable__label {background-color: #d4ebff;}#sk-container-id-3 div.sk-label input.sk-toggleable__control:checked~label.sk-toggleable__label {background-color: #d4ebff;}#sk-container-id-3 input.sk-hidden--visually {border: 0;clip: rect(1px 1px 1px 1px);clip: rect(1px, 1px, 1px, 1px);height: 1px;margin: -1px;overflow: hidden;padding: 0;position: absolute;width: 1px;}#sk-container-id-3 div.sk-estimator {font-family: monospace;background-color: #f0f8ff;border: 1px dotted black;border-radius: 0.25em;box-sizing: border-box;margin-bottom: 0.5em;}#sk-container-id-3 div.sk-estimator:hover {background-color: #d4ebff;}#sk-container-id-3 div.sk-parallel-item::after {content: \"\";width: 100%;border-bottom: 1px solid gray;flex-grow: 1;}#sk-container-id-3 div.sk-label:hover label.sk-toggleable__label {background-color: #d4ebff;}#sk-container-id-3 div.sk-serial::before {content: \"\";position: absolute;border-left: 1px solid gray;box-sizing: border-box;top: 0;bottom: 0;left: 50%;z-index: 0;}#sk-container-id-3 div.sk-serial {display: flex;flex-direction: column;align-items: center;background-color: white;padding-right: 0.2em;padding-left: 0.2em;position: relative;}#sk-container-id-3 div.sk-item {position: relative;z-index: 1;}#sk-container-id-3 div.sk-parallel {display: flex;align-items: stretch;justify-content: center;background-color: white;position: relative;}#sk-container-id-3 div.sk-item::before, #sk-container-id-3 div.sk-parallel-item::before {content: \"\";position: absolute;border-left: 1px solid gray;box-sizing: border-box;top: 0;bottom: 0;left: 50%;z-index: -1;}#sk-container-id-3 div.sk-parallel-item {display: flex;flex-direction: column;z-index: 1;position: relative;background-color: white;}#sk-container-id-3 div.sk-parallel-item:first-child::after {align-self: flex-end;width: 50%;}#sk-container-id-3 div.sk-parallel-item:last-child::after {align-self: flex-start;width: 50%;}#sk-container-id-3 div.sk-parallel-item:only-child::after {width: 0;}#sk-container-id-3 div.sk-dashed-wrapped {border: 1px dashed gray;margin: 0 0.4em 0.5em 0.4em;box-sizing: border-box;padding-bottom: 0.4em;background-color: white;}#sk-container-id-3 div.sk-label label {font-family: monospace;font-weight: bold;display: inline-block;line-height: 1.2em;}#sk-container-id-3 div.sk-label-container {text-align: center;}#sk-container-id-3 div.sk-container {/* jupyter's `normalize.less` sets `[hidden] { display: none; }` but bootstrap.min.css set `[hidden] { display: none !important; }` so we also need the `!important` here to be able to override the default hidden behavior on the sphinx rendered scikit-learn.org. See: https://github.com/scikit-learn/scikit-learn/issues/21755 */display: inline-block !important;position: relative;}#sk-container-id-3 div.sk-text-repr-fallback {display: none;}</style><div id=\"sk-container-id-3\" class=\"sk-top-container\"><div class=\"sk-text-repr-fallback\"><pre>Ridge(alpha=1e-10, copy_X=False, fit_intercept=False, random_state=42)</pre><b>In a Jupyter environment, please rerun this cell to show the HTML representation or trust the notebook. <br />On GitHub, the HTML representation is unable to render, please try loading this page with nbviewer.org.</b></div><div class=\"sk-container\" hidden><div class=\"sk-item\"><div class=\"sk-estimator sk-toggleable\"><input class=\"sk-toggleable__control sk-hidden--visually\" id=\"sk-estimator-id-3\" type=\"checkbox\" checked><label for=\"sk-estimator-id-3\" class=\"sk-toggleable__label sk-toggleable__label-arrow\">Ridge</label><div class=\"sk-toggleable__content\"><pre>Ridge(alpha=1e-10, copy_X=False, fit_intercept=False, random_state=42)</pre></div></div></div></div></div>"
      ],
      "text/plain": [
       "Ridge(alpha=1e-10, copy_X=False, fit_intercept=False, random_state=42)"
      ]
     },
     "execution_count": 46,
     "metadata": {},
     "output_type": "execute_result"
    }
   ],
   "source": [
    "model.fit(train_dm_pca, train_y)"
   ]
  },
  {
   "cell_type": "code",
   "execution_count": 47,
   "id": "61a72cad-f667-48d1-9f4d-aa2b3415ba0f",
   "metadata": {},
   "outputs": [],
   "source": [
    "train_pred = model.predict(train_dm_pca)"
   ]
  },
  {
   "cell_type": "code",
   "execution_count": 48,
   "id": "5f7f41b2-d351-4f36-974d-ed6128357cc1",
   "metadata": {},
   "outputs": [],
   "source": [
    "epa_pred = train_ds.get_energies_per_atom(train_pred)"
   ]
  },
  {
   "cell_type": "code",
   "execution_count": 49,
   "id": "61cbf2a3-09d5-43a3-8da8-059d794e3be7",
   "metadata": {},
   "outputs": [],
   "source": [
    "f_pred = train_ds.get_forces(train_pred)"
   ]
  },
  {
   "cell_type": "code",
   "execution_count": null,
   "id": "706b07f5-79ec-4a23-89d8-2b690baf0437",
   "metadata": {},
   "outputs": [],
   "source": []
  },
  {
   "cell_type": "code",
   "execution_count": 50,
   "id": "aacf62c7-748f-4c58-a65f-2ec6b4699b2a",
   "metadata": {},
   "outputs": [
    {
     "data": {
      "text/plain": [
       "{'epa_mae': 0.0941114902929369,\n",
       " 'epa_rmse': 0.09430150398882028,\n",
       " 'f_comp_mae': 0.0938204774890719,\n",
       " 'f_comp_rmse': 0.09455558160179986}"
      ]
     },
     "execution_count": 50,
     "metadata": {},
     "output_type": "execute_result"
    }
   ],
   "source": [
    "train_ds.compute_errors(epa_pred, f_pred)"
   ]
  },
  {
   "cell_type": "code",
   "execution_count": null,
   "id": "957f1ca0-725e-4944-a8d5-0d6ac340ca7c",
   "metadata": {},
   "outputs": [],
   "source": []
  },
  {
   "cell_type": "markdown",
   "id": "c4cb7942-a4fd-4742-a8a6-7faf566bb501",
   "metadata": {},
   "source": [
    "## Fit of energies-only"
   ]
  },
  {
   "cell_type": "code",
   "execution_count": 51,
   "id": "a4b6b949-b0f4-498b-9fa5-2b020e1b96e5",
   "metadata": {},
   "outputs": [],
   "source": [
    "B_funcs = train_dm[:train_ds.total_number_of_structures]"
   ]
  },
  {
   "cell_type": "code",
   "execution_count": 52,
   "id": "fa8fbfe5-8221-470a-ba44-e76157d72870",
   "metadata": {},
   "outputs": [],
   "source": [
    "epa_ref = train_y[:train_ds.total_number_of_structures]"
   ]
  },
  {
   "cell_type": "code",
   "execution_count": 53,
   "id": "b038f86a-f887-4788-be25-d037937f10ff",
   "metadata": {},
   "outputs": [
    {
     "data": {
      "image/png": "[encoded data removed]",
      "text/plain": [
       "<Figure size 432x288 with 1 Axes>"
      ]
     },
     "metadata": {
      "needs_background": "light"
     },
     "output_type": "display_data"
    }
   ],
   "source": [
    "plt.hist(epa_ref,bins=100);\n",
    "plt.xlabel(\"E, eV/atom\");"
   ]
  },
  {
   "cell_type": "code",
   "execution_count": 54,
   "id": "f51a46fd-2616-443b-9307-138866db156c",
   "metadata": {},
   "outputs": [],
   "source": [
    "model = Ridge(alpha=1e-10, fit_intercept=False, copy_X=False, random_state=42, solver=\"auto\")"
   ]
  },
  {
   "cell_type": "code",
   "execution_count": 55,
   "id": "428fd760-82bb-406f-a261-e52deaa4a4ef",
   "metadata": {},
   "outputs": [
    {
     "data": {
      "text/html": [
       "<style>#sk-container-id-4 {color: black;background-color: white;}#sk-container-id-4 pre{padding: 0;}#sk-container-id-4 div.sk-toggleable {background-color: white;}#sk-container-id-4 label.sk-toggleable__label {cursor: pointer;display: block;width: 100%;margin-bottom: 0;padding: 0.3em;box-sizing: border-box;text-align: center;}#sk-container-id-4 label.sk-toggleable__label-arrow:before {content: \"▸\";float: left;margin-right: 0.25em;color: #696969;}#sk-container-id-4 label.sk-toggleable__label-arrow:hover:before {color: black;}#sk-container-id-4 div.sk-estimator:hover label.sk-toggleable__label-arrow:before {color: black;}#sk-container-id-4 div.sk-toggleable__content {max-height: 0;max-width: 0;overflow: hidden;text-align: left;background-color: #f0f8ff;}#sk-container-id-4 div.sk-toggleable__content pre {margin: 0.2em;color: black;border-radius: 0.25em;background-color: #f0f8ff;}#sk-container-id-4 input.sk-toggleable__control:checked~div.sk-toggleable__content {max-height: 200px;max-width: 100%;overflow: auto;}#sk-container-id-4 input.sk-toggleable__control:checked~label.sk-toggleable__label-arrow:before {content: \"▾\";}#sk-container-id-4 div.sk-estimator input.sk-toggleable__control:checked~label.sk-toggleable__label {background-color: #d4ebff;}#sk-container-id-4 div.sk-label input.sk-toggleable__control:checked~label.sk-toggleable__label {background-color: #d4ebff;}#sk-container-id-4 input.sk-hidden--visually {border: 0;clip: rect(1px 1px 1px 1px);clip: rect(1px, 1px, 1px, 1px);height: 1px;margin: -1px;overflow: hidden;padding: 0;position: absolute;width: 1px;}#sk-container-id-4 div.sk-estimator {font-family: monospace;background-color: #f0f8ff;border: 1px dotted black;border-radius: 0.25em;box-sizing: border-box;margin-bottom: 0.5em;}#sk-container-id-4 div.sk-estimator:hover {background-color: #d4ebff;}#sk-container-id-4 div.sk-parallel-item::after {content: \"\";width: 100%;border-bottom: 1px solid gray;flex-grow: 1;}#sk-container-id-4 div.sk-label:hover label.sk-toggleable__label {background-color: #d4ebff;}#sk-container-id-4 div.sk-serial::before {content: \"\";position: absolute;border-left: 1px solid gray;box-sizing: border-box;top: 0;bottom: 0;left: 50%;z-index: 0;}#sk-container-id-4 div.sk-serial {display: flex;flex-direction: column;align-items: center;background-color: white;padding-right: 0.2em;padding-left: 0.2em;position: relative;}#sk-container-id-4 div.sk-item {position: relative;z-index: 1;}#sk-container-id-4 div.sk-parallel {display: flex;align-items: stretch;justify-content: center;background-color: white;position: relative;}#sk-container-id-4 div.sk-item::before, #sk-container-id-4 div.sk-parallel-item::before {content: \"\";position: absolute;border-left: 1px solid gray;box-sizing: border-box;top: 0;bottom: 0;left: 50%;z-index: -1;}#sk-container-id-4 div.sk-parallel-item {display: flex;flex-direction: column;z-index: 1;position: relative;background-color: white;}#sk-container-id-4 div.sk-parallel-item:first-child::after {align-self: flex-end;width: 50%;}#sk-container-id-4 div.sk-parallel-item:last-child::after {align-self: flex-start;width: 50%;}#sk-container-id-4 div.sk-parallel-item:only-child::after {width: 0;}#sk-container-id-4 div.sk-dashed-wrapped {border: 1px dashed gray;margin: 0 0.4em 0.5em 0.4em;box-sizing: border-box;padding-bottom: 0.4em;background-color: white;}#sk-container-id-4 div.sk-label label {font-family: monospace;font-weight: bold;display: inline-block;line-height: 1.2em;}#sk-container-id-4 div.sk-label-container {text-align: center;}#sk-container-id-4 div.sk-container {/* jupyter's `normalize.less` sets `[hidden] { display: none; }` but bootstrap.min.css set `[hidden] { display: none !important; }` so we also need the `!important` here to be able to override the default hidden behavior on the sphinx rendered scikit-learn.org. See: https://github.com/scikit-learn/scikit-learn/issues/21755 */display: inline-block !important;position: relative;}#sk-container-id-4 div.sk-text-repr-fallback {display: none;}</style><div id=\"sk-container-id-4\" class=\"sk-top-container\"><div class=\"sk-text-repr-fallback\"><pre>Ridge(alpha=1e-10, copy_X=False, fit_intercept=False, random_state=42)</pre><b>In a Jupyter environment, please rerun this cell to show the HTML representation or trust the notebook. <br />On GitHub, the HTML representation is unable to render, please try loading this page with nbviewer.org.</b></div><div class=\"sk-container\" hidden><div class=\"sk-item\"><div class=\"sk-estimator sk-toggleable\"><input class=\"sk-toggleable__control sk-hidden--visually\" id=\"sk-estimator-id-4\" type=\"checkbox\" checked><label for=\"sk-estimator-id-4\" class=\"sk-toggleable__label sk-toggleable__label-arrow\">Ridge</label><div class=\"sk-toggleable__content\"><pre>Ridge(alpha=1e-10, copy_X=False, fit_intercept=False, random_state=42)</pre></div></div></div></div></div>"
      ],
      "text/plain": [
       "Ridge(alpha=1e-10, copy_X=False, fit_intercept=False, random_state=42)"
      ]
     },
     "execution_count": 55,
     "metadata": {},
     "output_type": "execute_result"
    }
   ],
   "source": [
    "model.fit(B_funcs,epa_ref)"
   ]
  },
  {
   "cell_type": "code",
   "execution_count": 56,
   "id": "ef2b2d60-7289-4913-b67b-b8c697d58222",
   "metadata": {},
   "outputs": [],
   "source": [
    "epa_pred = model.predict(B_funcs)"
   ]
  },
  {
   "cell_type": "code",
   "execution_count": 57,
   "id": "090ca473-7a31-40b8-a080-d59da36905a5",
   "metadata": {},
   "outputs": [
    {
     "data": {
      "text/plain": [
       "0.3911348345455415"
      ]
     },
     "execution_count": 57,
     "metadata": {},
     "output_type": "execute_result"
    }
   ],
   "source": [
    "# E-RMSE, meV/at\n",
    "np.sqrt(np.mean((epa_pred-epa_ref)**2))*1e3 "
   ]
  },
  {
   "cell_type": "markdown",
   "id": "d3f72681-ae3e-4d42-bd8f-faafba32c719",
   "metadata": {},
   "source": [
    "### Energies-only with PCA"
   ]
  },
  {
   "cell_type": "code",
   "execution_count": 58,
   "id": "51f7574b-d08f-40e6-badd-0607a136da21",
   "metadata": {},
   "outputs": [],
   "source": [
    "B_funcs_pca = PCA().fit_transform(B_funcs)"
   ]
  },
  {
   "cell_type": "code",
   "execution_count": 59,
   "id": "63bec795-2f32-411e-b5a7-26220d81ce85",
   "metadata": {},
   "outputs": [],
   "source": [
    "B_funcs_pca_spread=B_funcs_pca.max(axis=0)-B_funcs_pca.min(axis=0)"
   ]
  },
  {
   "cell_type": "code",
   "execution_count": 60,
   "id": "32cc2a4a-65a2-4627-94cc-2b847042b49a",
   "metadata": {},
   "outputs": [
    {
     "data": {
      "text/plain": [
       "Text(0, 0.5, 'B-func PCA spread (max-min)')"
      ]
     },
     "execution_count": 60,
     "metadata": {},
     "output_type": "execute_result"
    },
    {
     "data": {
      "image/png": "[encoded data removed]",
      "text/plain": [
       "<Figure size 432x288 with 1 Axes>"
      ]
     },
     "metadata": {
      "needs_background": "light"
     },
     "output_type": "display_data"
    }
   ],
   "source": [
    "plt.plot(B_funcs_pca_spread)\n",
    "plt.yscale('log');\n",
    "plt.xlabel(\"B-func PCA index\")\n",
    "plt.ylabel(\"B-func PCA spread (max-min)\")"
   ]
  },
  {
   "cell_type": "code",
   "execution_count": 61,
   "id": "fe7f26bc-00f1-42f0-bc18-5ad4ad6845d0",
   "metadata": {},
   "outputs": [
    {
     "name": "stderr",
     "output_type": "stream",
     "text": [
      "/home/yury/miniconda3/envs/ace/lib/python3.8/site-packages/sklearn/linear_model/_ridge.py:216: LinAlgWarning: Ill-conditioned matrix (rcond=7.59317e-21): result may not be accurate.\n",
      "  return linalg.solve(A, Xy, assume_a=\"pos\", overwrite_a=True).T\n"
     ]
    },
    {
     "data": {
      "text/html": [
       "<style>#sk-container-id-5 {color: black;background-color: white;}#sk-container-id-5 pre{padding: 0;}#sk-container-id-5 div.sk-toggleable {background-color: white;}#sk-container-id-5 label.sk-toggleable__label {cursor: pointer;display: block;width: 100%;margin-bottom: 0;padding: 0.3em;box-sizing: border-box;text-align: center;}#sk-container-id-5 label.sk-toggleable__label-arrow:before {content: \"▸\";float: left;margin-right: 0.25em;color: #696969;}#sk-container-id-5 label.sk-toggleable__label-arrow:hover:before {color: black;}#sk-container-id-5 div.sk-estimator:hover label.sk-toggleable__label-arrow:before {color: black;}#sk-container-id-5 div.sk-toggleable__content {max-height: 0;max-width: 0;overflow: hidden;text-align: left;background-color: #f0f8ff;}#sk-container-id-5 div.sk-toggleable__content pre {margin: 0.2em;color: black;border-radius: 0.25em;background-color: #f0f8ff;}#sk-container-id-5 input.sk-toggleable__control:checked~div.sk-toggleable__content {max-height: 200px;max-width: 100%;overflow: auto;}#sk-container-id-5 input.sk-toggleable__control:checked~label.sk-toggleable__label-arrow:before {content: \"▾\";}#sk-container-id-5 div.sk-estimator input.sk-toggleable__control:checked~label.sk-toggleable__label {background-color: #d4ebff;}#sk-container-id-5 div.sk-label input.sk-toggleable__control:checked~label.sk-toggleable__label {background-color: #d4ebff;}#sk-container-id-5 input.sk-hidden--visually {border: 0;clip: rect(1px 1px 1px 1px);clip: rect(1px, 1px, 1px, 1px);height: 1px;margin: -1px;overflow: hidden;padding: 0;position: absolute;width: 1px;}#sk-container-id-5 div.sk-estimator {font-family: monospace;background-color: #f0f8ff;border: 1px dotted black;border-radius: 0.25em;box-sizing: border-box;margin-bottom: 0.5em;}#sk-container-id-5 div.sk-estimator:hover {background-color: #d4ebff;}#sk-container-id-5 div.sk-parallel-item::after {content: \"\";width: 100%;border-bottom: 1px solid gray;flex-grow: 1;}#sk-container-id-5 div.sk-label:hover label.sk-toggleable__label {background-color: #d4ebff;}#sk-container-id-5 div.sk-serial::before {content: \"\";position: absolute;border-left: 1px solid gray;box-sizing: border-box;top: 0;bottom: 0;left: 50%;z-index: 0;}#sk-container-id-5 div.sk-serial {display: flex;flex-direction: column;align-items: center;background-color: white;padding-right: 0.2em;padding-left: 0.2em;position: relative;}#sk-container-id-5 div.sk-item {position: relative;z-index: 1;}#sk-container-id-5 div.sk-parallel {display: flex;align-items: stretch;justify-content: center;background-color: white;position: relative;}#sk-container-id-5 div.sk-item::before, #sk-container-id-5 div.sk-parallel-item::before {content: \"\";position: absolute;border-left: 1px solid gray;box-sizing: border-box;top: 0;bottom: 0;left: 50%;z-index: -1;}#sk-container-id-5 div.sk-parallel-item {display: flex;flex-direction: column;z-index: 1;position: relative;background-color: white;}#sk-container-id-5 div.sk-parallel-item:first-child::after {align-self: flex-end;width: 50%;}#sk-container-id-5 div.sk-parallel-item:last-child::after {align-self: flex-start;width: 50%;}#sk-container-id-5 div.sk-parallel-item:only-child::after {width: 0;}#sk-container-id-5 div.sk-dashed-wrapped {border: 1px dashed gray;margin: 0 0.4em 0.5em 0.4em;box-sizing: border-box;padding-bottom: 0.4em;background-color: white;}#sk-container-id-5 div.sk-label label {font-family: monospace;font-weight: bold;display: inline-block;line-height: 1.2em;}#sk-container-id-5 div.sk-label-container {text-align: center;}#sk-container-id-5 div.sk-container {/* jupyter's `normalize.less` sets `[hidden] { display: none; }` but bootstrap.min.css set `[hidden] { display: none !important; }` so we also need the `!important` here to be able to override the default hidden behavior on the sphinx rendered scikit-learn.org. See: https://github.com/scikit-learn/scikit-learn/issues/21755 */display: inline-block !important;position: relative;}#sk-container-id-5 div.sk-text-repr-fallback {display: none;}</style><div id=\"sk-container-id-5\" class=\"sk-top-container\"><div class=\"sk-text-repr-fallback\"><pre>Ridge(alpha=1e-10, copy_X=False, fit_intercept=False, random_state=42)</pre><b>In a Jupyter environment, please rerun this cell to show the HTML representation or trust the notebook. <br />On GitHub, the HTML representation is unable to render, please try loading this page with nbviewer.org.</b></div><div class=\"sk-container\" hidden><div class=\"sk-item\"><div class=\"sk-estimator sk-toggleable\"><input class=\"sk-toggleable__control sk-hidden--visually\" id=\"sk-estimator-id-5\" type=\"checkbox\" checked><label for=\"sk-estimator-id-5\" class=\"sk-toggleable__label sk-toggleable__label-arrow\">Ridge</label><div class=\"sk-toggleable__content\"><pre>Ridge(alpha=1e-10, copy_X=False, fit_intercept=False, random_state=42)</pre></div></div></div></div></div>"
      ],
      "text/plain": [
       "Ridge(alpha=1e-10, copy_X=False, fit_intercept=False, random_state=42)"
      ]
     },
     "execution_count": 61,
     "metadata": {},
     "output_type": "execute_result"
    }
   ],
   "source": [
    "model.fit(B_funcs_pca,epa_ref)"
   ]
  },
  {
   "cell_type": "code",
   "execution_count": 62,
   "id": "800cb85b-2b04-401f-a20f-be3ef719aac7",
   "metadata": {},
   "outputs": [],
   "source": [
    "epa_pred_pca = model.predict(B_funcs_pca)"
   ]
  },
  {
   "cell_type": "code",
   "execution_count": 63,
   "id": "748c9eac-c7c9-47c0-9e9c-e351d6a5fe4f",
   "metadata": {},
   "outputs": [
    {
     "data": {
      "text/plain": [
       "3316.9605153475927"
      ]
     },
     "execution_count": 63,
     "metadata": {},
     "output_type": "execute_result"
    }
   ],
   "source": [
    "# E-RMSE, meV/at\n",
    "np.sqrt(np.mean((epa_pred_pca-epa_ref)**2))*1e3 "
   ]
  },
  {
   "cell_type": "code",
   "execution_count": null,
   "id": "cdb2b40e-05be-453f-8d22-ad34fc42c737",
   "metadata": {},
   "outputs": [],
   "source": []
  }
 ],
 "metadata": {
  "kernelspec": {
   "display_name": "Python (ace)",
   "language": "python",
   "name": "ace"
  },
  "language_info": {
   "codemirror_mode": {
    "name": "ipython",
    "version": 3
   },
   "file_extension": ".py",
   "mimetype": "text/x-python",
   "name": "python",
   "nbconvert_exporter": "python",
   "pygments_lexer": "ipython3",
   "version": "3.8.13"
  }
 },
 "nbformat": 4,
 "nbformat_minor": 5
}
