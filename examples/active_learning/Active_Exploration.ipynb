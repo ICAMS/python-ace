{
 "cells": [
  {
   "cell_type": "code",
   "execution_count": 1,
   "id": "a572d4f6",
   "metadata": {},
   "outputs": [
    {
     "name": "stdout",
     "output_type": "stream",
     "text": [
      "Populating the interactive namespace from numpy and matplotlib\n"
     ]
    }
   ],
   "source": [
    "%pylab inline"
   ]
  },
  {
   "cell_type": "code",
   "execution_count": 2,
   "id": "5bc5dad6",
   "metadata": {},
   "outputs": [],
   "source": [
    "import pandas as pd"
   ]
  },
  {
   "cell_type": "code",
   "execution_count": 3,
   "id": "04e036a5",
   "metadata": {},
   "outputs": [],
   "source": [
    "from pyace import *\n",
    "from pyace.activeexploration import ActiveExploration"
   ]
  },
  {
   "cell_type": "markdown",
   "id": "b950f4ee",
   "metadata": {},
   "source": [
    "# Active exploration of Cu potential"
   ]
  },
  {
   "cell_type": "markdown",
   "id": "4c0e7918",
   "metadata": {},
   "source": [
    "## 1. Create or load initial structure"
   ]
  },
  {
   "cell_type": "code",
   "execution_count": 4,
   "id": "269893ed",
   "metadata": {},
   "outputs": [],
   "source": [
    "from ase.build import bulk"
   ]
  },
  {
   "cell_type": "code",
   "execution_count": 5,
   "id": "c790b67f",
   "metadata": {},
   "outputs": [
    {
     "data": {
      "text/plain": [
       "Atoms(symbols='Cu108', pbc=True, cell=[10.83, 10.83, 10.83])"
      ]
     },
     "execution_count": 5,
     "metadata": {},
     "output_type": "execute_result"
    }
   ],
   "source": [
    "fcc = bulk(\"Cu\",cubic=True)*(3,3,3)\n",
    "fcc"
   ]
  },
  {
   "cell_type": "markdown",
   "id": "837a8e55",
   "metadata": {},
   "source": [
    "You can also use randomly selected structures from the training set"
   ]
  },
  {
   "cell_type": "markdown",
   "id": "2ffd6e99",
   "metadata": {},
   "source": [
    "## 2. Load current potential"
   ]
  },
  {
   "cell_type": "code",
   "execution_count": 6,
   "id": "32c6c024",
   "metadata": {},
   "outputs": [],
   "source": [
    "bconf = BBasisConfiguration(\"Cu-I.yaml\")"
   ]
  },
  {
   "cell_type": "code",
   "execution_count": 7,
   "id": "214a01e3",
   "metadata": {},
   "outputs": [],
   "source": [
    "ae = ActiveExploration(bconf,'Cu-I.asi')"
   ]
  },
  {
   "cell_type": "code",
   "execution_count": 8,
   "id": "35d6938a",
   "metadata": {
    "scrolled": false
   },
   "outputs": [
    {
     "name": "stderr",
     "output_type": "stream",
     "text": [
      "/home/users/lysogy36/miniconda3/envs/ace/lib/python3.8/site-packages/ase-3.21.1-py3.8.egg/ase/utils/__init__.py:41: FutureWarning: Please use atoms.cell.rank instead\n",
      "  warnings.warn(warning)\n"
     ]
    },
    {
     "name": "stdout",
     "output_type": "stream",
     "text": [
      "================================================================================\n",
      "Iteration: 1/108\n",
      "Moving atom Cu(#102)\n",
      "Attempt local exploration #1/20\n",
      " [obj] Cu(#102) dpos=(  0.000,   0.000,   0.000) min dist=2.553   max_gamma = 0.366  \n",
      " [obj] Cu(#102) dpos=(  0.000,   0.000,   0.000) min dist=2.552   max_gamma = 0.372  \n",
      " [obj] Cu(#102) dpos=(  0.000,   0.000,   0.000) min dist=2.552   max_gamma = 0.372  \n",
      " [obj] Cu(#102) dpos=(  0.000,   0.000,   0.000) min dist=2.552   max_gamma = 0.372  \n",
      " [obj] Cu(#102) dpos=(  0.000,   0.000,   0.000) min dist=2.552   max_gamma = 0.375  \n",
      " [obj] Cu(#102) dpos=(  0.000,   0.000,   0.000) min dist=2.552   max_gamma = 0.378  \n",
      " [obj] Cu(#102) dpos=(  0.000,   0.000,  -0.000) min dist=2.552   max_gamma = 0.382  \n",
      " [obj] Cu(#102) dpos=(  0.001,   0.001,  -0.000) min dist=2.552   max_gamma = 0.386  \n",
      " [obj] Cu(#102) dpos=(  0.001,   0.000,   0.000) min dist=2.552   max_gamma = 0.384  \n",
      " [obj] Cu(#102) dpos=(  0.001,   0.001,   0.000) min dist=2.552   max_gamma = 0.515  \n",
      " [obj] Cu(#102) dpos=(  0.001,   0.001,   0.000) min dist=2.551   max_gamma = 1.027  \n",
      " [obj] Cu(#102) dpos=(  0.001,   0.001,  -0.000) min dist=2.551   max_gamma = 1.332  \n",
      " [obj] Cu(#102) dpos=(  0.002,   0.001,  -0.001) min dist=2.551   max_gamma = 2.827  \n",
      " [obj] Cu(#102) dpos=(  0.001,   0.002,  -0.001) min dist=2.551   max_gamma = 2.889  \n",
      " [obj] Cu(#102) dpos=(  0.002,   0.002,  -0.001) min dist=2.550   max_gamma = 5.500  \n",
      " [obj] Cu(#102) dpos=(  0.002,   0.003,  -0.001) min dist=2.549   max_gamma = 7.649  \n",
      " [obj] Cu(#102) dpos=(  0.003,   0.004,  -0.001) min dist=2.548   max_gamma = 14.643 \n",
      "Minimization goal achieved, max_gamma=14.643\n"
     ]
    },
    {
     "name": "stderr",
     "output_type": "stream",
     "text": [
      "100%|██████████| 1/1 [00:00<00:00, 59.90it/s]\n"
     ]
    },
    {
     "name": "stdout",
     "output_type": "stream",
     "text": [
      "Constructing new active set\n",
      "Species type: 0\n",
      "Iter 0/300: abs_max = 2.2028185059897534 (tol = 1.001)\n",
      "Iter 10/300: abs_max = 1.0784459582531625 (tol = 1.001)\n",
      "Iter 20/300: abs_max = 1.0355757489165065 (tol = 1.001)\n",
      "Iter 30/300: abs_max = 1.0145579671638665 (tol = 1.001)\n",
      "Iter 40/300: abs_max = 1.001629081366466 (tol = 1.001)\n",
      "Inverting new active set\n",
      "Saving new active set into current_ASI.asi\n",
      "Save current snapshot with gamma (wrt. original ASI) to  current_AE_snapshot.extxyz\n",
      "Gamma distribution (wrt. original ASI): min=0.251, median=0.362, mean=0.533, max=14.643, std=1.375\n",
      "Pool of movable atoms: 107 atoms\n",
      "Next moving atom ind: #51-Cu \n",
      "================================================================================\n",
      "Iteration: 2/108\n",
      "Moving atom Cu(#51)\n",
      "Attempt local exploration #1/20\n",
      " [obj] Cu(#51) dpos=(  0.000,   0.000,   0.000) min dist=2.548   max_gamma = 0.994  \n",
      " [obj] Cu(#51) dpos=(  0.000,   0.000,   0.000) min dist=2.548   max_gamma = 0.992  \n",
      " [obj] Cu(#51) dpos=(  0.000,   0.000,   0.000) min dist=2.548   max_gamma = 0.993  \n",
      " [obj] Cu(#51) dpos=(  0.000,   0.000,   0.000) min dist=2.548   max_gamma = 0.995  \n",
      " [obj] Cu(#51) dpos=( -0.000,   0.000,   0.000) min dist=2.548   max_gamma = 0.996  \n",
      " [obj] Cu(#51) dpos=( -0.001,   0.000,   0.000) min dist=2.548   max_gamma = 0.998  \n",
      " [obj] Cu(#51) dpos=( -0.000,  -0.000,   0.000) min dist=2.548   max_gamma = 0.998  \n",
      " [obj] Cu(#51) dpos=( -0.001,  -0.000,   0.001) min dist=2.548   max_gamma = 1.001  \n",
      " [obj] Cu(#51) dpos=( -0.001,   0.000,   0.001) min dist=2.548   max_gamma = 1.002  \n",
      " [obj] Cu(#51) dpos=( -0.001,   0.000,   0.001) min dist=2.548   max_gamma = 1.006  \n",
      " [obj] Cu(#51) dpos=( -0.001,   0.000,   0.001) min dist=2.548   max_gamma = 1.008  \n",
      " [obj] Cu(#51) dpos=( -0.002,   0.000,   0.001) min dist=2.548   max_gamma = 1.014  \n",
      " [obj] Cu(#51) dpos=( -0.002,  -0.000,   0.002) min dist=2.548   max_gamma = 1.016  \n",
      " [obj] Cu(#51) dpos=( -0.003,  -0.001,   0.002) min dist=2.548   max_gamma = 1.025  \n",
      " [obj] Cu(#51) dpos=( -0.003,  -0.000,   0.003) min dist=2.548   max_gamma = 1.029  \n",
      " [obj] Cu(#51) dpos=( -0.005,  -0.000,   0.004) min dist=2.547   max_gamma = 1.388  \n",
      " [obj] Cu(#51) dpos=( -0.005,  -0.001,   0.004) min dist=2.547   max_gamma = 1.635  \n",
      " [obj] Cu(#51) dpos=( -0.007,  -0.001,   0.005) min dist=2.544   max_gamma = 3.119  \n",
      " [obj] Cu(#51) dpos=( -0.007,  -0.001,   0.006) min dist=2.543   max_gamma = 4.869  \n",
      " [obj] Cu(#51) dpos=( -0.010,  -0.002,   0.008) min dist=2.540   max_gamma = 20.173 \n",
      " [obj] Cu(#51) dpos=( -0.012,  -0.001,   0.009) min dist=2.538   max_gamma = 34.479 \n",
      " [obj] Cu(#51) dpos=( -0.005,  -0.001,   0.004) min dist=2.546   max_gamma = 1.660  \n",
      " [obj] Cu(#51) dpos=( -0.010,  -0.002,   0.008) min dist=2.540   max_gamma = 19.613 \n",
      " [obj] Cu(#51) dpos=( -0.013,  -0.003,   0.010) min dist=2.536   max_gamma = 56.125 \n",
      " [obj] Cu(#51) dpos=( -0.013,  -0.003,   0.010) min dist=2.536   max_gamma = 58.647 \n",
      " [obj] Cu(#51) dpos=( -0.007,  -0.001,   0.005) min dist=2.544   max_gamma = 3.633  \n",
      " [obj] Cu(#51) dpos=( -0.011,  -0.003,   0.009) min dist=2.538   max_gamma = 33.334 \n",
      " [obj] Cu(#51) dpos=( -0.008,  -0.001,   0.006) min dist=2.543   max_gamma = 6.606  \n",
      " [obj] Cu(#51) dpos=( -0.012,  -0.003,   0.009) min dist=2.538   max_gamma = 38.344 \n",
      " [obj] Cu(#51) dpos=( -0.008,  -0.002,   0.006) min dist=2.542   max_gamma = 7.698  \n",
      " [obj] Cu(#51) dpos=( -0.011,  -0.003,   0.009) min dist=2.539   max_gamma = 28.961 \n",
      " [obj] Cu(#51) dpos=( -0.009,  -0.002,   0.007) min dist=2.542   max_gamma = 10.142 \n",
      " [obj] Cu(#51) dpos=( -0.011,  -0.002,   0.009) min dist=2.539   max_gamma = 29.727 \n",
      " [obj] Cu(#51) dpos=( -0.009,  -0.002,   0.007) min dist=2.541   max_gamma = 11.345 \n",
      " [obj] Cu(#51) dpos=( -0.008,  -0.002,   0.006) min dist=2.542   max_gamma = 8.286  \n",
      " [obj] Cu(#51) dpos=( -0.010,  -0.002,   0.008) min dist=2.540   max_gamma = 16.452 \n",
      " [obj] Cu(#51) dpos=( -0.010,  -0.002,   0.008) min dist=2.539   max_gamma = 22.725 \n",
      " [obj] Cu(#51) dpos=( -0.009,  -0.002,   0.007) min dist=2.541   max_gamma = 12.622 \n",
      " [obj] Cu(#51) dpos=( -0.008,  -0.001,   0.007) min dist=2.542   max_gamma = 8.705  \n",
      " [obj] Cu(#51) dpos=( -0.010,  -0.002,   0.008) min dist=2.540   max_gamma = 16.259 \n",
      " [obj] Cu(#51) dpos=( -0.010,  -0.002,   0.008) min dist=2.540   max_gamma = 19.518 \n",
      " [obj] Cu(#51) dpos=( -0.009,  -0.002,   0.007) min dist=2.541   max_gamma = 13.094 \n",
      " [obj] Cu(#51) dpos=( -0.010,  -0.002,   0.008) min dist=2.540   max_gamma = 18.161 \n",
      " [obj] Cu(#51) dpos=( -0.009,  -0.002,   0.007) min dist=2.541   max_gamma = 13.871 \n",
      " [obj] Cu(#51) dpos=( -0.010,  -0.002,   0.008) min dist=2.540   max_gamma = 18.196 \n",
      " [obj] Cu(#51) dpos=( -0.009,  -0.002,   0.007) min dist=2.541   max_gamma = 14.257 \n",
      "Minimization goal achieved, max_gamma=14.257\n"
     ]
    },
    {
     "name": "stderr",
     "output_type": "stream",
     "text": [
      "100%|██████████| 1/1 [00:00<00:00, 62.87it/s]"
     ]
    },
    {
     "name": "stdout",
     "output_type": "stream",
     "text": [
      "Constructing new active set\n",
      "Species type: 0\n",
      "Iter 0/300: abs_max = 1.6635115307557968 (tol = 1.001)\n",
      "Iter 10/300: abs_max = 1.0530322044438478 (tol = 1.001)\n",
      "Iter 20/300: abs_max = 1.0091639889989863 (tol = 1.001)\n",
      "Iter 30/300: abs_max = 1.003017498664125 (tol = 1.001)\n",
      "Inverting new active set\n",
      "Saving new active set into current_ASI.asi\n"
     ]
    },
    {
     "name": "stderr",
     "output_type": "stream",
     "text": [
      "\n"
     ]
    },
    {
     "name": "stdout",
     "output_type": "stream",
     "text": [
      "Save current snapshot with gamma (wrt. original ASI) to  current_AE_snapshot.extxyz\n",
      "Gamma distribution (wrt. original ASI): min=0.260, median=0.867, mean=2.245, max=67.838, std=6.684\n",
      "Pool of movable atoms: 96 atoms\n",
      "Next moving atom ind: #104-Cu \n",
      "================================================================================\n",
      "Iteration: 3/108\n",
      "Moving atom Cu(#104)\n",
      "Attempt local exploration #1/20\n",
      " [obj] Cu(#104) dpos=(  0.000,   0.000,   0.000) min dist=2.541   max_gamma = 0.999  \n",
      " [obj] Cu(#104) dpos=(  0.000,   0.000,   0.000) min dist=2.541   max_gamma = 1.002  \n",
      " [obj] Cu(#104) dpos=(  0.000,   0.000,   0.000) min dist=2.541   max_gamma = 1.004  \n",
      " [obj] Cu(#104) dpos=(  0.000,   0.000,   0.000) min dist=2.541   max_gamma = 0.991  \n",
      " [obj] Cu(#104) dpos=(  0.000,   0.000,  -0.000) min dist=2.541   max_gamma = 1.012  \n",
      " [obj] Cu(#104) dpos=(  0.000,   0.000,  -0.001) min dist=2.541   max_gamma = 1.023  \n",
      " [obj] Cu(#104) dpos=(  0.000,   0.000,  -0.000) min dist=2.541   max_gamma = 1.020  \n",
      " [obj] Cu(#104) dpos=(  0.000,   0.001,  -0.001) min dist=2.541   max_gamma = 1.030  \n",
      " [obj] Cu(#104) dpos=(  0.000,   0.001,  -0.001) min dist=2.541   max_gamma = 1.044  \n",
      " [obj] Cu(#104) dpos=(  0.000,   0.001,  -0.001) min dist=2.541   max_gamma = 1.055  \n",
      " [obj] Cu(#104) dpos=(  0.001,   0.001,  -0.002) min dist=2.541   max_gamma = 1.081  \n",
      " [obj] Cu(#104) dpos=(  0.000,   0.001,  -0.002) min dist=2.541   max_gamma = 1.079  \n",
      " [obj] Cu(#104) dpos=(  0.000,   0.002,  -0.002) min dist=2.541   max_gamma = 1.115  \n",
      " [obj] Cu(#104) dpos=(  0.001,   0.002,  -0.003) min dist=2.541   max_gamma = 1.163  \n",
      " [obj] Cu(#104) dpos=(  0.001,   0.002,  -0.003) min dist=2.541   max_gamma = 1.173  \n",
      " [obj] Cu(#104) dpos=(  0.001,   0.003,  -0.005) min dist=2.541   max_gamma = 1.243  \n",
      " [obj] Cu(#104) dpos=(  0.001,   0.003,  -0.005) min dist=2.541   max_gamma = 1.260  \n",
      " [obj] Cu(#104) dpos=(  0.002,   0.004,  -0.006) min dist=2.541   max_gamma = 1.608  \n",
      " [obj] Cu(#104) dpos=(  0.002,   0.005,  -0.008) min dist=2.541   max_gamma = 1.633  \n",
      " [obj] Cu(#104) dpos=(  0.003,   0.007,  -0.011) min dist=2.540   max_gamma = 2.395  \n",
      " [obj] Cu(#104) dpos=(  0.003,   0.006,  -0.012) min dist=2.540   max_gamma = 2.498  \n",
      " [obj] Cu(#104) dpos=(  0.005,   0.008,  -0.016) min dist=2.536   max_gamma = 11.989 \n",
      " [obj] Cu(#104) dpos=(  0.005,   0.010,  -0.017) min dist=2.533   max_gamma = 20.861 \n",
      " [obj] Cu(#104) dpos=(  0.006,   0.013,  -0.023) min dist=2.527   max_gamma = 78.378 \n",
      " [obj] Cu(#104) dpos=(  0.003,   0.006,  -0.011) min dist=2.541   max_gamma = 2.242  \n",
      " [obj] Cu(#104) dpos=(  0.005,   0.010,  -0.019) min dist=2.532   max_gamma = 31.347 \n",
      " [obj] Cu(#104) dpos=(  0.004,   0.007,  -0.013) min dist=2.539   max_gamma = 3.179  \n",
      " [obj] Cu(#104) dpos=(  0.006,   0.010,  -0.019) min dist=2.532   max_gamma = 35.682 \n",
      " [obj] Cu(#104) dpos=(  0.004,   0.007,  -0.013) min dist=2.538   max_gamma = 4.237  \n",
      " [obj] Cu(#104) dpos=(  0.005,   0.010,  -0.018) min dist=2.533   max_gamma = 26.078 \n",
      " [obj] Cu(#104) dpos=(  0.005,   0.009,  -0.017) min dist=2.534   max_gamma = 17.415 \n",
      " [obj] Cu(#104) dpos=(  0.006,   0.011,  -0.020) min dist=2.531   max_gamma = 42.062 \n",
      " [obj] Cu(#104) dpos=(  0.004,   0.008,  -0.015) min dist=2.536   max_gamma = 8.914  \n",
      " [obj] Cu(#104) dpos=(  0.006,   0.010,  -0.018) min dist=2.533   max_gamma = 27.313 \n",
      " [obj] Cu(#104) dpos=(  0.005,   0.009,  -0.016) min dist=2.535   max_gamma = 12.304 \n",
      " [obj] Cu(#104) dpos=(  0.005,   0.008,  -0.015) min dist=2.537   max_gamma = 8.504  \n",
      " [obj] Cu(#104) dpos=(  0.005,   0.009,  -0.017) min dist=2.534   max_gamma = 17.076 \n",
      " [obj] Cu(#104) dpos=(  0.005,   0.010,  -0.017) min dist=2.534   max_gamma = 19.623 \n",
      " [obj] Cu(#104) dpos=(  0.005,   0.009,  -0.016) min dist=2.535   max_gamma = 13.659 \n",
      " [obj] Cu(#104) dpos=(  0.005,   0.009,  -0.017) min dist=2.534   max_gamma = 20.302 \n",
      " [obj] Cu(#104) dpos=(  0.005,   0.009,  -0.016) min dist=2.535   max_gamma = 14.072 \n",
      "Minimization goal achieved, max_gamma=14.072\n"
     ]
    },
    {
     "name": "stderr",
     "output_type": "stream",
     "text": [
      "100%|██████████| 1/1 [00:00<00:00, 66.30it/s]"
     ]
    },
    {
     "name": "stdout",
     "output_type": "stream",
     "text": [
      "Constructing new active set\n",
      "Species type: 0\n",
      "Iter 0/300: abs_max = 1.3884466427908166 (tol = 1.001)\n",
      "Iter 10/300: abs_max = 1.030382195836077 (tol = 1.001)\n",
      "Iter 20/300: abs_max = 1.007706392113039 (tol = 1.001)\n",
      "Iter 30/300: abs_max = 1.001685267513947 (tol = 1.001)\n",
      "Inverting new active set\n",
      "Saving new active set into current_ASI.asi\n",
      "Save current snapshot with gamma (wrt. original ASI) to  current_AE_snapshot.extxyz\n",
      "Gamma distribution (wrt. original ASI): min=0.251, median=2.695, mean=8.024, max=126.989, std=16.740\n",
      "Pool of movable atoms: 67 atoms\n",
      "Next moving atom ind: #14-Cu \n",
      "================================================================================\n",
      "Iteration: 4/108\n",
      "Moving atom Cu(#14)\n",
      "Attempt local exploration #1/20\n",
      " [obj] Cu(#14) dpos=(  0.000,   0.000,   0.000) min dist=2.535   "
     ]
    },
    {
     "name": "stderr",
     "output_type": "stream",
     "text": [
      "\n"
     ]
    },
    {
     "name": "stdout",
     "output_type": "stream",
     "text": [
      "max_gamma = 0.998  \n",
      " [obj] Cu(#14) dpos=(  0.000,   0.000,   0.000) min dist=2.535   max_gamma = 0.998  \n",
      " [obj] Cu(#14) dpos=(  0.000,   0.000,   0.000) min dist=2.535   max_gamma = 0.998  \n",
      " [obj] Cu(#14) dpos=(  0.000,   0.000,   0.000) min dist=2.535   max_gamma = 0.998  \n",
      " [obj] Cu(#14) dpos=(  0.000,   0.000,  -0.000) min dist=2.535   max_gamma = 0.998  \n",
      " [obj] Cu(#14) dpos=(  0.000,   0.000,   0.000) min dist=2.535   max_gamma = 0.998  \n",
      " [obj] Cu(#14) dpos=(  0.000,   0.000,   0.000) min dist=2.535   max_gamma = 0.998  \n",
      " [obj] Cu(#14) dpos=(  0.000,   0.000,   0.000) min dist=2.535   max_gamma = 0.998  \n",
      " [obj] Cu(#14) dpos=(  0.000,   0.000,   0.000) min dist=2.535   max_gamma = 0.998  \n",
      " [obj] Cu(#14) dpos=(  0.000,   0.000,  -0.000) min dist=2.535   max_gamma = 0.998  \n",
      " [obj] Cu(#14) dpos=(  0.000,   0.000,   0.000) min dist=2.535   max_gamma = 0.998  \n",
      " [obj] Cu(#14) dpos=(  0.000,   0.000,   0.000) min dist=2.535   max_gamma = 0.998  \n",
      " [obj] Cu(#14) dpos=(  0.000,   0.000,   0.000) min dist=2.535   max_gamma = 0.998  \n",
      " [obj] Cu(#14) dpos=(  0.000,   0.000,   0.000) min dist=2.535   max_gamma = 0.998  \n",
      "Attempting to shake x0 position\n",
      "Attempt local exploration #2/20\n",
      " [obj] Cu(#14) dpos=(  0.065,   0.152,  -0.023) min dist=2.400   max_gamma = 16465.902\n",
      " [obj] Cu(#14) dpos=(  0.068,   0.152,  -0.023) min dist=2.398   max_gamma = 16931.735\n",
      " [obj] Cu(#14) dpos=(  0.065,   0.160,  -0.023) min dist=2.395   max_gamma = 19077.730\n",
      " [obj] Cu(#14) dpos=(  0.065,   0.152,  -0.025) min dist=2.400   max_gamma = 16526.680\n",
      " [obj] Cu(#14) dpos=(  0.067,   0.145,  -0.024) min dist=2.404   max_gamma = 14455.700\n",
      " [obj] Cu(#14) dpos=(  0.068,   0.137,  -0.025) min dist=2.408   max_gamma = 12514.301\n",
      " [obj] Cu(#14) dpos=(  0.064,   0.142,  -0.025) min dist=2.408   max_gamma = 13343.052\n",
      " [obj] Cu(#14) dpos=(  0.066,   0.135,  -0.024) min dist=2.411   max_gamma = 11824.764\n",
      " [obj] Cu(#14) dpos=(  0.067,   0.127,  -0.024) min dist=2.416   max_gamma = 9910.852\n",
      " [obj] Cu(#14) dpos=(  0.068,   0.118,  -0.025) min dist=2.421   max_gamma = 8336.756\n",
      " [obj] Cu(#14) dpos=(  0.069,   0.102,  -0.027) min dist=2.432   max_gamma = 5764.931\n",
      " [obj] Cu(#14) dpos=(  0.072,   0.102,  -0.025) min dist=2.430   max_gamma = 6029.756\n",
      " [obj] Cu(#14) dpos=(  0.071,   0.083,  -0.026) min dist=2.444   max_gamma = 3754.269\n",
      " [obj] Cu(#14) dpos=(  0.072,   0.056,  -0.026) min dist=2.462   max_gamma = 2007.473\n",
      " [obj] Cu(#14) dpos=(  0.076,   0.046,  -0.028) min dist=2.467   max_gamma = 1816.089\n",
      " [obj] Cu(#14) dpos=(  0.080,   0.005,  -0.030) min dist=2.475   max_gamma = 1308.241\n",
      " [obj] Cu(#14) dpos=(  0.075,   0.007,  -0.030) min dist=2.478   max_gamma = 1079.185\n",
      " [obj] Cu(#14) dpos=(  0.077,  -0.041,  -0.033) min dist=2.470   max_gamma = 1775.827\n",
      " [obj] Cu(#14) dpos=(  0.083,  -0.056,  -0.031) min dist=2.455   max_gamma = 2830.020\n",
      " [obj] Cu(#14) dpos=(  0.079,  -0.017,  -0.030) min dist=2.476   max_gamma = 1346.057\n",
      " [obj] Cu(#14) dpos=(  0.084,  -0.059,  -0.034) min dist=2.452   max_gamma = 3207.403\n",
      " [obj] Cu(#14) dpos=(  0.075,   0.027,  -0.028) min dist=2.480   max_gamma = 1278.940\n",
      " [obj] Cu(#14) dpos=(  0.074,   0.043,  -0.029) min dist=2.470   max_gamma = 1667.204\n",
      " [obj] Cu(#14) dpos=(  0.078,  -0.002,  -0.030) min dist=2.477   max_gamma = 1186.728\n",
      " [obj] Cu(#14) dpos=(  0.072,   0.016,  -0.029) min dist=2.482   max_gamma = 992.911\n",
      " [obj] Cu(#14) dpos=(  0.069,   0.022,  -0.028) min dist=2.485   max_gamma = 889.942\n",
      " [obj] Cu(#14) dpos=(  0.073,  -0.009,  -0.030) min dist=2.480   max_gamma = 971.719\n",
      " [obj] Cu(#14) dpos=(  0.066,   0.015,  -0.029) min dist=2.485   max_gamma = 753.329\n",
      " [obj] Cu(#14) dpos=(  0.061,   0.023,  -0.029) min dist=2.490   max_gamma = 646.766\n",
      " [obj] Cu(#14) dpos=(  0.059,   0.017,  -0.028) min dist=2.491   max_gamma = 536.171\n",
      " [obj] Cu(#14) dpos=(  0.051,   0.022,  -0.027) min dist=2.497   max_gamma = 382.649\n",
      " [obj] Cu(#14) dpos=(  0.048,   0.054,  -0.026) min dist=2.481   max_gamma = 857.653\n",
      " [obj] Cu(#14) dpos=(  0.038,   0.044,  -0.026) min dist=2.495   max_gamma = 428.351\n",
      " [obj] Cu(#14) dpos=(  0.052,   0.005,  -0.029) min dist=2.495   max_gamma = 334.645\n",
      " [obj] Cu(#14) dpos=(  0.054,  -0.019,  -0.031) min dist=2.492   max_gamma = 458.243\n",
      " [obj] Cu(#14) dpos=(  0.034,   0.025,  -0.026) min dist=2.510   max_gamma = 156.782\n",
      " [obj] Cu(#14) dpos=(  0.020,   0.025,  -0.025) min dist=2.517   max_gamma = 74.020 \n",
      " [obj] Cu(#14) dpos=(  0.045,  -0.009,  -0.028) min dist=2.502   max_gamma = 205.122\n",
      " [obj] Cu(#14) dpos=(  0.027,  -0.007,  -0.028) min dist=2.514   max_gamma = 59.480 \n",
      " [obj] Cu(#14) dpos=(  0.014,  -0.022,  -0.028) min dist=2.517   max_gamma = 50.362 \n",
      " [obj] Cu(#14) dpos=(  0.001,  -0.009,  -0.024) min dist=2.529   max_gamma = 8.800  \n",
      " [obj] Cu(#14) dpos=( -0.025,  -0.017,  -0.021) min dist=2.520   max_gamma = 42.364 \n",
      " [obj] Cu(#14) dpos=( -0.021,   0.005,  -0.024) min dist=2.521   max_gamma = 22.831 \n",
      " [obj] Cu(#14) dpos=( -0.024,  -0.043,  -0.026) min dist=2.504   max_gamma = 224.539\n",
      " [obj] Cu(#14) dpos=(  0.009,   0.008,  -0.025) min dist=2.529   max_gamma = 15.154 \n",
      "Minimization goal achieved, max_gamma=15.154\n"
     ]
    },
    {
     "name": "stderr",
     "output_type": "stream",
     "text": [
      "100%|██████████| 1/1 [00:00<00:00, 85.70it/s]"
     ]
    },
    {
     "name": "stdout",
     "output_type": "stream",
     "text": [
      "Constructing new active set\n",
      "Species type: 0\n",
      "Iter 0/300: abs_max = 1.467796200307497 (tol = 1.001)\n",
      "Iter 10/300: abs_max = 1.050943574182168 (tol = 1.001)\n",
      "Iter 20/300: abs_max = 1.0076080447871545 (tol = 1.001)\n",
      "Iter 30/300: abs_max = 1.0012305166973035 (tol = 1.001)\n",
      "Inverting new active set\n",
      "Saving new active set into current_ASI.asi\n",
      "Save current snapshot with gamma (wrt. original ASI) to  current_AE_snapshot.extxyz\n",
      "Gamma distribution (wrt. original ASI): min=0.258, median=11.042, mean=21.397, max=535.503, std=53.985\n",
      "Pool of movable atoms: 34 atoms\n",
      "Next moving atom ind: #35-Cu \n",
      "================================================================================\n",
      "Iteration: 5/108\n",
      "Moving atom Cu(#35)\n",
      "Attempt local exploration #1/20\n",
      " [obj] Cu(#35) dpos=(  0.000,   0.000,   0.000) min dist=2.529   "
     ]
    },
    {
     "name": "stderr",
     "output_type": "stream",
     "text": [
      "\n"
     ]
    },
    {
     "name": "stdout",
     "output_type": "stream",
     "text": [
      "max_gamma = 0.997  \n",
      " [obj] Cu(#35) dpos=(  0.000,   0.000,   0.000) min dist=2.529   max_gamma = 0.997  \n",
      " [obj] Cu(#35) dpos=(  0.000,   0.000,   0.000) min dist=2.529   max_gamma = 0.997  \n",
      " [obj] Cu(#35) dpos=(  0.000,   0.000,   0.000) min dist=2.529   max_gamma = 0.997  \n",
      " [obj] Cu(#35) dpos=(  0.000,   0.000,  -0.000) min dist=2.529   max_gamma = 0.997  \n",
      " [obj] Cu(#35) dpos=(  0.000,   0.000,   0.000) min dist=2.529   max_gamma = 0.997  \n",
      " [obj] Cu(#35) dpos=(  0.000,   0.000,   0.000) min dist=2.529   max_gamma = 0.997  \n",
      " [obj] Cu(#35) dpos=(  0.000,   0.000,   0.000) min dist=2.529   max_gamma = 0.997  \n",
      " [obj] Cu(#35) dpos=(  0.000,   0.000,   0.000) min dist=2.529   max_gamma = 0.997  \n",
      " [obj] Cu(#35) dpos=(  0.000,   0.000,  -0.000) min dist=2.529   max_gamma = 0.997  \n",
      " [obj] Cu(#35) dpos=(  0.000,   0.000,   0.000) min dist=2.529   max_gamma = 0.997  \n",
      " [obj] Cu(#35) dpos=(  0.000,   0.000,   0.000) min dist=2.529   max_gamma = 0.997  \n",
      " [obj] Cu(#35) dpos=(  0.000,   0.000,   0.000) min dist=2.529   max_gamma = 0.997  \n",
      " [obj] Cu(#35) dpos=(  0.000,   0.000,   0.000) min dist=2.529   max_gamma = 0.997  \n",
      "Attempting to shake x0 position\n",
      "Attempt local exploration #2/20\n",
      " [obj] Cu(#35) dpos=( -0.023,  -0.201,  -0.049) min dist=2.378   max_gamma = 13870.138\n",
      " [obj] Cu(#35) dpos=( -0.025,  -0.201,  -0.049) min dist=2.378   max_gamma = 13913.951\n",
      " [obj] Cu(#35) dpos=( -0.023,  -0.211,  -0.049) min dist=2.371   max_gamma = 16680.934\n",
      " [obj] Cu(#35) dpos=( -0.023,  -0.201,  -0.052) min dist=2.376   max_gamma = 14045.759\n",
      " [obj] Cu(#35) dpos=( -0.024,  -0.191,  -0.051) min dist=2.384   max_gamma = 11565.819\n",
      " [obj] Cu(#35) dpos=( -0.025,  -0.181,  -0.052) min dist=2.390   max_gamma = 9518.913\n",
      " [obj] Cu(#35) dpos=( -0.025,  -0.188,  -0.048) min dist=2.388   max_gamma = 10702.570\n",
      " [obj] Cu(#35) dpos=( -0.024,  -0.179,  -0.050) min dist=2.392   max_gamma = 8998.322\n",
      " [obj] Cu(#35) dpos=( -0.024,  -0.168,  -0.051) min dist=2.400   max_gamma = 7113.326\n",
      " [obj] Cu(#35) dpos=( -0.025,  -0.156,  -0.051) min dist=2.407   max_gamma = 5598.527\n",
      " [obj] Cu(#35) dpos=( -0.027,  -0.134,  -0.053) min dist=2.422   max_gamma = 3307.493\n",
      " [obj] Cu(#35) dpos=( -0.025,  -0.134,  -0.055) min dist=2.420   max_gamma = 3365.311\n",
      " [obj] Cu(#35) dpos=( -0.026,  -0.109,  -0.054) min dist=2.438   max_gamma = 1714.748\n",
      " [obj] Cu(#35) dpos=( -0.026,  -0.074,  -0.055) min dist=2.462   max_gamma = 578.611\n",
      " [obj] Cu(#35) dpos=( -0.028,  -0.060,  -0.057) min dist=2.470   max_gamma = 411.871\n",
      " [obj] Cu(#35) dpos=( -0.030,  -0.007,  -0.061) min dist=2.489   max_gamma = 150.156\n",
      " [obj] Cu(#35) dpos=( -0.030,  -0.009,  -0.057) min dist=2.491   max_gamma = 125.550\n",
      " [obj] Cu(#35) dpos=( -0.033,   0.054,  -0.058) min dist=2.474   max_gamma = 367.893\n",
      " [obj] Cu(#35) dpos=( -0.031,   0.074,  -0.063) min dist=2.456   max_gamma = 752.691\n",
      " [obj] Cu(#35) dpos=( -0.030,   0.022,  -0.060) min dist=2.489   max_gamma = 172.815\n",
      " [obj] Cu(#35) dpos=( -0.034,   0.078,  -0.064) min dist=2.453   max_gamma = 892.324\n",
      " [obj] Cu(#35) dpos=( -0.028,  -0.036,  -0.057) min dist=2.487   max_gamma = 195.074\n",
      " [obj] Cu(#35) dpos=( -0.032,   0.040,  -0.062) min dist=2.481   max_gamma = 283.657\n",
      " [obj] Cu(#35) dpos=( -0.029,  -0.017,  -0.058) min dist=2.491   max_gamma = 141.285\n",
      " [obj] Cu(#35) dpos=( -0.030,  -0.044,  -0.057) min dist=2.481   max_gamma = 255.225\n",
      " [obj] Cu(#35) dpos=( -0.030,   0.006,  -0.060) min dist=2.490   max_gamma = 137.817\n",
      " [obj] Cu(#35) dpos=( -0.029,  -0.007,  -0.056) min dist=2.492   max_gamma = 111.355\n",
      " [obj] Cu(#35) dpos=( -0.029,  -0.007,  -0.053) min dist=2.494   max_gamma = 95.073 \n",
      " [obj] Cu(#35) dpos=( -0.030,   0.010,  -0.055) min dist=2.492   max_gamma = 112.518\n",
      " [obj] Cu(#35) dpos=( -0.030,  -0.009,  -0.051) min dist=2.496   max_gamma = 86.435 \n",
      " [obj] Cu(#35) dpos=( -0.030,  -0.017,  -0.047) min dist=2.499   max_gamma = 74.733 \n",
      " [obj] Cu(#35) dpos=( -0.029,   0.000,  -0.046) min dist=2.499   max_gamma = 59.300 \n",
      " [obj] Cu(#35) dpos=( -0.029,   0.005,  -0.041) min dist=2.503   max_gamma = 40.269 \n",
      " [obj] Cu(#35) dpos=( -0.028,  -0.022,  -0.039) min dist=2.505   max_gamma = 49.882 \n",
      " [obj] Cu(#35) dpos=( -0.029,  -0.016,  -0.031) min dist=2.510   max_gamma = 24.698 \n",
      " [obj] Cu(#35) dpos=( -0.028,  -0.021,  -0.020) min dist=2.518   max_gamma = 14.219 \n",
      "Minimization goal achieved, max_gamma=14.219\n"
     ]
    },
    {
     "name": "stderr",
     "output_type": "stream",
     "text": [
      "100%|██████████| 1/1 [00:00<00:00, 90.88it/s]"
     ]
    },
    {
     "name": "stdout",
     "output_type": "stream",
     "text": [
      "Constructing new active set\n",
      "Species type: 0\n",
      "Iter 0/300: abs_max = 1.551110158405672 (tol = 1.001)\n",
      "Iter 10/300: abs_max = 1.1228198807289733 (tol = 1.001)\n",
      "Iter 20/300: abs_max = 1.0099036590623953 (tol = 1.001)\n",
      "Iter 30/300: abs_max = 1.005264275968434 (tol = 1.001)"
     ]
    },
    {
     "name": "stderr",
     "output_type": "stream",
     "text": [
      "\n"
     ]
    },
    {
     "name": "stdout",
     "output_type": "stream",
     "text": [
      "\n",
      "Iter 40/300: abs_max = 1.0012947996288792 (tol = 1.001)\n",
      "Inverting new active set\n",
      "Saving new active set into current_ASI.asi\n",
      "Save current snapshot with gamma (wrt. original ASI) to  current_AE_snapshot.extxyz\n",
      "Gamma distribution (wrt. original ASI): min=0.677, median=23.698, mean=67.511, max=3301.318, std=317.663\n",
      "Pool of movable atoms: 16 atoms\n",
      "Next moving atom ind: #73-Cu \n",
      "================================================================================\n",
      "Iteration: 6/108\n",
      "Moving atom Cu(#73)\n",
      "Attempt local exploration #1/20\n",
      " [obj] Cu(#73) dpos=(  0.000,   0.000,   0.000) min dist=2.518   max_gamma = 0.996  \n",
      " [obj] Cu(#73) dpos=(  0.000,   0.000,   0.000) min dist=2.518   max_gamma = 0.996  \n",
      " [obj] Cu(#73) dpos=(  0.000,   0.000,   0.000) min dist=2.518   max_gamma = 0.996  \n",
      " [obj] Cu(#73) dpos=(  0.000,   0.000,   0.000) min dist=2.518   max_gamma = 0.996  \n",
      " [obj] Cu(#73) dpos=(  0.000,   0.000,  -0.000) min dist=2.518   max_gamma = 0.996  \n",
      " [obj] Cu(#73) dpos=(  0.000,   0.000,   0.000) min dist=2.518   max_gamma = 0.996  \n",
      " [obj] Cu(#73) dpos=(  0.000,   0.000,   0.000) min dist=2.518   max_gamma = 0.996  \n",
      " [obj] Cu(#73) dpos=(  0.000,   0.000,   0.000) min dist=2.518   max_gamma = 0.996  \n",
      " [obj] Cu(#73) dpos=(  0.000,   0.000,   0.000) min dist=2.518   max_gamma = 0.996  \n",
      " [obj] Cu(#73) dpos=(  0.000,   0.000,  -0.000) min dist=2.518   max_gamma = 0.996  \n",
      " [obj] Cu(#73) dpos=(  0.000,   0.000,   0.000) min dist=2.518   max_gamma = 0.996  \n",
      " [obj] Cu(#73) dpos=(  0.000,   0.000,   0.000) min dist=2.518   max_gamma = 0.996  \n",
      " [obj] Cu(#73) dpos=(  0.000,   0.000,   0.000) min dist=2.518   max_gamma = 0.996  \n",
      " [obj] Cu(#73) dpos=(  0.000,   0.000,   0.000) min dist=2.518   max_gamma = 0.996  \n",
      "Attempting to shake x0 position\n",
      "Attempt local exploration #2/20\n",
      " [obj] Cu(#73) dpos=( -0.058,  -0.053,  -0.057) min dist=2.472   max_gamma = 60.271 \n",
      " [obj] Cu(#73) dpos=( -0.061,  -0.053,  -0.057) min dist=2.470   max_gamma = 65.475 \n",
      " [obj] Cu(#73) dpos=( -0.058,  -0.055,  -0.057) min dist=2.472   max_gamma = 64.245 \n",
      " [obj] Cu(#73) dpos=( -0.058,  -0.053,  -0.060) min dist=2.470   max_gamma = 65.036 \n",
      " [obj] Cu(#73) dpos=( -0.055,  -0.054,  -0.059) min dist=2.472   max_gamma = 61.081 \n",
      " [obj] Cu(#73) dpos=( -0.056,  -0.055,  -0.056) min dist=2.474   max_gamma = 58.858 \n",
      " [obj] Cu(#73) dpos=( -0.055,  -0.057,  -0.053) min dist=2.474   max_gamma = 56.191 \n",
      " [obj] Cu(#73) dpos=( -0.054,  -0.054,  -0.056) min dist=2.475   max_gamma = 54.129 \n",
      " [obj] Cu(#73) dpos=( -0.052,  -0.053,  -0.055) min dist=2.476   max_gamma = 49.557 \n",
      " [obj] Cu(#73) dpos=( -0.055,  -0.054,  -0.051) min dist=2.476   max_gamma = 49.783 \n",
      " [obj] Cu(#73) dpos=( -0.050,  -0.057,  -0.050) min dist=2.477   max_gamma = 44.613 \n",
      " [obj] Cu(#73) dpos=( -0.046,  -0.060,  -0.046) min dist=2.478   max_gamma = 38.767 \n",
      " [obj] Cu(#73) dpos=( -0.047,  -0.055,  -0.048) min dist=2.480   max_gamma = 36.356 \n",
      " [obj] Cu(#73) dpos=( -0.044,  -0.053,  -0.046) min dist=2.483   max_gamma = 28.667 \n",
      " [obj] Cu(#73) dpos=( -0.040,  -0.057,  -0.046) min dist=2.480   max_gamma = 29.189 \n",
      " [obj] Cu(#73) dpos=( -0.034,  -0.060,  -0.037) min dist=2.485   max_gamma = 20.790 \n",
      " [obj] Cu(#73) dpos=( -0.025,  -0.063,  -0.027) min dist=2.489   max_gamma = 19.257 \n",
      " [obj] Cu(#73) dpos=( -0.026,  -0.056,  -0.034) min dist=2.490   max_gamma = 14.388 \n",
      "Minimization goal achieved, max_gamma=14.388\n"
     ]
    },
    {
     "name": "stderr",
     "output_type": "stream",
     "text": [
      "100%|██████████| 1/1 [00:00<00:00, 86.04it/s]"
     ]
    },
    {
     "name": "stdout",
     "output_type": "stream",
     "text": [
      "Constructing new active set\n",
      "Species type: 0\n",
      "Iter 0/300: abs_max = 1.4631475698291767 (tol = 1.001)\n",
      "Iter 10/300: abs_max = 1.0322280874635446 (tol = 1.001)\n",
      "Iter 20/300: abs_max = 1.0080741317784525 (tol = 1.001)\n",
      "Iter 30/300: abs_max = 1.0019542460946054 (tol = 1.001)\n",
      "Inverting new active set\n",
      "Saving new active set into current_ASI.asi\n",
      "Save current snapshot with gamma (wrt. original ASI) to  current_AE_snapshot.extxyz\n",
      "Gamma distribution (wrt. original ASI): min=2.541, median=65.264, mean=399.004, max=31625.265, std=3035.415\n",
      "Pool of movable atoms: 3 atoms\n",
      "Next moving atom ind: #41-Cu \n",
      "================================================================================\n",
      "Iteration: 7/108\n",
      "Moving atom Cu(#41)\n",
      "Attempt local exploration #1/20\n",
      " [obj] Cu(#41) dpos=(  0.000,   0.000,   0.000) min dist=2.490   max_gamma = 0.999  \n",
      " [obj] Cu(#41) dpos=(  0.000,   0.000,   0.000) min dist=2.490   max_gamma = 1.000  \n",
      " [obj] Cu(#41) dpos=(  0.000,   0.000,   0.000) min dist=2.490   "
     ]
    },
    {
     "name": "stderr",
     "output_type": "stream",
     "text": [
      "\n"
     ]
    },
    {
     "name": "stdout",
     "output_type": "stream",
     "text": [
      "max_gamma = 1.000  \n",
      " [obj] Cu(#41) dpos=(  0.000,   0.000,   0.000) min dist=2.490   max_gamma = 0.999  \n",
      " [obj] Cu(#41) dpos=(  0.000,   0.000,  -0.000) min dist=2.490   max_gamma = 1.001  \n",
      " [obj] Cu(#41) dpos=(  0.000,   0.000,  -0.001) min dist=2.490   max_gamma = 1.002  \n",
      " [obj] Cu(#41) dpos=(  0.000,   0.000,  -0.000) min dist=2.490   max_gamma = 1.002  \n",
      " [obj] Cu(#41) dpos=(  0.001,   0.001,  -0.001) min dist=2.490   max_gamma = 1.004  \n",
      " [obj] Cu(#41) dpos=(  0.001,   0.000,  -0.001) min dist=2.490   max_gamma = 1.004  \n",
      " [obj] Cu(#41) dpos=(  0.001,   0.000,  -0.001) min dist=2.490   max_gamma = 1.006  \n",
      " [obj] Cu(#41) dpos=(  0.001,   0.001,  -0.001) min dist=2.490   max_gamma = 1.008  \n",
      " [obj] Cu(#41) dpos=(  0.001,   0.001,  -0.002) min dist=2.490   max_gamma = 1.011  \n",
      " [obj] Cu(#41) dpos=(  0.002,   0.001,  -0.002) min dist=2.490   max_gamma = 1.012  \n",
      " [obj] Cu(#41) dpos=(  0.002,   0.001,  -0.003) min dist=2.490   max_gamma = 1.028  \n",
      " [obj] Cu(#41) dpos=(  0.003,   0.001,  -0.003) min dist=2.490   max_gamma = 1.041  \n",
      " [obj] Cu(#41) dpos=(  0.004,   0.002,  -0.005) min dist=2.490   max_gamma = 1.100  \n",
      " [obj] Cu(#41) dpos=(  0.004,   0.002,  -0.005) min dist=2.490   max_gamma = 1.143  \n",
      " [obj] Cu(#41) dpos=(  0.005,   0.003,  -0.007) min dist=2.490   max_gamma = 1.372  \n",
      " [obj] Cu(#41) dpos=(  0.006,   0.003,  -0.007) min dist=2.490   max_gamma = 1.491  \n",
      " [obj] Cu(#41) dpos=(  0.008,   0.004,  -0.010) min dist=2.490   max_gamma = 2.025  \n",
      " [obj] Cu(#41) dpos=(  0.009,   0.005,  -0.012) min dist=2.490   max_gamma = 2.221  \n",
      " [obj] Cu(#41) dpos=(  0.012,   0.006,  -0.017) min dist=2.490   max_gamma = 2.978  \n",
      " [obj] Cu(#41) dpos=(  0.014,   0.008,  -0.018) min dist=2.490   max_gamma = 3.339  \n",
      " [obj] Cu(#41) dpos=(  0.019,   0.011,  -0.025) min dist=2.490   max_gamma = 4.451  \n",
      " [obj] Cu(#41) dpos=(  0.021,   0.011,  -0.027) min dist=2.490   max_gamma = 4.789  \n",
      " [obj] Cu(#41) dpos=(  0.029,   0.014,  -0.037) min dist=2.490   max_gamma = 6.185  \n",
      " [obj] Cu(#41) dpos=(  0.032,   0.017,  -0.042) min dist=2.490   max_gamma = 7.162  \n",
      " [obj] Cu(#41) dpos=(  0.043,   0.023,  -0.058) min dist=2.481   max_gamma = 10.809 \n",
      " [obj] Cu(#41) dpos=(  0.048,   0.026,  -0.063) min dist=2.474   max_gamma = 12.289 \n",
      " [obj] Cu(#41) dpos=(  0.066,   0.035,  -0.087) min dist=2.445   max_gamma = 52.085 \n",
      " [obj] Cu(#41) dpos=(  0.062,   0.031,  -0.081) min dist=2.452   max_gamma = 37.311 \n",
      " [obj] Cu(#41) dpos=(  0.029,   0.016,  -0.039) min dist=2.490   max_gamma = 6.527  \n",
      " [obj] Cu(#41) dpos=(  0.052,   0.029,  -0.070) min dist=2.467   max_gamma = 16.986 \n",
      " [obj] Cu(#41) dpos=(  0.063,   0.036,  -0.086) min dist=2.448   max_gamma = 46.692 \n",
      " [obj] Cu(#41) dpos=(  0.066,   0.036,  -0.089) min dist=2.444   max_gamma = 56.068 \n",
      " [obj] Cu(#41) dpos=(  0.039,   0.021,  -0.051) min dist=2.489   max_gamma = 9.263  \n",
      " [obj] Cu(#41) dpos=(  0.057,   0.031,  -0.076) min dist=2.459   max_gamma = 26.574 \n",
      " [obj] Cu(#41) dpos=(  0.043,   0.023,  -0.057) min dist=2.482   max_gamma = 10.753 \n",
      " [obj] Cu(#41) dpos=(  0.052,   0.028,  -0.070) min dist=2.467   max_gamma = 17.628 \n",
      " [obj] Cu(#41) dpos=(  0.058,   0.032,  -0.077) min dist=2.457   max_gamma = 28.583 \n",
      " [obj] Cu(#41) dpos=(  0.047,   0.025,  -0.063) min dist=2.475   max_gamma = 12.080 \n",
      " [obj] Cu(#41) dpos=(  0.054,   0.030,  -0.072) min dist=2.463   max_gamma = 20.905 \n",
      " [obj] Cu(#41) dpos=(  0.049,   0.026,  -0.065) min dist=2.472   max_gamma = 12.736 \n",
      " [obj] Cu(#41) dpos=(  0.054,   0.030,  -0.073) min dist=2.463   max_gamma = 21.304 \n",
      " [obj] Cu(#41) dpos=(  0.050,   0.027,  -0.066) min dist=2.471   max_gamma = 13.308 \n",
      " [obj] Cu(#41) dpos=(  0.048,   0.026,  -0.064) min dist=2.474   max_gamma = 12.435 \n",
      " [obj] Cu(#41) dpos=(  0.049,   0.027,  -0.065) min dist=2.472   max_gamma = 12.817 \n",
      " [obj] Cu(#41) dpos=(  0.051,   0.028,  -0.068) min dist=2.468   max_gamma = 15.959 \n",
      "Minimization goal achieved, max_gamma=15.959\n"
     ]
    },
    {
     "name": "stderr",
     "output_type": "stream",
     "text": [
      "100%|██████████| 1/1 [00:00<00:00, 67.07it/s]"
     ]
    },
    {
     "name": "stdout",
     "output_type": "stream",
     "text": [
      "Constructing new active set\n",
      "Species type: 0\n",
      "Iter 0/300: abs_max = 2.244397277779945 (tol = 1.001)\n",
      "Iter 10/300: abs_max = 1.0063115281062982 (tol = 1.001)\n",
      "Iter 20/300: abs_max = 1.0015767604960994 (tol = 1.001)\n",
      "Inverting new active set\n",
      "Saving new active set into current_ASI.asi\n",
      "Save current snapshot with gamma (wrt. original ASI) to  current_AE_snapshot.extxyz\n",
      "Gamma distribution (wrt. original ASI): min=9.060, median=104.971, mean=1283.551, max=88654.057, std=8945.412\n",
      "Pool of movable atoms: 0 atoms\n",
      "Too high extrapolation, no atoms with gamma < 5. Stopping\n"
     ]
    },
    {
     "name": "stderr",
     "output_type": "stream",
     "text": [
      "\n"
     ]
    },
    {
     "data": {
      "text/plain": [
       "Atoms(symbols='Cu108', pbc=True, cell=[10.83, 10.83, 10.83], gamma=..., calculator=PyACECalculator(...))"
      ]
     },
     "execution_count": 8,
     "metadata": {},
     "output_type": "execute_result"
    }
   ],
   "source": [
    "ae.active_exploration(fcc, min_dist=1.1, gamma_hi=15,                  \n",
    "    gamma_lo=5,\n",
    "    gamma_tol=1,\n",
    "    n_atom_shake_max_attempts=20,\n",
    "    shake_amplitude=0.1,\n",
    ")"
   ]
  },
  {
   "cell_type": "code",
   "execution_count": 9,
   "id": "5a4d5f2d",
   "metadata": {},
   "outputs": [
    {
     "data": {
      "text/plain": [
       "[Atoms(symbols='Cu108', pbc=True, cell=[10.83, 10.83, 10.83], gamma=..., calculator=PyACECalculator(...)),\n",
       " Atoms(symbols='Cu108', pbc=True, cell=[10.83, 10.83, 10.83], gamma=..., calculator=PyACECalculator(...)),\n",
       " Atoms(symbols='Cu108', pbc=True, cell=[10.83, 10.83, 10.83], gamma=..., calculator=PyACECalculator(...)),\n",
       " Atoms(symbols='Cu108', pbc=True, cell=[10.83, 10.83, 10.83], gamma=..., calculator=PyACECalculator(...)),\n",
       " Atoms(symbols='Cu108', pbc=True, cell=[10.83, 10.83, 10.83], gamma=..., calculator=PyACECalculator(...)),\n",
       " Atoms(symbols='Cu108', pbc=True, cell=[10.83, 10.83, 10.83], gamma=..., calculator=PyACECalculator(...)),\n",
       " Atoms(symbols='Cu108', pbc=True, cell=[10.83, 10.83, 10.83], gamma=..., calculator=PyACECalculator(...)),\n",
       " Atoms(symbols='Cu108', pbc=True, cell=[10.83, 10.83, 10.83], gamma=..., calculator=PyACECalculator(...))]"
      ]
     },
     "execution_count": 9,
     "metadata": {},
     "output_type": "execute_result"
    }
   ],
   "source": [
    "# list of sequentially modified initial structure, one-by-one atoms\n",
    "ae.extrapolative_structures"
   ]
  },
  {
   "cell_type": "code",
   "execution_count": 10,
   "id": "8f8b2491",
   "metadata": {},
   "outputs": [
    {
     "data": {
      "text/plain": [
       "Atoms(symbols='Cu108', pbc=True, cell=[10.83, 10.83, 10.83], gamma=..., calculator=PyACECalculator(...))"
      ]
     },
     "execution_count": 10,
     "metadata": {},
     "output_type": "execute_result"
    }
   ],
   "source": [
    "# Last structure contains all consecutive displacements of atoms (equal to len(ae.extrapolative_structures)-1)\n",
    "# This structure contains new atomic environments in \"condensed\" way, to gain more new information per DFT calculation\n",
    "extrapolative_structure = ae.extrapolative_structures[-1]\n",
    "extrapolative_structure"
   ]
  },
  {
   "cell_type": "markdown",
   "id": "8f1cef58",
   "metadata": {},
   "source": [
    "You can repeat this procedure for another structures, either from scratch or from `current_ASI.asi` active set"
   ]
  },
  {
   "cell_type": "markdown",
   "id": "2cb8efa5",
   "metadata": {},
   "source": [
    "# 3. Perform DFT\n",
    "\n",
    "extend training set and upfit the potential"
   ]
  }
 ],
 "metadata": {
  "kernelspec": {
   "display_name": "Python (ace)",
   "language": "python",
   "name": "ace"
  },
  "language_info": {
   "codemirror_mode": {
    "name": "ipython",
    "version": 3
   },
   "file_extension": ".py",
   "mimetype": "text/x-python",
   "name": "python",
   "nbconvert_exporter": "python",
   "pygments_lexer": "ipython3",
   "version": "3.8.5"
  }
 },
 "nbformat": 4,
 "nbformat_minor": 5
}
