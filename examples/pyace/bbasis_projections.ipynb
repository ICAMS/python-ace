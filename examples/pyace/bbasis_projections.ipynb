{
 "cells": [
  {
   "cell_type": "code",
   "execution_count": 1,
   "id": "6c296d68",
   "metadata": {},
   "outputs": [
    {
     "name": "stdout",
     "output_type": "stream",
     "text": [
      "Populating the interactive namespace from numpy and matplotlib\n"
     ]
    }
   ],
   "source": [
    "%pylab inline"
   ]
  },
  {
   "cell_type": "code",
   "execution_count": 2,
   "id": "744da111",
   "metadata": {},
   "outputs": [],
   "source": [
    "import pandas as pd"
   ]
  },
  {
   "cell_type": "code",
   "execution_count": 3,
   "id": "0756e19a",
   "metadata": {},
   "outputs": [],
   "source": [
    "from pyace import *"
   ]
  },
  {
   "cell_type": "markdown",
   "id": "5a302d58",
   "metadata": {},
   "source": [
    "# Using ACE potential as ASE calculator"
   ]
  },
  {
   "cell_type": "markdown",
   "id": "29613d3f",
   "metadata": {},
   "source": [
    "## Copper"
   ]
  },
  {
   "cell_type": "code",
   "execution_count": 4,
   "id": "fb18e081",
   "metadata": {},
   "outputs": [],
   "source": [
    "from ase.build import bulk"
   ]
  },
  {
   "cell_type": "code",
   "execution_count": 5,
   "id": "6b8db4cf",
   "metadata": {},
   "outputs": [],
   "source": [
    "calc = PyACECalculator(\"Cu-III.yaml\")"
   ]
  },
  {
   "cell_type": "code",
   "execution_count": 6,
   "id": "a224aaf2",
   "metadata": {},
   "outputs": [],
   "source": [
    "atoms = bulk(\"Cu\",\"fcc\", cubic=True)"
   ]
  },
  {
   "cell_type": "code",
   "execution_count": 7,
   "id": "6ad23d03",
   "metadata": {},
   "outputs": [
    {
     "data": {
      "text/plain": [
       "4"
      ]
     },
     "execution_count": 7,
     "metadata": {},
     "output_type": "execute_result"
    }
   ],
   "source": [
    "# number of atoms\n",
    "len(atoms)"
   ]
  },
  {
   "cell_type": "code",
   "execution_count": 8,
   "id": "de63d7a3",
   "metadata": {},
   "outputs": [],
   "source": [
    "atoms.set_calculator(calc)"
   ]
  },
  {
   "cell_type": "code",
   "execution_count": 9,
   "id": "9135db36",
   "metadata": {},
   "outputs": [
    {
     "name": "stderr",
     "output_type": "stream",
     "text": [
      "/home/users/lysogy36/miniconda3/envs/ace/lib/python3.8/site-packages/ase-3.21.1-py3.8.egg/ase/utils/__init__.py:41: FutureWarning: Please use atoms.cell.rank instead\n",
      "  warnings.warn(warning)\n"
     ]
    },
    {
     "data": {
      "text/plain": [
       "-14.787742217244805"
      ]
     },
     "execution_count": 9,
     "metadata": {},
     "output_type": "execute_result"
    }
   ],
   "source": [
    "atoms.get_potential_energy()"
   ]
  },
  {
   "cell_type": "code",
   "execution_count": 10,
   "id": "0f508be2",
   "metadata": {},
   "outputs": [
    {
     "data": {
      "text/plain": [
       "array([[ 4.13324973e-16, -6.37781928e-17, -5.19603891e-17],\n",
       "       [ 3.22333306e-16, -6.49979202e-17,  1.74580944e-15],\n",
       "       [-2.33201045e-15, -2.19008839e-17, -1.81910151e-15],\n",
       "       [ 1.47676467e-15,  2.16298333e-17,  8.00412254e-17]])"
      ]
     },
     "execution_count": 10,
     "metadata": {},
     "output_type": "execute_result"
    }
   ],
   "source": [
    "atoms.get_forces()"
   ]
  },
  {
   "cell_type": "markdown",
   "id": "0a0114a9",
   "metadata": {},
   "source": [
    "Corresponding B-basis functions projections"
   ]
  },
  {
   "cell_type": "code",
   "execution_count": 11,
   "id": "d7718ad0",
   "metadata": {},
   "outputs": [],
   "source": [
    "projections = calc.projections"
   ]
  },
  {
   "cell_type": "markdown",
   "id": "d3aa7af1",
   "metadata": {},
   "source": [
    "4 atoms by 62 functions"
   ]
  },
  {
   "cell_type": "code",
   "execution_count": 12,
   "id": "68f91554",
   "metadata": {},
   "outputs": [
    {
     "data": {
      "text/plain": [
       "(4, 62)"
      ]
     },
     "execution_count": 12,
     "metadata": {},
     "output_type": "execute_result"
    }
   ],
   "source": [
    "projections.shape"
   ]
  },
  {
   "cell_type": "code",
   "execution_count": 13,
   "id": "0dc8dc63",
   "metadata": {},
   "outputs": [
    {
     "data": {
      "text/plain": [
       "array([[ 2.28777629e+01,  1.66327213e+00,  5.88630544e+00,\n",
       "         1.07790158e+01,  1.43294134e+01,  1.54380074e+01,\n",
       "         1.44144919e+01,  1.26754667e+01,  1.18362896e+01,\n",
       "         1.27302911e+01,  1.49215335e+01,  1.69861447e+01,\n",
       "         1.73903665e+01,  1.54477790e+01,  1.17920480e+01,\n",
       "         1.49217184e+02, -1.19520244e-33,  2.91864775e-31,\n",
       "         1.81594541e+01,  4.63250635e-33, -1.10243341e-31,\n",
       "         1.29443159e+02,  1.32784616e-32,  6.60313653e-31,\n",
       "         2.20997183e+00, -7.09690547e-32,  4.73954387e-32,\n",
       "         1.57529920e+01, -6.36093729e-32, -2.60157634e-31,\n",
       "         1.12289557e+02, -1.54052676e-31,  1.82912452e-30,\n",
       "         1.82275484e+03, -1.45999339e-32,  3.56525916e-30,\n",
       "        -6.94226361e-50,  1.01886539e-46,  2.21825878e+02,\n",
       "         5.65881431e-32, -1.34667186e-30, -1.77678483e-33,\n",
       "        -1.02584973e-50, -2.28061139e-48,  4.33885416e-31,\n",
       "        -4.45660046e-47,  2.69957973e+01, -8.66918839e-31,\n",
       "         5.78956544e-31,  6.88667189e-33,  1.19952415e-48,\n",
       "        -1.63887464e-31,  7.16540593e-48,  1.80395136e-47,\n",
       "         3.28533837e+00, -1.05502412e-31,  7.04579359e-32,\n",
       "        -6.18915221e-48, -7.05774845e-48,  2.22657681e+04,\n",
       "        -1.78344742e-31,  1.42850887e-66],\n",
       "       [ 2.28777629e+01,  1.66327213e+00,  5.88630544e+00,\n",
       "         1.07790158e+01,  1.43294134e+01,  1.54380074e+01,\n",
       "         1.44144919e+01,  1.26754667e+01,  1.18362896e+01,\n",
       "         1.27302911e+01,  1.49215335e+01,  1.69861447e+01,\n",
       "         1.73903665e+01,  1.54477790e+01,  1.17920480e+01,\n",
       "         1.49217184e+02, -2.24998658e-33,  2.82611386e-31,\n",
       "         1.81594541e+01, -1.10821408e-33, -7.42123444e-32,\n",
       "         1.29443159e+02,  2.79797073e-33,  7.31404770e-31,\n",
       "         2.20997183e+00, -4.30471423e-32,  2.83571670e-32,\n",
       "         1.57529920e+01, -4.22558074e-32, -2.35327982e-31,\n",
       "         1.12289557e+02, -5.93715635e-32,  2.74289348e-30,\n",
       "         1.82275484e+03, -2.74845954e-32,  3.45222486e-30,\n",
       "        -1.63396771e-49,  9.04433116e-47,  2.21825878e+02,\n",
       "        -1.35373321e-32, -9.06537078e-31, -3.34482420e-33,\n",
       "         3.21543764e-51,  1.79004228e-50,  4.20129352e-31,\n",
       "        -3.10818042e-47,  2.69957973e+01, -5.25840154e-31,\n",
       "         3.46395515e-31, -1.64746817e-33,  5.71480703e-49,\n",
       "        -1.10323878e-31,  1.31302873e-47,  7.23493905e-48,\n",
       "         3.28533837e+00, -6.39937698e-32,  4.21556907e-32,\n",
       "        -3.74574061e-48, -6.35709844e-49,  2.22657681e+04,\n",
       "        -3.35736662e-31,  5.06243961e-66],\n",
       "       [ 2.28777629e+01,  1.66327213e+00,  5.88630544e+00,\n",
       "         1.07790158e+01,  1.43294134e+01,  1.54380074e+01,\n",
       "         1.44144919e+01,  1.26754667e+01,  1.18362896e+01,\n",
       "         1.27302911e+01,  1.49215335e+01,  1.69861447e+01,\n",
       "         1.73903665e+01,  1.54477790e+01,  1.17920480e+01,\n",
       "         1.49217184e+02, -1.02457580e-32,  2.21889459e-31,\n",
       "         1.81594541e+01, -2.84645494e-32, -6.66426006e-32,\n",
       "         1.29443159e+02,  1.69043175e-32,  7.16485848e-31,\n",
       "         2.20997183e+00, -8.71998077e-32,  2.77912396e-32,\n",
       "         1.57529920e+01,  5.72517184e-32, -2.79722005e-31,\n",
       "         1.12289557e+02, -9.30331062e-32,  2.97591467e-30,\n",
       "         1.82275484e+03, -1.25156530e-31,  2.71047927e-30,\n",
       "         2.07276734e-49,  5.74799326e-47,  2.21825878e+02,\n",
       "        -3.47707240e-31, -8.14069261e-31, -1.52313172e-32,\n",
       "        -8.01484877e-49,  2.21244532e-48,  3.29860292e-31,\n",
       "        -2.75699609e-47,  2.69957973e+01, -1.06518477e-30,\n",
       "         3.39482459e-31, -4.23153251e-32, -2.89520385e-48,\n",
       "        -9.90707167e-32,  8.76663835e-48,  9.55922469e-48,\n",
       "         3.28533837e+00, -1.29631007e-31,  4.13143846e-32,\n",
       "        -9.19338268e-48, -2.35445099e-48,  2.22657681e+04,\n",
       "        -1.52884316e-30,  1.04975556e-64],\n",
       "       [ 2.28777629e+01,  1.66327213e+00,  5.88630544e+00,\n",
       "         1.07790158e+01,  1.43294134e+01,  1.54380074e+01,\n",
       "         1.44144919e+01,  1.26754667e+01,  1.18362896e+01,\n",
       "         1.27302911e+01,  1.49215335e+01,  1.69861447e+01,\n",
       "         1.73903665e+01,  1.54477790e+01,  1.17920480e+01,\n",
       "         1.49217184e+02, -1.31499517e-32,  1.87415619e-31,\n",
       "         1.81594541e+01, -3.59472748e-32, -6.50790145e-32,\n",
       "         1.29443159e+02, -1.49991246e-32,  4.91798592e-31,\n",
       "         2.20997183e+00, -1.01895423e-31,  2.44308430e-32,\n",
       "         1.57529920e+01, -5.00888699e-32, -1.89457218e-31,\n",
       "         1.12289557e+02, -4.81275134e-32,  2.12511627e-30,\n",
       "         1.82275484e+03, -1.60632559e-31,  2.28936585e-30,\n",
       "         1.53152232e-48,  4.59487705e-47,  2.21825878e+02,\n",
       "        -4.39112088e-31, -7.94969356e-31, -1.95486840e-32,\n",
       "        -6.63691554e-49,  4.34690345e-48,  2.78611571e-31,\n",
       "        -1.80037044e-47,  2.69957973e+01, -1.24469830e-30,\n",
       "         2.98433707e-31, -5.34391253e-32, -1.80659894e-48,\n",
       "        -9.67462937e-32,  1.27953233e-47,  6.89362884e-48,\n",
       "         3.28533837e+00, -1.51477470e-31,  3.63188277e-32,\n",
       "        -5.11486814e-48, -2.63441594e-48,  2.22657681e+04,\n",
       "        -1.96219876e-30,  1.72921229e-64]])"
      ]
     },
     "execution_count": 13,
     "metadata": {},
     "output_type": "execute_result"
    }
   ],
   "source": [
    "projections"
   ]
  },
  {
   "cell_type": "markdown",
   "id": "ce177056",
   "metadata": {},
   "source": [
    "## Ethanol"
   ]
  },
  {
   "cell_type": "code",
   "execution_count": 14,
   "id": "8e34f288",
   "metadata": {},
   "outputs": [],
   "source": [
    "from ase.build import molecule"
   ]
  },
  {
   "cell_type": "code",
   "execution_count": 15,
   "id": "50260bf9",
   "metadata": {},
   "outputs": [],
   "source": [
    "ethanol_calc = PyACECalculator(\"ethanol.yaml\")"
   ]
  },
  {
   "cell_type": "code",
   "execution_count": 16,
   "id": "d4935758",
   "metadata": {},
   "outputs": [],
   "source": [
    "ethanol = molecule(\"CH3CH2OH\", vacuum=10)"
   ]
  },
  {
   "cell_type": "code",
   "execution_count": 17,
   "id": "d9b239c5",
   "metadata": {},
   "outputs": [
    {
     "data": {
      "text/plain": [
       "9"
      ]
     },
     "execution_count": 17,
     "metadata": {},
     "output_type": "execute_result"
    }
   ],
   "source": [
    "len(ethanol)"
   ]
  },
  {
   "cell_type": "code",
   "execution_count": 18,
   "id": "4e23dfa3",
   "metadata": {},
   "outputs": [],
   "source": [
    "ethanol.set_calculator(ethanol_calc)"
   ]
  },
  {
   "cell_type": "code",
   "execution_count": 19,
   "id": "cc719e84",
   "metadata": {},
   "outputs": [
    {
     "data": {
      "text/plain": [
       "-45.09983065239134"
      ]
     },
     "execution_count": 19,
     "metadata": {},
     "output_type": "execute_result"
    }
   ],
   "source": [
    "ethanol.get_potential_energy()"
   ]
  },
  {
   "cell_type": "code",
   "execution_count": 20,
   "id": "65ed754d",
   "metadata": {},
   "outputs": [
    {
     "data": {
      "text/plain": [
       "array([[-2.06556624e-01,  4.04103468e-01,  0.00000000e+00],\n",
       "       [-4.65231835e-01, -7.42101899e-01,  2.22044605e-16],\n",
       "       [ 6.89686362e-02, -1.65402173e-02,  4.44089210e-16],\n",
       "       [-7.58088135e-02,  7.27635635e-02,  0.00000000e+00],\n",
       "       [ 8.01448936e-02,  3.93828436e-01,  4.56710881e-01],\n",
       "       [ 8.01448936e-02,  3.93828436e-01, -4.56710881e-01],\n",
       "       [ 4.86479439e-01,  1.98578709e-01,  0.00000000e+00],\n",
       "       [ 1.59297048e-02, -3.52230248e-01,  4.36002816e-01],\n",
       "       [ 1.59297048e-02, -3.52230248e-01, -4.36002816e-01]])"
      ]
     },
     "execution_count": 20,
     "metadata": {},
     "output_type": "execute_result"
    }
   ],
   "source": [
    "ethanol.get_forces()"
   ]
  },
  {
   "cell_type": "markdown",
   "id": "a7de2389",
   "metadata": {},
   "source": [
    "9 atoms by 377 B-basis projections"
   ]
  },
  {
   "cell_type": "code",
   "execution_count": 21,
   "id": "3f4e402f",
   "metadata": {},
   "outputs": [
    {
     "data": {
      "text/plain": [
       "(9, 377)"
      ]
     },
     "execution_count": 21,
     "metadata": {},
     "output_type": "execute_result"
    }
   ],
   "source": [
    "ethanol_calc.projections.shape"
   ]
  },
  {
   "cell_type": "code",
   "execution_count": 22,
   "id": "7dea1c21",
   "metadata": {},
   "outputs": [
    {
     "data": {
      "text/plain": [
       "array([[ 6.87003287e-01,  9.13102857e-02,  3.16696582e-01, ...,\n",
       "         3.86724968e-02, -1.16955245e-03,  3.53701741e-05],\n",
       "       [ 6.87003287e-01,  9.13102857e-02,  3.16696582e-01, ...,\n",
       "         3.72481241e+00,  1.80696811e+00,  8.76590114e-01],\n",
       "       [ 1.07633240e+00,  1.21385754e-01,  4.19337031e-01, ...,\n",
       "         0.00000000e+00,  0.00000000e+00,  0.00000000e+00],\n",
       "       ...,\n",
       "       [ 1.26554789e+00,  2.17250258e-01,  6.82653951e-01, ...,\n",
       "         2.70555675e-03,  5.91968028e-05,  1.29520900e-06],\n",
       "       [ 1.26973009e+00,  2.18301117e-01,  6.85798499e-01, ...,\n",
       "         7.34446828e-02,  9.69071426e-03,  1.27864863e-03],\n",
       "       [ 1.26973009e+00,  2.18301117e-01,  6.85798499e-01, ...,\n",
       "         7.34446828e-02,  9.69071426e-03,  1.27864863e-03]])"
      ]
     },
     "execution_count": 22,
     "metadata": {},
     "output_type": "execute_result"
    }
   ],
   "source": [
    "ethanol_calc.projections"
   ]
  },
  {
   "cell_type": "markdown",
   "id": "99475a4d",
   "metadata": {},
   "source": [
    "# Compute projection for list of structures"
   ]
  },
  {
   "cell_type": "code",
   "execution_count": 23,
   "id": "58fbdb7e",
   "metadata": {},
   "outputs": [],
   "source": [
    "from pyace.activelearning import compute_B_projections"
   ]
  },
  {
   "cell_type": "code",
   "execution_count": 24,
   "id": "3eac6562",
   "metadata": {},
   "outputs": [],
   "source": [
    "#Let us make a list of three ethanol molecules\n",
    "ethanol1 = molecule(\"CH3CH2OH\", vacuum=10)\n",
    "ethanol2 = molecule(\"CH3CH2OH\", vacuum=5)\n",
    "ethanol3 = molecule(\"CH3CH2OH\", vacuum=2)\n",
    "\n",
    "structures_list=[ethanol1, ethanol2, ethanol3]"
   ]
  },
  {
   "cell_type": "code",
   "execution_count": 25,
   "id": "604e47dc",
   "metadata": {},
   "outputs": [],
   "source": [
    "ethanol_bconf=BBasisConfiguration(\"ethanol.yaml\")"
   ]
  },
  {
   "cell_type": "code",
   "execution_count": 26,
   "id": "a8def784",
   "metadata": {},
   "outputs": [
    {
     "name": "stderr",
     "output_type": "stream",
     "text": [
      "100%|██████████| 3/3 [00:00<00:00, 1187.40it/s]\n"
     ]
    }
   ],
   "source": [
    "ethanol_projections=compute_B_projections(ethanol_bconf,\n",
    "                                          atomic_env_list=structures_list)"
   ]
  },
  {
   "cell_type": "markdown",
   "id": "6492e934",
   "metadata": {},
   "source": [
    "Finally, list of projections are grouped by different atom types (0,1,2 are corresponding to lexicographically sorted \"C\",\"H\",\"O\")"
   ]
  },
  {
   "cell_type": "code",
   "execution_count": 27,
   "id": "5ac8ce83",
   "metadata": {},
   "outputs": [
    {
     "data": {
      "text/plain": [
       "{0: array([[ 6.87003287e-01,  9.13102857e-02,  3.16696582e-01, ...,\n",
       "          3.86724968e-02, -1.16955245e-03,  3.53701741e-05],\n",
       "        [ 6.87003287e-01,  9.13102857e-02,  3.16696582e-01, ...,\n",
       "          3.72481241e+00,  1.80696811e+00,  8.76590114e-01],\n",
       "        [ 6.87003287e-01,  9.13102857e-02,  3.16696582e-01, ...,\n",
       "          3.86724968e-02, -1.16955245e-03,  3.53701741e-05],\n",
       "        [ 6.87003287e-01,  9.13102857e-02,  3.16696582e-01, ...,\n",
       "          3.72481241e+00,  1.80696811e+00,  8.76590114e-01],\n",
       "        [ 6.87003287e-01,  9.13102857e-02,  3.16696582e-01, ...,\n",
       "          3.86724968e-02, -1.16955245e-03,  3.53701741e-05],\n",
       "        [ 6.87003287e-01,  9.13102857e-02,  3.16696582e-01, ...,\n",
       "          3.72481241e+00,  1.80696811e+00,  8.76590114e-01]]),\n",
       " 1: array([[6.10636388e-01, 3.81706041e-02, 1.41910741e-01, ...,\n",
       "         1.53741983e+00, 4.99668870e+00, 1.62394797e+01],\n",
       "        [1.26467524e+00, 2.15426914e-01, 6.78569843e-01, ...,\n",
       "         5.72478751e-01, 2.36621175e-01, 9.78020238e-02],\n",
       "        [1.26467524e+00, 2.15426914e-01, 6.78569843e-01, ...,\n",
       "         5.72478751e-01, 2.36621175e-01, 9.78020238e-02],\n",
       "        ...,\n",
       "        [1.26554789e+00, 2.17250258e-01, 6.82653951e-01, ...,\n",
       "         2.70555675e-03, 5.91968028e-05, 1.29520900e-06],\n",
       "        [1.26973009e+00, 2.18301117e-01, 6.85798499e-01, ...,\n",
       "         7.34446828e-02, 9.69071426e-03, 1.27864863e-03],\n",
       "        [1.26973009e+00, 2.18301117e-01, 6.85798499e-01, ...,\n",
       "         7.34446828e-02, 9.69071426e-03, 1.27864863e-03]]),\n",
       " 2: array([[1.0763324 , 0.12138575, 0.41933703, ..., 0.        , 0.        ,\n",
       "         0.        ],\n",
       "        [1.0763324 , 0.12138575, 0.41933703, ..., 0.        , 0.        ,\n",
       "         0.        ],\n",
       "        [1.0763324 , 0.12138575, 0.41933703, ..., 0.        , 0.        ,\n",
       "         0.        ]])}"
      ]
     },
     "execution_count": 27,
     "metadata": {},
     "output_type": "execute_result"
    }
   ],
   "source": [
    "ethanol_projections"
   ]
  },
  {
   "cell_type": "code",
   "execution_count": 28,
   "id": "8d485b85",
   "metadata": {},
   "outputs": [
    {
     "data": {
      "text/plain": [
       "(6, 377)"
      ]
     },
     "execution_count": 28,
     "metadata": {},
     "output_type": "execute_result"
    }
   ],
   "source": [
    "# for 0: C (carbon) - 6 atoms in total in structures_list\n",
    "ethanol_projections[0].shape"
   ]
  },
  {
   "cell_type": "code",
   "execution_count": 29,
   "id": "1e62085d",
   "metadata": {},
   "outputs": [
    {
     "data": {
      "text/plain": [
       "(18, 377)"
      ]
     },
     "execution_count": 29,
     "metadata": {},
     "output_type": "execute_result"
    }
   ],
   "source": [
    "# for 1: H (hydrogen) - 18 atoms in total\n",
    "ethanol_projections[1].shape"
   ]
  },
  {
   "cell_type": "code",
   "execution_count": 30,
   "id": "abe84c06",
   "metadata": {},
   "outputs": [
    {
     "data": {
      "text/plain": [
       "(3, 377)"
      ]
     },
     "execution_count": 30,
     "metadata": {},
     "output_type": "execute_result"
    }
   ],
   "source": [
    "# for 2: O (oxygen) - 3 atoms in total\n",
    "ethanol_projections[2].shape"
   ]
  },
  {
   "cell_type": "markdown",
   "id": "cf2e73f9",
   "metadata": {},
   "source": [
    "If you want to know to which of three structures certain H-atom belongs to, then provide option"
   ]
  },
  {
   "cell_type": "code",
   "execution_count": 31,
   "id": "967dee00",
   "metadata": {},
   "outputs": [
    {
     "name": "stderr",
     "output_type": "stream",
     "text": [
      "100%|██████████| 3/3 [00:00<00:00, 1196.55it/s]\n"
     ]
    }
   ],
   "source": [
    "ethanol_projections, structure_indices=compute_B_projections(ethanol_bconf,\n",
    "                                          atomic_env_list=structures_list,\n",
    "                                          structure_ind_list=range(len(structures_list)) )"
   ]
  },
  {
   "cell_type": "markdown",
   "id": "83c344a6",
   "metadata": {},
   "source": [
    "`ethanol_projections`  would be the same. \n",
    "\n",
    "But now you also have a mapping from atoms to correspongind structures:"
   ]
  },
  {
   "cell_type": "code",
   "execution_count": 32,
   "id": "b642bcaf",
   "metadata": {},
   "outputs": [
    {
     "data": {
      "text/plain": [
       "{0: array([0, 0, 1, 1, 2, 2]),\n",
       " 1: array([0, 0, 0, 0, 0, 0, 1, 1, 1, 1, 1, 1, 2, 2, 2, 2, 2, 2]),\n",
       " 2: array([0, 1, 2])}"
      ]
     },
     "execution_count": 32,
     "metadata": {},
     "output_type": "execute_result"
    }
   ],
   "source": [
    "structure_indices"
   ]
  },
  {
   "cell_type": "markdown",
   "id": "96535485",
   "metadata": {},
   "source": [
    "# Constructing the initial  ACE potential from scratch"
   ]
  },
  {
   "cell_type": "markdown",
   "id": "132d6e16",
   "metadata": {},
   "source": [
    "Potentials above were already fitted, i.e. both radial functions and coefficients were optimized.\n",
    "\n",
    "But one could construct *initial* potential, with zero coefficients and non-optimized radial functions.\n",
    "See [Phys. Rev. Materials 6, 013804 Efficient parametrization of the atomic cluster expansion](https://journals.aps.org/prmaterials/abstract/10.1103/PhysRevMaterials.6.013804),APPENDIX C: RADIAL AND CUTOFF FUNCTIONS for explanations of radial functions opimization"
   ]
  },
  {
   "cell_type": "code",
   "execution_count": 33,
   "id": "f9f5a334",
   "metadata": {},
   "outputs": [],
   "source": [
    "from pyace import create_multispecies_basis_config"
   ]
  },
  {
   "cell_type": "markdown",
   "id": "311367aa",
   "metadata": {},
   "source": [
    "In this particular example we construct potential with different number of functions for Al and H\n",
    "\n",
    "see https://pacemaker.readthedocs.io/en/latest/pacemaker/inputfile/#basis_configuration for more details of B-Basis construction"
   ]
  },
  {
   "cell_type": "code",
   "execution_count": 34,
   "id": "38353012",
   "metadata": {},
   "outputs": [],
   "source": [
    "AlH_bbasis_configuration = create_multispecies_basis_config(\n",
    "    {\n",
    "    'deltaSplineBins': 0.001,\n",
    "    'elements': ['Al', 'H'],\n",
    "\n",
    "    'embeddings': {'ALL': {'drho_core_cut': 250,\n",
    "                           'fs_parameters': [1, 1],\n",
    "                           'ndensity': 1,\n",
    "                           'npot': 'FinnisSinclair',\n",
    "                           'rho_core_cut': 200000},\n",
    "                   'Al': {'drho_core_cut': 250,\n",
    "                          'fs_parameters': [1, 1, 1, 0.5],\n",
    "                          'ndensity': 2,\n",
    "                          'npot': 'FinnisSinclairShiftedScaled',\n",
    "                          'rho_core_cut': 200000}\n",
    "\n",
    "                   },\n",
    "\n",
    "    'bonds': {'ALL': {'NameOfCutoffFunction': 'cos',\n",
    "                      'core-repulsion': [10000.0, 5.0],\n",
    "                      'dcut': 0.01,\n",
    "                      'radbase': 'ChebPow',\n",
    "                      'radparameters': [2.0],\n",
    "                      'rcut': 3.9},\n",
    "\n",
    "              ('Al', 'H'): {'NameOfCutoffFunction': 'cos',\n",
    "                            'core-repulsion': [10000.0, 5.0],\n",
    "                            'dcut': 0.01,\n",
    "                            'radbase': 'ChebExpCos',\n",
    "                            'radparameters': [2.0],\n",
    "                            'rcut': 3.5},\n",
    "              },\n",
    "\n",
    "    'functions': {        \n",
    "        # different number of unary functions for Al and H\n",
    "        'Al': {\n",
    "            'nradmax_by_orders': [10, 2, 2, 1],\n",
    "            'lmax_by_orders':    [0,  1, 1, 1]\n",
    "        },\n",
    "        \n",
    "        'H': {\n",
    "            'nradmax_by_orders': [5, 2, 2],\n",
    "            'lmax_by_orders':    [0,  1, 1]\n",
    "        },\n",
    "        \n",
    "        # same number of binary functions\n",
    "\n",
    "        'BINARY': {\n",
    "            'nradmax_by_orders': [5, 1, 1],\n",
    "            'lmax_by_orders': [0, 1, 1],\n",
    "        },\n",
    "    }\n",
    "})"
   ]
  },
  {
   "cell_type": "code",
   "execution_count": 35,
   "id": "fa0649dd",
   "metadata": {},
   "outputs": [
    {
     "data": {
      "text/plain": [
       "BBasisConfiguration(deltaSplineBins=0.001, funcspecs_blocks=['Al H', 'H Al', 'Al', 'H', ])"
      ]
     },
     "execution_count": 35,
     "metadata": {},
     "output_type": "execute_result"
    }
   ],
   "source": [
    "AlH_bbasis_configuration"
   ]
  },
  {
   "cell_type": "code",
   "execution_count": 36,
   "id": "954b6dee",
   "metadata": {},
   "outputs": [
    {
     "data": {
      "text/plain": [
       "84"
      ]
     },
     "execution_count": 36,
     "metadata": {},
     "output_type": "execute_result"
    }
   ],
   "source": [
    "AlH_bbasis_configuration.total_number_of_functions"
   ]
  },
  {
   "cell_type": "markdown",
   "id": "66a5dc8d",
   "metadata": {},
   "source": [
    "## Option 1. Compute projections using PyACECalculator"
   ]
  },
  {
   "cell_type": "markdown",
   "id": "632f84a0",
   "metadata": {},
   "source": [
    "One could construct PyACECalculator from B-basis configuration"
   ]
  },
  {
   "cell_type": "code",
   "execution_count": 37,
   "id": "e6063dbe",
   "metadata": {},
   "outputs": [],
   "source": [
    "AlH_calc = PyACECalculator(AlH_bbasis_configuration)"
   ]
  },
  {
   "cell_type": "code",
   "execution_count": 38,
   "id": "ce647cca",
   "metadata": {},
   "outputs": [],
   "source": [
    "AlH_structure = bulk(\"Al\",cubic=True)"
   ]
  },
  {
   "cell_type": "code",
   "execution_count": 39,
   "id": "05997e19",
   "metadata": {},
   "outputs": [],
   "source": [
    "AlH_structure*=(2,2,2) # create 2x2x2 supercell and replace first atom with H\n",
    "\n",
    "AlH_structure[0].symbol='H'"
   ]
  },
  {
   "cell_type": "markdown",
   "id": "4c58a247",
   "metadata": {},
   "source": [
    "There are 32 atoms, and first atom (index 0) is H"
   ]
  },
  {
   "cell_type": "code",
   "execution_count": 40,
   "id": "5466cc88",
   "metadata": {},
   "outputs": [
    {
     "data": {
      "text/plain": [
       "Atoms(symbols='HAl31', pbc=True, cell=[8.1, 8.1, 8.1])"
      ]
     },
     "execution_count": 40,
     "metadata": {},
     "output_type": "execute_result"
    }
   ],
   "source": [
    "AlH_structure"
   ]
  },
  {
   "cell_type": "code",
   "execution_count": 41,
   "id": "0e580677",
   "metadata": {},
   "outputs": [
    {
     "data": {
      "text/plain": [
       "32"
      ]
     },
     "execution_count": 41,
     "metadata": {},
     "output_type": "execute_result"
    }
   ],
   "source": [
    "len(AlH_structure)"
   ]
  },
  {
   "cell_type": "code",
   "execution_count": 42,
   "id": "128bf0a6",
   "metadata": {},
   "outputs": [],
   "source": [
    "AlH_structure.set_calculator(AlH_calc)"
   ]
  },
  {
   "cell_type": "markdown",
   "id": "d9f2c2b8",
   "metadata": {},
   "source": [
    "Energy and forces are zero, because potential was initialized with zero coefficients"
   ]
  },
  {
   "cell_type": "code",
   "execution_count": 43,
   "id": "c5c52d31",
   "metadata": {},
   "outputs": [
    {
     "name": "stderr",
     "output_type": "stream",
     "text": [
      "/home/users/lysogy36/miniconda3/envs/ace/lib/python3.8/site-packages/numpy/core/fromnumeric.py:43: VisibleDeprecationWarning: Creating an ndarray from ragged nested sequences (which is a list-or-tuple of lists-or-tuples-or ndarrays with different lengths or shapes) is deprecated. If you meant to do this, you must specify 'dtype=object' when creating the ndarray.\n",
      "  result = getattr(asarray(obj), method)(*args, **kwds)\n"
     ]
    },
    {
     "data": {
      "text/plain": [
       "0.0"
      ]
     },
     "execution_count": 43,
     "metadata": {},
     "output_type": "execute_result"
    }
   ],
   "source": [
    "AlH_structure.get_potential_energy()"
   ]
  },
  {
   "cell_type": "code",
   "execution_count": 44,
   "id": "2bde9b27",
   "metadata": {},
   "outputs": [
    {
     "data": {
      "text/plain": [
       "array([[0., 0., 0.],\n",
       "       [0., 0., 0.],\n",
       "       [0., 0., 0.],\n",
       "       [0., 0., 0.],\n",
       "       [0., 0., 0.],\n",
       "       [0., 0., 0.],\n",
       "       [0., 0., 0.],\n",
       "       [0., 0., 0.],\n",
       "       [0., 0., 0.],\n",
       "       [0., 0., 0.],\n",
       "       [0., 0., 0.],\n",
       "       [0., 0., 0.],\n",
       "       [0., 0., 0.],\n",
       "       [0., 0., 0.],\n",
       "       [0., 0., 0.],\n",
       "       [0., 0., 0.],\n",
       "       [0., 0., 0.],\n",
       "       [0., 0., 0.],\n",
       "       [0., 0., 0.],\n",
       "       [0., 0., 0.],\n",
       "       [0., 0., 0.],\n",
       "       [0., 0., 0.],\n",
       "       [0., 0., 0.],\n",
       "       [0., 0., 0.],\n",
       "       [0., 0., 0.],\n",
       "       [0., 0., 0.],\n",
       "       [0., 0., 0.],\n",
       "       [0., 0., 0.],\n",
       "       [0., 0., 0.],\n",
       "       [0., 0., 0.],\n",
       "       [0., 0., 0.],\n",
       "       [0., 0., 0.]])"
      ]
     },
     "execution_count": 44,
     "metadata": {},
     "output_type": "execute_result"
    }
   ],
   "source": [
    "AlH_structure.get_forces()"
   ]
  },
  {
   "cell_type": "markdown",
   "id": "e8357258",
   "metadata": {},
   "source": [
    "nested list of B-babsis functions (not projections yet!)"
   ]
  },
  {
   "cell_type": "code",
   "execution_count": 45,
   "id": "a323a9f6",
   "metadata": {},
   "outputs": [],
   "source": [
    "b_basis_functions=AlH_calc.basis"
   ]
  },
  {
   "cell_type": "markdown",
   "id": "beb7fcd1",
   "metadata": {},
   "source": [
    "There are two species types: Al - atom type 0, H - atom type 1"
   ]
  },
  {
   "cell_type": "code",
   "execution_count": 46,
   "id": "74fd4013",
   "metadata": {},
   "outputs": [
    {
     "data": {
      "text/plain": [
       "{'Al': 0, 'H': 1}"
      ]
     },
     "execution_count": 46,
     "metadata": {},
     "output_type": "execute_result"
    }
   ],
   "source": [
    "b_basis_functions.elements_to_index_map"
   ]
  },
  {
   "cell_type": "markdown",
   "id": "b61671ec",
   "metadata": {},
   "source": [
    "First order B-functions (2-body): for first and second atoms types correspondingly"
   ]
  },
  {
   "cell_type": "code",
   "execution_count": 47,
   "id": "f9535363",
   "metadata": {},
   "outputs": [
    {
     "data": {
      "text/plain": [
       "2"
      ]
     },
     "execution_count": 47,
     "metadata": {},
     "output_type": "execute_result"
    }
   ],
   "source": [
    "len(b_basis_functions.basis_rank1)"
   ]
  },
  {
   "cell_type": "code",
   "execution_count": 48,
   "id": "bdbbba40",
   "metadata": {},
   "outputs": [
    {
     "data": {
      "text/plain": [
       "[ACEBBasisFunction(0|mus=(0,), ns=(1,), ls=(0,), 1 ms_combs, ndens=2),\n",
       " ACEBBasisFunction(0|mus=(0,), ns=(2,), ls=(0,), 1 ms_combs, ndens=2),\n",
       " ACEBBasisFunction(0|mus=(0,), ns=(3,), ls=(0,), 1 ms_combs, ndens=2),\n",
       " ACEBBasisFunction(0|mus=(0,), ns=(4,), ls=(0,), 1 ms_combs, ndens=2),\n",
       " ACEBBasisFunction(0|mus=(0,), ns=(5,), ls=(0,), 1 ms_combs, ndens=2),\n",
       " ACEBBasisFunction(0|mus=(0,), ns=(6,), ls=(0,), 1 ms_combs, ndens=2),\n",
       " ACEBBasisFunction(0|mus=(0,), ns=(7,), ls=(0,), 1 ms_combs, ndens=2),\n",
       " ACEBBasisFunction(0|mus=(0,), ns=(8,), ls=(0,), 1 ms_combs, ndens=2),\n",
       " ACEBBasisFunction(0|mus=(0,), ns=(9,), ls=(0,), 1 ms_combs, ndens=2),\n",
       " ACEBBasisFunction(0|mus=(0,), ns=(10,), ls=(0,), 1 ms_combs, ndens=2),\n",
       " ACEBBasisFunction(0|mus=(1,), ns=(1,), ls=(0,), 1 ms_combs, ndens=2),\n",
       " ACEBBasisFunction(0|mus=(1,), ns=(2,), ls=(0,), 1 ms_combs, ndens=2),\n",
       " ACEBBasisFunction(0|mus=(1,), ns=(3,), ls=(0,), 1 ms_combs, ndens=2),\n",
       " ACEBBasisFunction(0|mus=(1,), ns=(4,), ls=(0,), 1 ms_combs, ndens=2),\n",
       " ACEBBasisFunction(0|mus=(1,), ns=(5,), ls=(0,), 1 ms_combs, ndens=2)]"
      ]
     },
     "execution_count": 48,
     "metadata": {},
     "output_type": "execute_result"
    }
   ],
   "source": [
    "# 15 Al-centered (species type 0) pair functions:  10 Al-Al + 5 Al-H\n",
    "species_type=0\n",
    "b_basis_functions.basis_rank1[species_type]"
   ]
  },
  {
   "cell_type": "code",
   "execution_count": 49,
   "id": "16143047",
   "metadata": {},
   "outputs": [
    {
     "data": {
      "text/plain": [
       "[ACEBBasisFunction(1|mus=(0,), ns=(1,), ls=(0,), 1 ms_combs, ndens=1),\n",
       " ACEBBasisFunction(1|mus=(0,), ns=(2,), ls=(0,), 1 ms_combs, ndens=1),\n",
       " ACEBBasisFunction(1|mus=(0,), ns=(3,), ls=(0,), 1 ms_combs, ndens=1),\n",
       " ACEBBasisFunction(1|mus=(0,), ns=(4,), ls=(0,), 1 ms_combs, ndens=1),\n",
       " ACEBBasisFunction(1|mus=(0,), ns=(5,), ls=(0,), 1 ms_combs, ndens=1),\n",
       " ACEBBasisFunction(1|mus=(1,), ns=(1,), ls=(0,), 1 ms_combs, ndens=1),\n",
       " ACEBBasisFunction(1|mus=(1,), ns=(2,), ls=(0,), 1 ms_combs, ndens=1),\n",
       " ACEBBasisFunction(1|mus=(1,), ns=(3,), ls=(0,), 1 ms_combs, ndens=1),\n",
       " ACEBBasisFunction(1|mus=(1,), ns=(4,), ls=(0,), 1 ms_combs, ndens=1),\n",
       " ACEBBasisFunction(1|mus=(1,), ns=(5,), ls=(0,), 1 ms_combs, ndens=1)]"
      ]
     },
     "execution_count": 49,
     "metadata": {},
     "output_type": "execute_result"
    }
   ],
   "source": [
    "# 10 H-centered (species type 1) pair functions:  5 H-Al + 5 H-H\n",
    "species_type=1\n",
    "b_basis_functions.basis_rank1[species_type]"
   ]
  },
  {
   "cell_type": "markdown",
   "id": "2e7e24f7",
   "metadata": {},
   "source": [
    "Higher order B-functions (3-body and more): for first and second atoms types correspondingly"
   ]
  },
  {
   "cell_type": "code",
   "execution_count": 50,
   "id": "683137be",
   "metadata": {
    "scrolled": false
   },
   "outputs": [
    {
     "data": {
      "text/plain": [
       "[ACEBBasisFunction(0|mus=(0,0,), ns=(1,1,), ls=(0,0,), 1 ms_combs, ndens=2),\n",
       " ACEBBasisFunction(0|mus=(0,0,), ns=(1,1,), ls=(1,1,), 2 ms_combs, ndens=2),\n",
       " ACEBBasisFunction(0|mus=(0,0,), ns=(1,2,), ls=(0,0,), 1 ms_combs, ndens=2),\n",
       " ACEBBasisFunction(0|mus=(0,0,), ns=(1,2,), ls=(1,1,), 2 ms_combs, ndens=2),\n",
       " ACEBBasisFunction(0|mus=(0,0,), ns=(2,2,), ls=(0,0,), 1 ms_combs, ndens=2),\n",
       " ACEBBasisFunction(0|mus=(0,0,), ns=(2,2,), ls=(1,1,), 2 ms_combs, ndens=2),\n",
       " ACEBBasisFunction(0|mus=(0,1,), ns=(1,1,), ls=(0,0,), 1 ms_combs, ndens=2),\n",
       " ACEBBasisFunction(0|mus=(0,1,), ns=(1,1,), ls=(1,1,), 2 ms_combs, ndens=2),\n",
       " ACEBBasisFunction(0|mus=(1,1,), ns=(1,1,), ls=(0,0,), 1 ms_combs, ndens=2),\n",
       " ACEBBasisFunction(0|mus=(1,1,), ns=(1,1,), ls=(1,1,), 2 ms_combs, ndens=2),\n",
       " ACEBBasisFunction(0|mus=(0,0,0,), ns=(1,1,1,), ls=(0,0,0,), 1 ms_combs, ndens=2),\n",
       " ACEBBasisFunction(0|mus=(0,0,0,), ns=(1,1,1,), ls=(0,1,1,), 2 ms_combs, ndens=2),\n",
       " ACEBBasisFunction(0|mus=(0,0,0,), ns=(1,1,2,), ls=(0,0,0,), 1 ms_combs, ndens=2),\n",
       " ACEBBasisFunction(0|mus=(0,0,0,), ns=(1,1,2,), ls=(0,1,1,), 2 ms_combs, ndens=2),\n",
       " ACEBBasisFunction(0|mus=(0,0,0,), ns=(1,1,2,), ls=(1,1,0,), 2 ms_combs, ndens=2),\n",
       " ACEBBasisFunction(0|mus=(0,0,0,), ns=(1,2,2,), ls=(0,0,0,), 1 ms_combs, ndens=2),\n",
       " ACEBBasisFunction(0|mus=(0,0,0,), ns=(1,2,2,), ls=(0,1,1,), 2 ms_combs, ndens=2),\n",
       " ACEBBasisFunction(0|mus=(0,0,0,), ns=(1,2,2,), ls=(1,0,1,), 2 ms_combs, ndens=2),\n",
       " ACEBBasisFunction(0|mus=(0,0,0,), ns=(2,2,2,), ls=(0,0,0,), 1 ms_combs, ndens=2),\n",
       " ACEBBasisFunction(0|mus=(0,0,0,), ns=(2,2,2,), ls=(0,1,1,), 2 ms_combs, ndens=2),\n",
       " ACEBBasisFunction(0|mus=(0,0,1,), ns=(1,1,1,), ls=(0,0,0,), 1 ms_combs, ndens=2),\n",
       " ACEBBasisFunction(0|mus=(0,0,1,), ns=(1,1,1,), ls=(0,1,1,), 2 ms_combs, ndens=2),\n",
       " ACEBBasisFunction(0|mus=(0,0,1,), ns=(1,1,1,), ls=(1,1,0,), 2 ms_combs, ndens=2),\n",
       " ACEBBasisFunction(0|mus=(0,1,1,), ns=(1,1,1,), ls=(0,0,0,), 1 ms_combs, ndens=2),\n",
       " ACEBBasisFunction(0|mus=(0,1,1,), ns=(1,1,1,), ls=(0,1,1,), 2 ms_combs, ndens=2),\n",
       " ACEBBasisFunction(0|mus=(0,1,1,), ns=(1,1,1,), ls=(1,0,1,), 2 ms_combs, ndens=2),\n",
       " ACEBBasisFunction(0|mus=(1,1,1,), ns=(1,1,1,), ls=(0,0,0,), 1 ms_combs, ndens=2),\n",
       " ACEBBasisFunction(0|mus=(1,1,1,), ns=(1,1,1,), ls=(0,1,1,), 2 ms_combs, ndens=2),\n",
       " ACEBBasisFunction(0|mus=(0,0,0,0,), ns=(1,1,1,1,), ls=(0,0,0,0,), 1 ms_combs, ndens=2),\n",
       " ACEBBasisFunction(0|mus=(0,0,0,0,), ns=(1,1,1,1,), ls=(0,0,1,1,), 2 ms_combs, ndens=2),\n",
       " ACEBBasisFunction(0|mus=(0,0,0,0,), ns=(1,1,1,1,), ls=(1,1,1,1,), 3 ms_combs, ndens=2)]"
      ]
     },
     "execution_count": 50,
     "metadata": {},
     "output_type": "execute_result"
    }
   ],
   "source": [
    "# 31 Al-centered  higher order functions\n",
    "species_type=0 # Al\n",
    "b_basis_functions.basis[species_type]"
   ]
  },
  {
   "cell_type": "code",
   "execution_count": 51,
   "id": "955868d1",
   "metadata": {
    "scrolled": false
   },
   "outputs": [
    {
     "data": {
      "text/plain": [
       "[ACEBBasisFunction(1|mus=(0,0,), ns=(1,1,), ls=(0,0,), 1 ms_combs, ndens=1),\n",
       " ACEBBasisFunction(1|mus=(0,0,), ns=(1,1,), ls=(1,1,), 2 ms_combs, ndens=1),\n",
       " ACEBBasisFunction(1|mus=(0,1,), ns=(1,1,), ls=(0,0,), 1 ms_combs, ndens=1),\n",
       " ACEBBasisFunction(1|mus=(0,1,), ns=(1,1,), ls=(1,1,), 2 ms_combs, ndens=1),\n",
       " ACEBBasisFunction(1|mus=(1,1,), ns=(1,1,), ls=(0,0,), 1 ms_combs, ndens=1),\n",
       " ACEBBasisFunction(1|mus=(1,1,), ns=(1,1,), ls=(1,1,), 2 ms_combs, ndens=1),\n",
       " ACEBBasisFunction(1|mus=(1,1,), ns=(1,2,), ls=(0,0,), 1 ms_combs, ndens=1),\n",
       " ACEBBasisFunction(1|mus=(1,1,), ns=(1,2,), ls=(1,1,), 2 ms_combs, ndens=1),\n",
       " ACEBBasisFunction(1|mus=(1,1,), ns=(2,2,), ls=(0,0,), 1 ms_combs, ndens=1),\n",
       " ACEBBasisFunction(1|mus=(1,1,), ns=(2,2,), ls=(1,1,), 2 ms_combs, ndens=1),\n",
       " ACEBBasisFunction(1|mus=(0,0,0,), ns=(1,1,1,), ls=(0,0,0,), 1 ms_combs, ndens=1),\n",
       " ACEBBasisFunction(1|mus=(0,0,0,), ns=(1,1,1,), ls=(0,1,1,), 2 ms_combs, ndens=1),\n",
       " ACEBBasisFunction(1|mus=(0,0,1,), ns=(1,1,1,), ls=(0,0,0,), 1 ms_combs, ndens=1),\n",
       " ACEBBasisFunction(1|mus=(0,0,1,), ns=(1,1,1,), ls=(0,1,1,), 2 ms_combs, ndens=1),\n",
       " ACEBBasisFunction(1|mus=(0,0,1,), ns=(1,1,1,), ls=(1,1,0,), 2 ms_combs, ndens=1),\n",
       " ACEBBasisFunction(1|mus=(0,1,1,), ns=(1,1,1,), ls=(0,0,0,), 1 ms_combs, ndens=1),\n",
       " ACEBBasisFunction(1|mus=(0,1,1,), ns=(1,1,1,), ls=(0,1,1,), 2 ms_combs, ndens=1),\n",
       " ACEBBasisFunction(1|mus=(0,1,1,), ns=(1,1,1,), ls=(1,0,1,), 2 ms_combs, ndens=1),\n",
       " ACEBBasisFunction(1|mus=(1,1,1,), ns=(1,1,1,), ls=(0,0,0,), 1 ms_combs, ndens=1),\n",
       " ACEBBasisFunction(1|mus=(1,1,1,), ns=(1,1,1,), ls=(0,1,1,), 2 ms_combs, ndens=1),\n",
       " ACEBBasisFunction(1|mus=(1,1,1,), ns=(1,1,2,), ls=(0,0,0,), 1 ms_combs, ndens=1),\n",
       " ACEBBasisFunction(1|mus=(1,1,1,), ns=(1,1,2,), ls=(0,1,1,), 2 ms_combs, ndens=1),\n",
       " ACEBBasisFunction(1|mus=(1,1,1,), ns=(1,1,2,), ls=(1,1,0,), 2 ms_combs, ndens=1),\n",
       " ACEBBasisFunction(1|mus=(1,1,1,), ns=(1,2,2,), ls=(0,0,0,), 1 ms_combs, ndens=1),\n",
       " ACEBBasisFunction(1|mus=(1,1,1,), ns=(1,2,2,), ls=(0,1,1,), 2 ms_combs, ndens=1),\n",
       " ACEBBasisFunction(1|mus=(1,1,1,), ns=(1,2,2,), ls=(1,0,1,), 2 ms_combs, ndens=1),\n",
       " ACEBBasisFunction(1|mus=(1,1,1,), ns=(2,2,2,), ls=(0,0,0,), 1 ms_combs, ndens=1),\n",
       " ACEBBasisFunction(1|mus=(1,1,1,), ns=(2,2,2,), ls=(0,1,1,), 2 ms_combs, ndens=1)]"
      ]
     },
     "execution_count": 51,
     "metadata": {},
     "output_type": "execute_result"
    }
   ],
   "source": [
    "# 28 H-centered higher order functions\n",
    "species_type = 1 # H\n",
    "b_basis_functions.basis[species_type]"
   ]
  },
  {
   "cell_type": "code",
   "execution_count": null,
   "id": "869898e4",
   "metadata": {},
   "outputs": [],
   "source": []
  },
  {
   "cell_type": "code",
   "execution_count": 52,
   "id": "70ae4c87",
   "metadata": {},
   "outputs": [
    {
     "data": {
      "text/plain": [
       "32"
      ]
     },
     "execution_count": 52,
     "metadata": {},
     "output_type": "execute_result"
    }
   ],
   "source": [
    "len(AlH_structure)"
   ]
  },
  {
   "cell_type": "markdown",
   "id": "5fc7b44c",
   "metadata": {},
   "source": [
    "Computed projections in `AlH_calc.projections`"
   ]
  },
  {
   "cell_type": "code",
   "execution_count": 53,
   "id": "1e450678",
   "metadata": {},
   "outputs": [
    {
     "data": {
      "text/plain": [
       "32"
      ]
     },
     "execution_count": 53,
     "metadata": {},
     "output_type": "execute_result"
    }
   ],
   "source": [
    "len(AlH_calc.projections)"
   ]
  },
  {
   "cell_type": "code",
   "execution_count": null,
   "id": "bdef0008",
   "metadata": {},
   "outputs": [],
   "source": []
  },
  {
   "cell_type": "markdown",
   "id": "5a97ffca",
   "metadata": {},
   "source": [
    "## Option 2. Compute projections using compute_B_projections"
   ]
  },
  {
   "cell_type": "code",
   "execution_count": 54,
   "id": "3163e890",
   "metadata": {},
   "outputs": [],
   "source": [
    "from pyace.activelearning import compute_B_projections"
   ]
  },
  {
   "cell_type": "code",
   "execution_count": 55,
   "id": "042cf183",
   "metadata": {},
   "outputs": [
    {
     "name": "stderr",
     "output_type": "stream",
     "text": [
      "100%|██████████| 1/1 [00:00<00:00, 890.89it/s]\n"
     ]
    }
   ],
   "source": [
    "AlH_projections=compute_B_projections(AlH_bbasis_configuration,\n",
    "                                          atomic_env_list=[AlH_structure])"
   ]
  },
  {
   "cell_type": "code",
   "execution_count": 56,
   "id": "6b17d5d7",
   "metadata": {},
   "outputs": [
    {
     "data": {
      "text/plain": [
       "{0: array([[ 7.76542709e-01,  2.88689135e+00,  5.73512744e+00, ...,\n",
       "          3.63631407e-01, -5.20519067e-03,  7.45095431e-05],\n",
       "        [ 7.76542709e-01,  2.88689135e+00,  5.73512744e+00, ...,\n",
       "          3.63631407e-01, -5.20519067e-03,  7.45095431e-05],\n",
       "        [ 7.76542709e-01,  2.88689135e+00,  5.73512744e+00, ...,\n",
       "          3.63631407e-01, -5.20519067e-03,  7.45095431e-05],\n",
       "        ...,\n",
       "        [ 8.47137501e-01,  3.14933602e+00,  6.25650266e+00, ...,\n",
       "          5.15009962e-01, -4.32859932e-31,  3.63813779e-61],\n",
       "        [ 8.47137501e-01,  3.14933602e+00,  6.25650266e+00, ...,\n",
       "          5.15009962e-01, -4.32859932e-31,  3.63813779e-61],\n",
       "        [ 8.47137501e-01,  3.14933602e+00,  6.25650266e+00, ...,\n",
       "          5.15009962e-01, -4.19773190e-31,  3.42147811e-61]]),\n",
       " 1: array([[ 9.52053451e-01,  6.53319771e-02,  2.43395019e-01,\n",
       "          4.85312835e-01,  7.24681718e-01,  0.00000000e+00,\n",
       "          0.00000000e+00,  0.00000000e+00,  0.00000000e+00,\n",
       "          0.00000000e+00,  9.06405774e-01, -7.29430129e-32,\n",
       "          0.00000000e+00,  0.00000000e+00,  0.00000000e+00,\n",
       "          0.00000000e+00,  0.00000000e+00,  0.00000000e+00,\n",
       "          0.00000000e+00,  0.00000000e+00,  8.62946745e-01,\n",
       "         -6.94456471e-32,  0.00000000e+00,  0.00000000e+00,\n",
       "          0.00000000e+00,  0.00000000e+00,  0.00000000e+00,\n",
       "          0.00000000e+00,  0.00000000e+00,  0.00000000e+00,\n",
       "          0.00000000e+00,  0.00000000e+00,  0.00000000e+00,\n",
       "          0.00000000e+00,  0.00000000e+00,  0.00000000e+00,\n",
       "          0.00000000e+00,  0.00000000e+00]])}"
      ]
     },
     "execution_count": 56,
     "metadata": {},
     "output_type": "execute_result"
    }
   ],
   "source": [
    "AlH_projections"
   ]
  },
  {
   "cell_type": "markdown",
   "id": "1c9d8f87",
   "metadata": {},
   "source": [
    "for Al (31 atoms by 46 B-functions):"
   ]
  },
  {
   "cell_type": "code",
   "execution_count": 57,
   "id": "1b200a52",
   "metadata": {},
   "outputs": [
    {
     "data": {
      "text/plain": [
       "(31, 46)"
      ]
     },
     "execution_count": 57,
     "metadata": {},
     "output_type": "execute_result"
    }
   ],
   "source": [
    "AlH_projections[0].shape"
   ]
  },
  {
   "cell_type": "markdown",
   "id": "2af71b08",
   "metadata": {},
   "source": [
    "Corresponding to all basis functions for specie 0"
   ]
  },
  {
   "cell_type": "code",
   "execution_count": 69,
   "id": "69c91d8a",
   "metadata": {},
   "outputs": [
    {
     "data": {
      "text/plain": [
       "46"
      ]
     },
     "execution_count": 69,
     "metadata": {},
     "output_type": "execute_result"
    }
   ],
   "source": [
    "len(b_basis_functions.basis_rank1[0]) + len(b_basis_functions.basis[0])"
   ]
  },
  {
   "cell_type": "markdown",
   "id": "e86c51bb",
   "metadata": {},
   "source": [
    "for H (1 atom by 38 B-functions):"
   ]
  },
  {
   "cell_type": "code",
   "execution_count": 58,
   "id": "e12183c0",
   "metadata": {},
   "outputs": [
    {
     "data": {
      "text/plain": [
       "(1, 38)"
      ]
     },
     "execution_count": 58,
     "metadata": {},
     "output_type": "execute_result"
    }
   ],
   "source": [
    "AlH_projections[1].shape"
   ]
  },
  {
   "cell_type": "markdown",
   "id": "3f5f9cc9",
   "metadata": {},
   "source": [
    "Corresponding to all basis functions for specie 1"
   ]
  },
  {
   "cell_type": "code",
   "execution_count": 68,
   "id": "da08a921",
   "metadata": {},
   "outputs": [
    {
     "data": {
      "text/plain": [
       "38"
      ]
     },
     "execution_count": 68,
     "metadata": {},
     "output_type": "execute_result"
    }
   ],
   "source": [
    "len(b_basis_functions.basis_rank1[1])+len(b_basis_functions.basis[1])"
   ]
  },
  {
   "cell_type": "code",
   "execution_count": null,
   "id": "af639fad",
   "metadata": {},
   "outputs": [],
   "source": []
  }
 ],
 "metadata": {
  "kernelspec": {
   "display_name": "Python (ace)",
   "language": "python",
   "name": "ace"
  },
  "language_info": {
   "codemirror_mode": {
    "name": "ipython",
    "version": 3
   },
   "file_extension": ".py",
   "mimetype": "text/x-python",
   "name": "python",
   "nbconvert_exporter": "python",
   "pygments_lexer": "ipython3",
   "version": "3.8.5"
  }
 },
 "nbformat": 4,
 "nbformat_minor": 5
}
